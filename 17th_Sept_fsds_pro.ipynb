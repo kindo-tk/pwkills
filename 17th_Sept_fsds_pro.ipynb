{
 "cells": [
  {
   "cell_type": "markdown",
   "id": "f272c531",
   "metadata": {},
   "source": [
    "# For Loop :-"
   ]
  },
  {
   "cell_type": "markdown",
   "id": "20943062",
   "metadata": {},
   "source": [
    "# 1. Write a Python program to print numbers from 1 to 10 using a for loop."
   ]
  },
  {
   "cell_type": "code",
   "execution_count": 4,
   "id": "42af8fbd",
   "metadata": {},
   "outputs": [
    {
     "name": "stdout",
     "output_type": "stream",
     "text": [
      "1\n",
      "2\n",
      "3\n",
      "4\n",
      "5\n",
      "6\n",
      "7\n",
      "8\n",
      "9\n",
      "10\n"
     ]
    }
   ],
   "source": [
    "for i in range(1,11):\n",
    "    print(i)"
   ]
  },
  {
   "cell_type": "markdown",
   "id": "2d8c1445",
   "metadata": {},
   "source": [
    "# 2. Explain the difference between a for loop and a while loop in Python."
   ]
  },
  {
   "cell_type": "markdown",
   "id": "7f8220de",
   "metadata": {},
   "source": [
    "for loop:\n",
    "For loops are typically used when we know in advance how many times you want to repeat a block of code, or when you want to iterate over a collection of items. \n"
   ]
  },
  {
   "cell_type": "markdown",
   "id": "66d421af",
   "metadata": {},
   "source": [
    "syntax<br>\n",
    "for item in iterable:<br>\n",
    "    #code to be executed"
   ]
  },
  {
   "cell_type": "markdown",
   "id": "d5172903",
   "metadata": {},
   "source": [
    "while loop:\n",
    "A while loop, on the other hand, repeats a block of code as long as a specified condition is evaluated as True. \n",
    "It doesn't rely on iterating over a sequence; instead, it continuously checks the condition before each iteration"
   ]
  },
  {
   "cell_type": "markdown",
   "id": "886beea0",
   "metadata": {},
   "source": [
    "syntax:<br>\n",
    "while condition:<br>\n",
    "    # Code to be executed while the condition is True<br>\n",
    "    #condition update<br>"
   ]
  },
  {
   "cell_type": "markdown",
   "id": "aeed161c",
   "metadata": {},
   "source": [
    "# 3. Write a Python program to calculate the sum of all numbers from 1 to 100 using a for loop."
   ]
  },
  {
   "cell_type": "code",
   "execution_count": 6,
   "id": "aafc728d",
   "metadata": {},
   "outputs": [
    {
     "name": "stdout",
     "output_type": "stream",
     "text": [
      "Sum of all numbers from 1 to 100 is : 5050\n"
     ]
    }
   ],
   "source": [
    "sum_dig=sum(i for i in range(1,101))\n",
    "print(\"Sum of all numbers from 1 to 100 is :\",sum_dig)"
   ]
  },
  {
   "cell_type": "markdown",
   "id": "0e1ff50b",
   "metadata": {},
   "source": [
    "# 4. How do you iterate through a list using a for loop in Python?"
   ]
  },
  {
   "cell_type": "code",
   "execution_count": 7,
   "id": "ebcc10b4",
   "metadata": {},
   "outputs": [
    {
     "name": "stdout",
     "output_type": "stream",
     "text": [
      "1\n",
      "2\n",
      "3\n",
      "4\n",
      "5\n",
      "6\n",
      "7\n",
      "8\n",
      "9\n"
     ]
    }
   ],
   "source": [
    "#sample list\n",
    "my_list=[1,2,3,4,5,6,7,8,9]     \n",
    "for i in my_list:       #iterating through the elements of list using for loop\n",
    "    print(i)            #printing the elements of list one-by-one"
   ]
  },
  {
   "cell_type": "markdown",
   "id": "cfd929cc",
   "metadata": {},
   "source": [
    "# 5. Write a Python program to find the product of all elements in a list using a for loop.\n"
   ]
  },
  {
   "cell_type": "code",
   "execution_count": 9,
   "id": "44c203fa",
   "metadata": {},
   "outputs": [
    {
     "name": "stdout",
     "output_type": "stream",
     "text": [
      "Product of all elements in the list is: 362880\n"
     ]
    }
   ],
   "source": [
    "#sample list\n",
    "my_list=[1,2,3,4,5,6,7,8,9]  \n",
    "product=1\n",
    "for i in my_list:\n",
    "    product=i*product\n",
    "print(\"Product of all elements in the list is:\",product)"
   ]
  },
  {
   "cell_type": "markdown",
   "id": "74c0b9aa",
   "metadata": {},
   "source": [
    "# 6. Create a Python program that prints all even numbers from 1 to 20 using a for loop."
   ]
  },
  {
   "cell_type": "code",
   "execution_count": 11,
   "id": "b71b4b92",
   "metadata": {},
   "outputs": [
    {
     "name": "stdout",
     "output_type": "stream",
     "text": [
      "Even numbers from 1 to 20 are:\n",
      "2  4  6  8  10  12  14  16  18  20  "
     ]
    }
   ],
   "source": [
    "print(\"Even numbers from 1 to 20 are:\")\n",
    "for i in range(1,21):\n",
    "    if i%2 == 0:\n",
    "        print(i,end=\"  \")"
   ]
  },
  {
   "cell_type": "markdown",
   "id": "46614f41",
   "metadata": {},
   "source": [
    "# 7. Write a Python program that calculates the factorial of a number using a for loop."
   ]
  },
  {
   "cell_type": "code",
   "execution_count": 16,
   "id": "0f9e92ab",
   "metadata": {},
   "outputs": [
    {
     "name": "stdout",
     "output_type": "stream",
     "text": [
      "Enter the number:6\n",
      "Factorial of 6 is 720\n"
     ]
    }
   ],
   "source": [
    "num = int(input(\"Enter the number:\"))\n",
    "fact = 1\n",
    "for i in range(1,num+1):\n",
    "    fact = fact*i\n",
    "print(f\"Factorial of {num} is {fact}\")"
   ]
  },
  {
   "cell_type": "markdown",
   "id": "f25de271",
   "metadata": {},
   "source": [
    "# 8. How can you iterate through the characters of a string using a for loop in Python?"
   ]
  },
  {
   "cell_type": "code",
   "execution_count": 20,
   "id": "a5410558",
   "metadata": {},
   "outputs": [
    {
     "name": "stdout",
     "output_type": "stream",
     "text": [
      "a\n",
      "s\n",
      "s\n",
      "i\n",
      "g\n",
      "n\n",
      "m\n",
      "e\n",
      "n\n",
      "t\n"
     ]
    }
   ],
   "source": [
    "#sample string\n",
    "string=\"assignment\"\n",
    "for char in string:     #iterating through each character of string using for loop\n",
    "    print(char)         #printing each character of the string"
   ]
  },
  {
   "cell_type": "markdown",
   "id": "635228f4",
   "metadata": {},
   "source": [
    "# 9. Write a Python program to find the largest number in a list using a for loop.\n"
   ]
  },
  {
   "cell_type": "code",
   "execution_count": 21,
   "id": "d2920972",
   "metadata": {},
   "outputs": [
    {
     "name": "stdout",
     "output_type": "stream",
     "text": [
      "The largest number in the list [14, 52, 78, 59, 12, 32, 75, 41, 23, 65, 88, 81, 121, 35, 2] is 121\n"
     ]
    }
   ],
   "source": [
    "my_list=[14,52,78,59,12,32,75,41,23,65,88,81,121,35,2]\n",
    "largest=my_list[0]\n",
    "for i in my_list:\n",
    "    if i>largest:\n",
    "        largest=i\n",
    "print(f\"The largest number in the list {my_list} is {largest}\")"
   ]
  },
  {
   "cell_type": "markdown",
   "id": "0ee02f06",
   "metadata": {},
   "source": [
    "# 10. Create a Python program that prints the Fibonacci sequence up to a specified limit using a for loop.\n"
   ]
  },
  {
   "cell_type": "code",
   "execution_count": 33,
   "id": "b85f43f2",
   "metadata": {},
   "outputs": [
    {
     "name": "stdout",
     "output_type": "stream",
     "text": [
      "Enter the value of n:10\n",
      "0\n",
      "1\n",
      "1\n",
      "2\n",
      "3\n",
      "5\n",
      "8\n",
      "13\n",
      "21\n",
      "34\n"
     ]
    }
   ],
   "source": [
    "n=int(input(\"Enter the value of n:\"))\n",
    "a=0\n",
    "b=1\n",
    "if n==1:\n",
    "    print(a)\n",
    "elif n==2:\n",
    "    print(a,b,sep='\\n')\n",
    "elif n>2:\n",
    "    print(a,b,sep='\\n')\n",
    "    for i in range(3,n+1):\n",
    "        a,b=b,a+b\n",
    "        print(b)\n",
    "else:\n",
    "    print(\"Enter positive value on n\")\n",
    "\n"
   ]
  },
  {
   "cell_type": "markdown",
   "id": "90574613",
   "metadata": {},
   "source": [
    "# 11. Write a Python program to count the number of vowels in a given string using a for loop."
   ]
  },
  {
   "cell_type": "code",
   "execution_count": 37,
   "id": "a4ce3957",
   "metadata": {},
   "outputs": [
    {
     "name": "stdout",
     "output_type": "stream",
     "text": [
      "Enter the string:assignment\n",
      "The number of vowels in the string 'assignment' is 3\n"
     ]
    }
   ],
   "source": [
    "string=input(\"Enter the string:\").lower()\n",
    "vowels=\"aeiou\"\n",
    "count=0\n",
    "for char in string:\n",
    "    if char in vowels:\n",
    "        count+=1\n",
    "print(f\"The number of vowels in the string '{string}' is {count}\")"
   ]
  },
  {
   "cell_type": "markdown",
   "id": "ee4007be",
   "metadata": {},
   "source": [
    "# 12. Create a Python program that generates a multiplication table for a given number using a for loop"
   ]
  },
  {
   "cell_type": "code",
   "execution_count": 41,
   "id": "1bef4af3",
   "metadata": {},
   "outputs": [
    {
     "name": "stdout",
     "output_type": "stream",
     "text": [
      "Enter the number:7\n",
      "Multiplication table for 7:\n",
      "7 * 1 = 7\n",
      "7 * 2 = 14\n",
      "7 * 3 = 21\n",
      "7 * 4 = 28\n",
      "7 * 5 = 35\n",
      "7 * 6 = 42\n",
      "7 * 7 = 49\n",
      "7 * 8 = 56\n",
      "7 * 9 = 63\n",
      "7 * 10 = 70\n"
     ]
    }
   ],
   "source": [
    "num = int(input(\"Enter the number:\"))\n",
    "print(f\"Multiplication table for {num}:\")\n",
    "for i in range(1,11):\n",
    "    print(f\"{num} * {i} = {num*i}\")"
   ]
  },
  {
   "cell_type": "markdown",
   "id": "c0b6c5de",
   "metadata": {},
   "source": [
    "# 13. Write a Python program to reverse a list using a for loop."
   ]
  },
  {
   "cell_type": "code",
   "execution_count": 55,
   "id": "cbe7acfc",
   "metadata": {},
   "outputs": [
    {
     "name": "stdout",
     "output_type": "stream",
     "text": [
      "Original list: [14, 52, 78, 59, 12, 32, 75, 2]\n",
      "Reversed list: [2, 75, 32, 12, 59, 78, 52, 14]\n"
     ]
    }
   ],
   "source": [
    "my_list = [14, 52, 78, 59, 12, 32, 75, 2]\n",
    "print(\"Original list:\", my_list)\n",
    "\n",
    "reversed_list = []\n",
    "\n",
    "for i in range(len(my_list) - 1, -1, -1):\n",
    "    reversed_list.append(my_list[i])\n",
    "\n",
    "print(\"Reversed list:\", reversed_list)"
   ]
  },
  {
   "cell_type": "markdown",
   "id": "7f9b7733",
   "metadata": {},
   "source": [
    "# 14. Write a Python program to find the common elements between two lists using a for loop.\n"
   ]
  },
  {
   "cell_type": "code",
   "execution_count": 1,
   "id": "6c0c22ea",
   "metadata": {},
   "outputs": [
    {
     "name": "stdout",
     "output_type": "stream",
     "text": [
      "Common elements between the 2 lists are: [2, 4, 6, 8, 10]\n"
     ]
    }
   ],
   "source": [
    "list1=[1,2,3,4,5,6,7,8,9,10]\n",
    "list2=[2,4,6,8,10]\n",
    "common_list=[]\n",
    "for i in list1:\n",
    "    if i in list2:\n",
    "        common_list.append(i)\n",
    "print(\"Common elements between the 2 lists are:\",common_list)"
   ]
  },
  {
   "cell_type": "markdown",
   "id": "bceb1e94",
   "metadata": {},
   "source": [
    "# 15. Explain how to use a for loop to iterate through the keys and values of a dictionary in Python."
   ]
  },
  {
   "cell_type": "code",
   "execution_count": 2,
   "id": "348f92c5",
   "metadata": {},
   "outputs": [],
   "source": [
    "#sample dictionary\n",
    "my_dict={'name':\"Katappa\",'age':51,'skills':['fighting','swimming','horse riding'],'batch':4}"
   ]
  },
  {
   "cell_type": "code",
   "execution_count": 3,
   "id": "4bcd7c88",
   "metadata": {},
   "outputs": [
    {
     "name": "stdout",
     "output_type": "stream",
     "text": [
      "name\n",
      "age\n",
      "skills\n",
      "batch\n"
     ]
    }
   ],
   "source": [
    "#for loop to iterate through the keys only\n",
    "\n",
    "for i in my_dict.keys():\n",
    "    print(i)"
   ]
  },
  {
   "cell_type": "code",
   "execution_count": 4,
   "id": "e6d1f732",
   "metadata": {},
   "outputs": [
    {
     "name": "stdout",
     "output_type": "stream",
     "text": [
      "Katappa\n",
      "51\n",
      "['fighting', 'swimming', 'horse riding']\n",
      "4\n"
     ]
    }
   ],
   "source": [
    "#for loop to iterate through the values only\n",
    "\n",
    "for i in my_dict.values():\n",
    "    print(i)"
   ]
  },
  {
   "cell_type": "code",
   "execution_count": 5,
   "id": "8257b902",
   "metadata": {},
   "outputs": [
    {
     "name": "stdout",
     "output_type": "stream",
     "text": [
      "('name', 'Katappa')\n",
      "('age', 51)\n",
      "('skills', ['fighting', 'swimming', 'horse riding'])\n",
      "('batch', 4)\n"
     ]
    }
   ],
   "source": [
    "#for loop to iterate through the items in the dictionary\n",
    "\n",
    "for i in my_dict.items():\n",
    "    print(i)"
   ]
  },
  {
   "cell_type": "markdown",
   "id": "053f7167",
   "metadata": {},
   "source": [
    "# 16. Write a Python program to find the GCD (Greatest Common Divisor) of two numbers using a for loop."
   ]
  },
  {
   "cell_type": "code",
   "execution_count": 13,
   "id": "fba326c1",
   "metadata": {},
   "outputs": [
    {
     "name": "stdout",
     "output_type": "stream",
     "text": [
      "Enter the first number:45958\n",
      "Enter the second number:2348\n",
      "GCD of 45958 and 2348 is 2\n"
     ]
    }
   ],
   "source": [
    "num1 = int(input(\"Enter the first number:\"))\n",
    "num2 = int(input(\"Enter the second number:\"))\n",
    "gcd = 1\n",
    "\n",
    "for i in range(1,min(num1,num2)+1):\n",
    "    if num1%i == 0 and num2%i == 0:\n",
    "        gcd = i\n",
    "print(f\"GCD of {num1} and {num2} is {gcd}\")"
   ]
  },
  {
   "cell_type": "markdown",
   "id": "e7f5b3cb",
   "metadata": {},
   "source": [
    "# 17. Create a Python program that checks if a string is a palindrome using a for loop.\n"
   ]
  },
  {
   "cell_type": "code",
   "execution_count": 21,
   "id": "744518f7",
   "metadata": {},
   "outputs": [
    {
     "name": "stdout",
     "output_type": "stream",
     "text": [
      "Enter a string: radar\n",
      "'radar' is palindrome.\n"
     ]
    }
   ],
   "source": [
    "def is_palindrome(string):\n",
    "   \n",
    "    start = 0\n",
    "    end = len(string) - 1\n",
    "\n",
    "    for i in range(len(string) // 2):\n",
    "        \n",
    "        if string[start] != string[end]:\n",
    "            return False\n",
    "        \n",
    "        start += 1\n",
    "        end -= 1\n",
    "\n",
    "    return True\n",
    "\n",
    "\n",
    "string = input(\"Enter a string: \")\n",
    "\n",
    "if is_palindrome(string):\n",
    "    print(f\"'{string}' is palindrome.\")\n",
    "else:\n",
    "    print(f\"'{string}' is not palindrome.\")"
   ]
  },
  {
   "cell_type": "markdown",
   "id": "3ecceb49",
   "metadata": {},
   "source": [
    "# 18. Write a Python program to remove duplicates from a list using a for loop."
   ]
  },
  {
   "cell_type": "code",
   "execution_count": 29,
   "id": "88951951",
   "metadata": {},
   "outputs": [
    {
     "name": "stdout",
     "output_type": "stream",
     "text": [
      "Original list:\n",
      " [1, 2, 4, 52, 6, 1, 2, 47, 85, 1, 65, 2, 1, 5, 2, 1]\n",
      "List after removing duplicates:\n",
      " [1, 2, 4, 52, 6, 47, 85, 65, 5]\n"
     ]
    }
   ],
   "source": [
    "sample_list=[1,2,4,52,6,1,2,47,85,1,65,2,1,5,2,1]\n",
    "unique_list=[]\n",
    "print(\"Original list:\\n\",sample_list)\n",
    "for i in sample_list:\n",
    "    if i not in unique_list:\n",
    "        unique_list.append(i)\n",
    "print(\"List after removing duplicates:\\n\",unique_list)\n",
    "\n"
   ]
  },
  {
   "cell_type": "markdown",
   "id": "53eb2bc9",
   "metadata": {},
   "source": [
    "# 19. Create a Python program that counts the number of words in a sentence using a for loop."
   ]
  },
  {
   "cell_type": "code",
   "execution_count": 33,
   "id": "fbfab4fe",
   "metadata": {},
   "outputs": [
    {
     "name": "stdout",
     "output_type": "stream",
     "text": [
      "Enter a sentence: The quick brown fox jumped over a lazy dog\n",
      "Number of words in the sentence 'The quick brown fox jumped over a lazy dog' is: 9\n"
     ]
    }
   ],
   "source": [
    "sentence = input(\"Enter a sentence: \")\n",
    "count=0\n",
    "words = sentence.split()\n",
    "for i in words:\n",
    "    count+=1\n",
    "print(f\"Number of words in the sentence '{sentence}' is: {count}\")"
   ]
  },
  {
   "cell_type": "markdown",
   "id": "cbb40683",
   "metadata": {},
   "source": [
    "# 20. Write a Python program to find the sum of all odd numbers from 1 to 50 using a for loop"
   ]
  },
  {
   "cell_type": "code",
   "execution_count": 34,
   "id": "df9a4d65",
   "metadata": {},
   "outputs": [
    {
     "name": "stdout",
     "output_type": "stream",
     "text": [
      "Sum of odd number from 1 to 50:  625\n"
     ]
    }
   ],
   "source": [
    "odd_sum = sum(i for i in range(1,51) if i%2 != 0)\n",
    "print(\"Sum of odd number from 1 to 50: \",odd_sum)"
   ]
  },
  {
   "cell_type": "markdown",
   "id": "a646da35",
   "metadata": {},
   "source": [
    "# 21. Write a Python program that checks if a given year is a leap year using a for loop."
   ]
  },
  {
   "cell_type": "code",
   "execution_count": 38,
   "id": "4bd9995c",
   "metadata": {},
   "outputs": [
    {
     "name": "stdout",
     "output_type": "stream",
     "text": [
      "Enter a year:2100\n",
      "2100  is not a leap year\n"
     ]
    }
   ],
   "source": [
    "year = int(input(\"Enter a year:\"))\n",
    "for i in range(1):\n",
    "    if year%400 == 0:\n",
    "        print(year,\" is a leap year\")\n",
    "    elif year%4 == 0 and year%100 != 0:\n",
    "        print(year,\" is a leap year\")\n",
    "    else:\n",
    "        print(year,\" is not a leap year\")\n"
   ]
  },
  {
   "cell_type": "markdown",
   "id": "8cd63803",
   "metadata": {},
   "source": [
    "# 22. Create a Python program that calculates the square root of a number using a for loop."
   ]
  },
  {
   "cell_type": "code",
   "execution_count": 48,
   "id": "1cbfcb5f",
   "metadata": {},
   "outputs": [
    {
     "name": "stdout",
     "output_type": "stream",
     "text": [
      "Enter a number: 45\n",
      "The square root of 45.0 is approximately 6.708\n"
     ]
    }
   ],
   "source": [
    "def square_root(number, iterations=100):\n",
    "    \n",
    "    guess = number / 2.0\n",
    "    for _ in range(iterations):\n",
    "        guess = (guess + number / guess) / 2.0\n",
    "\n",
    "    return guess\n",
    "\n",
    "input_number = float(input(\"Enter a number: \"))\n",
    "\n",
    "result = square_root(input_number)\n",
    "\n",
    "print(f\"The square root of {input_number} is approximately {result:.3f}\")\n"
   ]
  },
  {
   "cell_type": "markdown",
   "id": "21a685fc",
   "metadata": {},
   "source": [
    "# 23. Write a Python program to find the LCM (Least Common Multiple) of two numbers using a for loop."
   ]
  },
  {
   "cell_type": "code",
   "execution_count": 60,
   "id": "85eef93d",
   "metadata": {},
   "outputs": [
    {
     "name": "stdout",
     "output_type": "stream",
     "text": [
      "Enter the first number:25\n",
      "Enter the second number:145\n",
      "LCM of 25 and 145 is 725\n"
     ]
    }
   ],
   "source": [
    "num1 = int(input(\"Enter the first number:\"))\n",
    "num2 = int(input(\"Enter the second number:\"))\n",
    "gcd=1\n",
    "for i in range(1,min(num1,num2)+1):\n",
    "    if num1%i == 0 and num2%i == 0:\n",
    "        gcd=i\n",
    "lcm = int(num1*num2/gcd)\n",
    "print(f\"LCM of {num1} and {num2} is {lcm}\")"
   ]
  },
  {
   "cell_type": "markdown",
   "id": "703e6e98",
   "metadata": {},
   "source": [
    "# If else :"
   ]
  },
  {
   "cell_type": "markdown",
   "id": "8be3fdc2",
   "metadata": {},
   "source": [
    "# 1. Write a Python program to check if a number is positive, negative, or zero using an if-else statement.\n"
   ]
  },
  {
   "cell_type": "code",
   "execution_count": 63,
   "id": "14ab12ee",
   "metadata": {},
   "outputs": [
    {
     "name": "stdout",
     "output_type": "stream",
     "text": [
      "Enter the number:-5\n",
      "-5 is negative\n"
     ]
    }
   ],
   "source": [
    "num=int(input(\"Enter the number:\"))\n",
    "if num>=0:\n",
    "    if num==0:\n",
    "        print(f\"{num} is zero\")\n",
    "    else:\n",
    "        print(f\"{num} is positive\")\n",
    "else:\n",
    "    print(f\"{num} is negative\")"
   ]
  },
  {
   "cell_type": "markdown",
   "id": "9c783176",
   "metadata": {},
   "source": [
    "# 2. Create a Python program that checks if a given number is even or odd using an if-else statement.\n"
   ]
  },
  {
   "cell_type": "code",
   "execution_count": 69,
   "id": "d6e76ebe",
   "metadata": {},
   "outputs": [
    {
     "name": "stdout",
     "output_type": "stream",
     "text": [
      "Enter the number:13\n",
      "13 is odd\n"
     ]
    }
   ],
   "source": [
    "num = int(input(\"Enter the number:\"))\n",
    "if num%2 == 0:\n",
    "    print(num,\"is even\")\n",
    "else:\n",
    "    print(num,\"is odd\")"
   ]
  },
  {
   "cell_type": "markdown",
   "id": "9b8d33f6",
   "metadata": {},
   "source": [
    "# 3. How can you use nested if-else statements in Python, and provide an example?"
   ]
  },
  {
   "cell_type": "code",
   "execution_count": 70,
   "id": "66a5d8f2",
   "metadata": {},
   "outputs": [
    {
     "name": "stdout",
     "output_type": "stream",
     "text": [
      "Enter the number:54\n",
      "54 is positive\n"
     ]
    }
   ],
   "source": [
    "'''\n",
    "In case of nested if-else statement if our initial condition is true then we check for another condition. \n",
    "'''\n",
    "#for example\n",
    "num = int(input(\"Enter the number:\"))\n",
    "if num>=0:              #this is our first condition\n",
    "    if num==0:          #if the previous condition is true then we copme to this condition\n",
    "        print(f\"{num} is zero\")\n",
    "    else:\n",
    "        print(f\"{num} is positive\")\n",
    "else:\n",
    "    print(f\"{num} is negative\")"
   ]
  },
  {
   "cell_type": "markdown",
   "id": "3b33664b",
   "metadata": {},
   "source": [
    "# 4. Write a Python program to determine the largest of three numbers using if-else."
   ]
  },
  {
   "cell_type": "code",
   "execution_count": 71,
   "id": "41fc9ac8",
   "metadata": {},
   "outputs": [
    {
     "name": "stdout",
     "output_type": "stream",
     "text": [
      "Enter the first number: 45\n",
      "Enter the second number: 21\n",
      "Enter the third number: 52\n",
      "\n",
      "maximum of 45,21,52 is 52\n"
     ]
    }
   ],
   "source": [
    "a = int(input(\"Enter the first number: \"))\n",
    "b = int(input(\"Enter the second number: \"))\n",
    "c = int(input(\"Enter the third number: \"))\n",
    "\n",
    "if a>=b and a>=c:\n",
    "    max=a\n",
    "elif b>=c and b>=a:\n",
    "    max=b\n",
    "else:\n",
    "    max=c\n",
    "print(f\"\\nmaximum of {a},{b},{c} is {max}\")"
   ]
  },
  {
   "cell_type": "markdown",
   "id": "a8a74d17",
   "metadata": {},
   "source": [
    "# 5. Write a Python program that calculates the absolute value of a number using if-else.\n"
   ]
  },
  {
   "cell_type": "code",
   "execution_count": 75,
   "id": "de5fe6a7",
   "metadata": {},
   "outputs": [
    {
     "name": "stdout",
     "output_type": "stream",
     "text": [
      "Enter the number:-13\n",
      "Absolute value of -13 is 13\n"
     ]
    }
   ],
   "source": [
    "num = int(input(\"Enter the number:\"))\n",
    "if num<0:\n",
    "    abs_value = num*-1\n",
    "else:\n",
    "    abs_value=num\n",
    "print(f\"Absolute value of {num} is {abs_value}\")"
   ]
  },
  {
   "cell_type": "markdown",
   "id": "52e22f93",
   "metadata": {},
   "source": [
    "# 6. Create a Python program that checks if a given character is a vowel or consonant using if-else.\n"
   ]
  },
  {
   "cell_type": "code",
   "execution_count": 82,
   "id": "fa3f4b5f",
   "metadata": {},
   "outputs": [
    {
     "name": "stdout",
     "output_type": "stream",
     "text": [
      "Enter a character:e\n",
      "'e' is a vowel\n"
     ]
    }
   ],
   "source": [
    "char = input(\"Enter a character:\")\n",
    "vowels=\"aeiouAEIOU\"\n",
    "if char in vowels:\n",
    "    print(f\"'{char}' is a vowel\")\n",
    "else:\n",
    "    print(f\"'{char}' is a consonant\")"
   ]
  },
  {
   "cell_type": "markdown",
   "id": "39310473",
   "metadata": {},
   "source": [
    "# 7. Write a Python program to determine if a user is eligible to vote based on their age using if-else."
   ]
  },
  {
   "cell_type": "code",
   "execution_count": 83,
   "id": "2e0a2e19",
   "metadata": {},
   "outputs": [
    {
     "name": "stdout",
     "output_type": "stream",
     "text": [
      "Enter your age:21\n",
      "You are eligible to vote\n"
     ]
    }
   ],
   "source": [
    "age = int(input(\"Enter your age:\"))\n",
    "if age >= 18:\n",
    "    print(\"You are eligible to vote\")\n",
    "else:\n",
    "    print(\"You are not eligible to vote\")"
   ]
  },
  {
   "cell_type": "markdown",
   "id": "a9365bc9",
   "metadata": {},
   "source": [
    "# 8. Create a Python program that calculates the discount amount based on the purchase amount using if-else."
   ]
  },
  {
   "cell_type": "code",
   "execution_count": 92,
   "id": "547b494b",
   "metadata": {},
   "outputs": [
    {
     "name": "stdout",
     "output_type": "stream",
     "text": [
      "Enter your purchase amount:₹1200\n",
      "your Discounted amount is: 1080.0\n"
     ]
    }
   ],
   "source": [
    "purchase_amt = float(input(\"Enter your purchase amount:₹\"))\n",
    "if purchase_amt >= 1000:\n",
    "    discount_amt = purchase_amt-purchase_amt*.1        #10% discount above purchase of ₹1000\n",
    "else:\n",
    "    discount_amt = purchase_amt\n",
    "print(\"your Discounted amount is:\",discount_amt)"
   ]
  },
  {
   "cell_type": "markdown",
   "id": "bbf4ff0f",
   "metadata": {},
   "source": [
    "# 9. Write a Python program to check if a number is within a specified range using if-else."
   ]
  },
  {
   "cell_type": "code",
   "execution_count": 97,
   "id": "fe560efb",
   "metadata": {},
   "outputs": [
    {
     "name": "stdout",
     "output_type": "stream",
     "text": [
      "Enter a number:148\n",
      "148 is in range\n"
     ]
    }
   ],
   "source": [
    "#here we take the range to be 55-150\n",
    "\n",
    "num = int(input(\"Enter a number:\"))\n",
    "if num in range(55,151):\n",
    "    print(num,\"is in range\")\n",
    "else:\n",
    "    print(num,\"is not in range\")"
   ]
  },
  {
   "cell_type": "markdown",
   "id": "06df1c64",
   "metadata": {},
   "source": [
    "# 10. Create a Python program that determines the grade of a student based on their score using if-else.\n"
   ]
  },
  {
   "cell_type": "code",
   "execution_count": 99,
   "id": "5ec77cbe",
   "metadata": {},
   "outputs": [
    {
     "name": "stdout",
     "output_type": "stream",
     "text": [
      "Enter your marks out of 100:94\n",
      "Your grade is: P\n"
     ]
    }
   ],
   "source": [
    "marks=float(input(\"Enter your marks out of 100:\"))\n",
    "if marks>=33:\n",
    "    grade='P'\n",
    "else:\n",
    "    grade='F'\n",
    "print(\"Your grade is:\",grade)"
   ]
  },
  {
   "cell_type": "markdown",
   "id": "c22a993a",
   "metadata": {},
   "source": [
    "# 11. Write a Python program to check if a string is empty or not using if-else."
   ]
  },
  {
   "cell_type": "code",
   "execution_count": 108,
   "id": "d63981cf",
   "metadata": {},
   "outputs": [
    {
     "name": "stdout",
     "output_type": "stream",
     "text": [
      "Enter a string:sample\n",
      "String is not empty\n"
     ]
    }
   ],
   "source": [
    "string = input(\"Enter a string:\")\n",
    "if len(string)>0:\n",
    "    print(\"String is not empty\")\n",
    "else:\n",
    "    print(\"String is empty\")"
   ]
  },
  {
   "cell_type": "markdown",
   "id": "2cc54f84",
   "metadata": {},
   "source": [
    "# 12. Create a Python program that identifies the type of a triangle (e.g., equilateral, isosceles, or scalene) based on input values using if-else."
   ]
  },
  {
   "cell_type": "code",
   "execution_count": 110,
   "id": "22af259d",
   "metadata": {},
   "outputs": [
    {
     "name": "stdout",
     "output_type": "stream",
     "text": [
      "Enter the first side:10\n",
      "Enter the second side:12\n",
      "Enter the third side:15\n",
      "This is a scelene triangle\n"
     ]
    }
   ],
   "source": [
    "side1 = float(input(\"Enter the first side:\"))\n",
    "side2 = float(input(\"Enter the second side:\"))\n",
    "side3 = float(input(\"Enter the third side:\"))\n",
    "\n",
    "if side1+side2>side3 and side1+side3>side2 and side2+side3>side1:\n",
    "    if side1 == side2 == side3:\n",
    "        print(\"This is an equilateral triangle\")\n",
    "    elif side1 == side2 or side2 == side3 or side3 == side1:\n",
    "        print(\"This is an isosceles triangle\")\n",
    "    else:\n",
    "        print(\"This is a scelene triangle\")\n",
    "else:\n",
    "    print(\"The sides don't form a triangle\")"
   ]
  },
  {
   "cell_type": "markdown",
   "id": "09234390",
   "metadata": {},
   "source": [
    "# 13. Write a Python program to determine the day of the week based on a user-provided number using if-else.\n"
   ]
  },
  {
   "cell_type": "code",
   "execution_count": 115,
   "id": "910886b7",
   "metadata": {},
   "outputs": [
    {
     "name": "stdout",
     "output_type": "stream",
     "text": [
      "Enter a number between 1-7:2\n",
      "The day of the week for 2 is monday.\n"
     ]
    }
   ],
   "source": [
    "num = int(input(\"Enter a number between 1-7:\"))\n",
    "if num == 1:\n",
    "    day=\"Sunday\"\n",
    "elif num == 2:\n",
    "    day=\"monday\"\n",
    "elif num == 3:\n",
    "    day=\"wednesday\"\n",
    "elif num == 4:\n",
    "    day=\"thursday\"\n",
    "elif num == 5:\n",
    "    day=\"friday\"\n",
    "elif num == 6:\n",
    "    day=\"saturay\"\n",
    "elif num == 7:\n",
    "    day=\"saturday\"\n",
    "else:\n",
    "    day=\"Invalid input\"\n",
    "\n",
    "print(f\"The day of the week for {num} is {day}.\")\n"
   ]
  },
  {
   "cell_type": "markdown",
   "id": "e9daa288",
   "metadata": {},
   "source": [
    "# 14. Create a Python program that checks if a given year is a leap year using both if-else and a function."
   ]
  },
  {
   "cell_type": "code",
   "execution_count": 120,
   "id": "729f686b",
   "metadata": {},
   "outputs": [
    {
     "name": "stdout",
     "output_type": "stream",
     "text": [
      "Enter a year:2100\n",
      "2100  is not a leap year\n"
     ]
    }
   ],
   "source": [
    "def check_year(year):\n",
    "    if year%400 == 0 or (year%4 == 0 and year%100 != 0):\n",
    "        print(year,\" is a leap year\")\n",
    "    else:\n",
    "        print(year,\" is not a leap year\")\n",
    "\n",
    "year = int(input(\"Enter a year:\"))\n",
    "check_year(year)"
   ]
  },
  {
   "cell_type": "markdown",
   "id": "c6bc3290",
   "metadata": {},
   "source": [
    "# 15. How do you use the \"assert\" statement in Python to add debugging checks within if-else blocks?"
   ]
  },
  {
   "cell_type": "code",
   "execution_count": 127,
   "id": "58c39208",
   "metadata": {},
   "outputs": [
    {
     "name": "stdout",
     "output_type": "stream",
     "text": [
      "Enter a number:12\n",
      "x is greater than 5 but less than 20.\n"
     ]
    }
   ],
   "source": [
    "x = int(input(\"Enter a number:\"))\n",
    "\n",
    "if x > 5:\n",
    "    assert x < 20, \"x should be less than 20\" #if the assertion condition is not satisfied we get assertion error and the message is visible\n",
    "    print(\"x is greater than 5 but less than 20.\")\n",
    "else:\n",
    "    print(\"x is not greater than 5.\")"
   ]
  },
  {
   "cell_type": "markdown",
   "id": "c03052c3",
   "metadata": {},
   "source": [
    "# 16. Create a Python program that determines the eligibility of a person for a senior citizen discount based on age using if-else.\n"
   ]
  },
  {
   "cell_type": "code",
   "execution_count": 129,
   "id": "f568d6fe",
   "metadata": {},
   "outputs": [
    {
     "name": "stdout",
     "output_type": "stream",
     "text": [
      "Enter your age:65\n",
      "You are eligible for senior citizen discount\n"
     ]
    }
   ],
   "source": [
    "age = int(input(\"Enter your age:\"))\n",
    "if age >= 60:\n",
    "    print(\"You are eligible for senior citizen discount\")\n",
    "else:\n",
    "    print(\"You are not eligible for senior citizen discount\")"
   ]
  },
  {
   "cell_type": "markdown",
   "id": "dfd0cf55",
   "metadata": {},
   "source": [
    "# 17. Write a Python program to categorize a given character as uppercase, lowercase, or neither using if-else."
   ]
  },
  {
   "cell_type": "code",
   "execution_count": 133,
   "id": "6a88b680",
   "metadata": {},
   "outputs": [
    {
     "name": "stdout",
     "output_type": "stream",
     "text": [
      "Enter a character:x\n",
      "'x' is lowercase\n"
     ]
    }
   ],
   "source": [
    "char = input(\"Enter a character:\")\n",
    "if char.isupper():\n",
    "    print(f\"'{char}' is uppercase\")\n",
    "elif char.islower():\n",
    "    print(f\"'{char}' is lowercase\")\n",
    "else:\n",
    "    print(f\"'{char}' is neither uppercase nor lowercase\")"
   ]
  },
  {
   "cell_type": "markdown",
   "id": "ef254073",
   "metadata": {},
   "source": [
    "# 18. Write a Python program to determine the roots of a quadratic equation using if-else.\n"
   ]
  },
  {
   "cell_type": "code",
   "execution_count": 134,
   "id": "125c9403",
   "metadata": {},
   "outputs": [
    {
     "name": "stdout",
     "output_type": "stream",
     "text": [
      "Enter the coefficients 'a','b','c' of the quadratic equation of the form ax^2+bx+c.\n",
      "Enter a:1\n",
      "Enter b:-4\n",
      "Enter c:4\n",
      "Roots of the quadratic equation are real,equal and they are: 2.0\n"
     ]
    }
   ],
   "source": [
    "import math\n",
    "\n",
    "print(\"Enter the coefficients 'a','b','c' of the quadratic equation of the form ax^2+bx+c.\")\n",
    "a=int(input(\"Enter a:\"))\n",
    "b=int(input(\"Enter b:\"))\n",
    "c=int(input(\"Enter c:\"))\n",
    "d=b**2-(4*a*c)\n",
    "if d>0:\n",
    "    root1=(-b+math.sqrt(d))/2*a\n",
    "    root2=(-b-math.sqrt(d))/2*a\n",
    "    print(f\"Roots of the quadratic equation are real,unique and they are: {root1} and {root2}\")\n",
    "elif d==0:\n",
    "    root=-b/(2*a)\n",
    "    print(f\"Roots of the quadratic equation are real,equal and they are: {root}\")\n",
    "else:\n",
    "    real_part = -b / (2*a)\n",
    "    imaginary_part = math.sqrt(abs(d)) / (2*a)\n",
    "    root1 = complex(real_part, imaginary_part)\n",
    "    root2 = complex(real_part, -imaginary_part)\n",
    "    print(f\"The roots are complex: {root1} and {root2}\")"
   ]
  },
  {
   "cell_type": "markdown",
   "id": "89a56398",
   "metadata": {},
   "source": [
    "# 19. Create a Python program that checks if a given year is a century year or not using if-else."
   ]
  },
  {
   "cell_type": "code",
   "execution_count": 136,
   "id": "09c8ad8b",
   "metadata": {},
   "outputs": [
    {
     "name": "stdout",
     "output_type": "stream",
     "text": [
      "Enter a year:2000\n",
      "2000 is a century year.\n"
     ]
    }
   ],
   "source": [
    "year = int(input(\"Enter a year:\"))\n",
    "if year%100 == 0:\n",
    "    print(year,\"is a century year.\")\n",
    "else:\n",
    "    print(year,\"is not a century year\")"
   ]
  },
  {
   "cell_type": "markdown",
   "id": "f986fe05",
   "metadata": {},
   "source": [
    "# 20. Write a Python program to determine if a given number is a perfect square using if-else.\n"
   ]
  },
  {
   "cell_type": "code",
   "execution_count": 148,
   "id": "ab693dcc",
   "metadata": {},
   "outputs": [
    {
     "name": "stdout",
     "output_type": "stream",
     "text": [
      "Enter a number:27\n",
      "27 is not a perfect square\n"
     ]
    }
   ],
   "source": [
    "num = int(input(\"Enter a number:\"))\n",
    "sq = int(num**0.5)\n",
    "if sq**2 == num:\n",
    "    print(num,\"is a perfect square\")\n",
    "else:\n",
    "    print(num,\"is not a perfect square\")"
   ]
  },
  {
   "cell_type": "markdown",
   "id": "8c161b96",
   "metadata": {},
   "source": [
    "# 21. Explain the purpose of the \"continue\" and \"break\" statements within if-else loops."
   ]
  },
  {
   "cell_type": "code",
   "execution_count": 149,
   "id": "89c6b1e8",
   "metadata": {},
   "outputs": [
    {
     "name": "stdout",
     "output_type": "stream",
     "text": [
      "1\n",
      "2\n",
      "3\n",
      "4\n",
      "6\n",
      "7\n",
      "8\n",
      "9\n",
      "10\n"
     ]
    }
   ],
   "source": [
    "'''\n",
    "The \"continue\" statement is used to skip the rest of the current iteration of a loop and move on to the next iteration.\n",
    "'''\n",
    "#for example\n",
    "\n",
    "for i in range(1,11):    \n",
    "    if i==5:                #skip iteration when i is 5\n",
    "        continue                  #when i is equal to 5, it will skip this iteration as a result we don't get 5 in output\n",
    "    else:\n",
    "        print(i)"
   ]
  },
  {
   "cell_type": "code",
   "execution_count": 150,
   "id": "cc19b67b",
   "metadata": {},
   "outputs": [
    {
     "name": "stdout",
     "output_type": "stream",
     "text": [
      "1\n",
      "2\n",
      "3\n",
      "4\n"
     ]
    }
   ],
   "source": [
    "'''\n",
    "The \"break\" statement is used to terminate the loop prematurely. When the \"break\" statement is encountered, \n",
    "the loop immediately exits, regardless of whether the loop's condition or iteration count is satisfied.\n",
    "'''\n",
    "\n",
    "#for example\n",
    "\n",
    "for i in range(1,11):    \n",
    "    if i==5:                #it will terminate the iteration when i is 5\n",
    "        break                 \n",
    "    else:\n",
    "        print(i)"
   ]
  },
  {
   "cell_type": "markdown",
   "id": "a594919f",
   "metadata": {},
   "source": [
    "# 22. Create a Python program that calculates the BMI (Body Mass Index) of a person based on their weight and height using if-else.\n"
   ]
  },
  {
   "cell_type": "code",
   "execution_count": 151,
   "id": "319b727c",
   "metadata": {},
   "outputs": [
    {
     "name": "stdout",
     "output_type": "stream",
     "text": [
      "Enter your height in cm:165\n",
      "Enter your weight in kg:60\n",
      "Your BMI is: 22.03856749311295\n",
      "You are normal\n"
     ]
    }
   ],
   "source": [
    "height = float(input(\"Enter your height in cm:\"))\n",
    "weight = float(input(\"Enter your weight in kg:\"))\n",
    "bmi = weight/((height/100)**2)\n",
    "print(\"Your BMI is:\",bmi)\n",
    "if bmi<=18.5:\n",
    "    print(\"You are underweight\")\n",
    "elif 18.5<bmi<25:\n",
    "    print(\"You are normal\")\n",
    "elif 25<bmi<30:\n",
    "    print(\"You are overweight\")\n",
    "else:\n",
    "    print(\"You are obese\")"
   ]
  },
  {
   "cell_type": "markdown",
   "id": "459001c7",
   "metadata": {},
   "source": [
    "# 23. How can you use the \"filter()\" function with if-else statements to filter elements from a list?\n"
   ]
  },
  {
   "cell_type": "code",
   "execution_count": 152,
   "id": "935bd43e",
   "metadata": {},
   "outputs": [
    {
     "name": "stdout",
     "output_type": "stream",
     "text": [
      "[2, 4, 6, 8, 10]\n"
     ]
    }
   ],
   "source": [
    "numbers = [1, 2, 3, 4, 5, 6, 7, 8, 9, 10]\n",
    "\n",
    "# Define a filtering function \n",
    "def is_even(x):\n",
    "    return x % 2 == 0\n",
    "\n",
    "# Use filter() to filter elements based on the condition\n",
    "filtered_numbers = filter(is_even, numbers)\n",
    "\n",
    "\n",
    "filtered_numbers_list = list(filtered_numbers)\n",
    "\n",
    "print(filtered_numbers_list)\n"
   ]
  },
  {
   "cell_type": "markdown",
   "id": "62bf0a58",
   "metadata": {},
   "source": [
    "# 24. Write a Python program to determine if a given number is prime or not using if-else.\n"
   ]
  },
  {
   "cell_type": "code",
   "execution_count": 162,
   "id": "288a9257",
   "metadata": {},
   "outputs": [
    {
     "name": "stdout",
     "output_type": "stream",
     "text": [
      "Enter a number:7\n",
      "7 is prime\n"
     ]
    }
   ],
   "source": [
    "num = int(input(\"Enter a number:\"))\n",
    "count=0\n",
    "for i in range(1,num+1):\n",
    "    if num%i == 0:\n",
    "        count+=1\n",
    "if count==2:\n",
    "    print(num,\"is prime\")\n",
    "else:\n",
    "    print(num,\"is not prime\")"
   ]
  },
  {
   "cell_type": "markdown",
   "id": "ba41e67a",
   "metadata": {},
   "source": [
    "# Map :-"
   ]
  },
  {
   "cell_type": "markdown",
   "id": "34325122",
   "metadata": {},
   "source": [
    "# 1. Explain the purpose of the `map()` function in Python and provide an example of how it can be used to apply a function to each element of an iterable."
   ]
  },
  {
   "cell_type": "markdown",
   "id": "0244c11a",
   "metadata": {},
   "source": [
    "The map function applies a given function to each element in an iterable (e.g., a list) and returns an iterable containing the results.<br>\n",
    "Syntax:<br>\n",
    "\n",
    "map(function, iterable)<br>"
   ]
  },
  {
   "cell_type": "code",
   "execution_count": 1,
   "id": "30f0ff62",
   "metadata": {},
   "outputs": [
    {
     "name": "stdout",
     "output_type": "stream",
     "text": [
      "Original list [1, 2, 3, 4, 5]\n",
      "Doubled list [2, 4, 6, 8, 10]\n"
     ]
    }
   ],
   "source": [
    "'''\n",
    "For example:\n",
    "We have a list and we want to double each elements of the list\n",
    "'''\n",
    "\n",
    "numbers = [1,2,3,4,5]\n",
    "doubled_numbers = list(map((lambda a:a*2),numbers))\n",
    "print(\"Original list\",numbers)\n",
    "print(\"Doubled list\",doubled_numbers)"
   ]
  },
  {
   "cell_type": "markdown",
   "id": "f7809324",
   "metadata": {},
   "source": [
    "# 2. Write a Python program that uses the `map()` function to square each element of a list of numbers."
   ]
  },
  {
   "cell_type": "code",
   "execution_count": 2,
   "id": "93290b94",
   "metadata": {},
   "outputs": [
    {
     "name": "stdout",
     "output_type": "stream",
     "text": [
      "Original list [1, 2, 3, 4, 5]\n",
      "Squared list [1, 4, 9, 16, 25]\n"
     ]
    }
   ],
   "source": [
    "numbers = [1,2,3,4,5]\n",
    "sq_num = list(map((lambda a:a**2),numbers))\n",
    "print(\"Original list\",numbers)\n",
    "print(\"Squared list\",sq_num)"
   ]
  },
  {
   "cell_type": "markdown",
   "id": "c40b5ea4",
   "metadata": {},
   "source": [
    "# 3. How does the `map()` function differ from a list comprehension in Python, and when would you choose one over the other?"
   ]
  },
  {
   "cell_type": "markdown",
   "id": "bf7f5a6d",
   "metadata": {},
   "source": [
    "map() is a built-in Python function used for applying a specified function to each item in an iterable.\n",
    "\n",
    "Syntax: It takes two arguments - the function and the iterable.\n",
    "\n",
    "Output: map() returns a map object, which is an iterator. To obtain a list or another iterable, you need to convert it explicitly using list(), tuple(), or another constructor."
   ]
  },
  {
   "cell_type": "markdown",
   "id": "9e01565a",
   "metadata": {},
   "source": [
    "List comprehensions are a concise and readable way to create new lists by applying expressions to each element in an iterable.\n",
    "\n",
    "Syntax: They use square brackets [ ] and can include optional conditionals for filtering elements.\n",
    "\n",
    "Output: List comprehensions directly produce a new list without the need for additional conversion."
   ]
  },
  {
   "cell_type": "markdown",
   "id": "ec11b3f3",
   "metadata": {},
   "source": [
    "List comprehensions are often preferred in Python for their simplicity and readability, while map() is a better choice when memory efficiency is a concern or when working with more complex transformations that are better represented as functions."
   ]
  },
  {
   "cell_type": "markdown",
   "id": "e215a78f",
   "metadata": {},
   "source": [
    "# 4. Create a Python program that uses the `map()` function to convert a list of names to uppercase."
   ]
  },
  {
   "cell_type": "code",
   "execution_count": 3,
   "id": "a0a62a54",
   "metadata": {},
   "outputs": [
    {
     "name": "stdout",
     "output_type": "stream",
     "text": [
      "Original list: ['salman', 'akshay', 'ajay', 'shahrukh', 'aamir', 'saif']\n",
      "Uppercase list: ['SALMAN', 'AKSHAY', 'AJAY', 'SHAHRUKH', 'AAMIR', 'SAIF']\n"
     ]
    }
   ],
   "source": [
    "my_list = [\"salman\",\"akshay\",\"ajay\",\"shahrukh\",\"aamir\",\"saif\"]\n",
    "upper_list = list(map((lambda a:a.upper()),my_list))\n",
    "print(\"Original list:\",my_list)\n",
    "print(\"Uppercase list:\",upper_list)"
   ]
  },
  {
   "cell_type": "markdown",
   "id": "1e2c1a16",
   "metadata": {},
   "source": [
    "# 5. Write a Python program that uses the `map()` function to calculate the length of each word in a list of strings."
   ]
  },
  {
   "cell_type": "code",
   "execution_count": 4,
   "id": "3abc6ab0",
   "metadata": {},
   "outputs": [
    {
     "name": "stdout",
     "output_type": "stream",
     "text": [
      "Length of each word in the list: [6, 6, 4, 8, 5, 4]\n"
     ]
    }
   ],
   "source": [
    "my_list = [\"salman\",\"akshay\",\"ajay\",\"shahrukh\",\"aamir\",\"saif\"]\n",
    "length_list = list(map((lambda a:len(a)),my_list))\n",
    "print(\"Length of each word in the list:\",length_list)"
   ]
  },
  {
   "cell_type": "markdown",
   "id": "b3b8ef53",
   "metadata": {},
   "source": [
    "# 6. How can you use the `map()` function to apply a custom function to elements of multiple lists simultaneously in Python?"
   ]
  },
  {
   "cell_type": "code",
   "execution_count": 9,
   "id": "d8d204f0",
   "metadata": {},
   "outputs": [
    {
     "name": "stdout",
     "output_type": "stream",
     "text": [
      "sum of elements of the 2 list: [15, 24, 33, 42, 51]\n"
     ]
    }
   ],
   "source": [
    "'''\n",
    "we will define a custom function for adding 2 numbers\n",
    "and add elements of 2 lists.\n",
    "'''\n",
    "\n",
    "list1 = [10,20,30,40,50]\n",
    "list2 = [5,4,3,2,1]\n",
    "sum_list = list(map(lambda a,b:a+b,list1,list2)) #using map function on 2 lists simultaneously\n",
    "print(\"sum of elements of the 2 list:\",sum_list)"
   ]
  },
  {
   "cell_type": "markdown",
   "id": "617874ae",
   "metadata": {},
   "source": [
    "# 7. Create a Python program that uses `map()` to convert a list of temperatures from Celsius to Fahrenheit.\n"
   ]
  },
  {
   "cell_type": "code",
   "execution_count": 10,
   "id": "66034768",
   "metadata": {},
   "outputs": [
    {
     "name": "stdout",
     "output_type": "stream",
     "text": [
      "Celsius list: [0, 30, 40, 100, 50]\n",
      "Fahrenheit list: [32.0, 86.0, 104.0, 212.0, 122.0]\n"
     ]
    }
   ],
   "source": [
    "celsius_list = [0,30,40,100,50]\n",
    "fahrenheit_list = list(map((lambda a:(9*a/5)+32),celsius_list))\n",
    "print(\"Celsius list:\",celsius_list)\n",
    "print(\"Fahrenheit list:\",fahrenheit_list)"
   ]
  },
  {
   "cell_type": "markdown",
   "id": "28ed8cf3",
   "metadata": {},
   "source": [
    "# 8. Write a Python program that uses the `map()` function to round each element of a list of floating-point numbers to the nearest integer."
   ]
  },
  {
   "cell_type": "code",
   "execution_count": 11,
   "id": "a586509e",
   "metadata": {},
   "outputs": [
    {
     "name": "stdout",
     "output_type": "stream",
     "text": [
      "Float list: [12.5, 13.8, 45.21, 32.1, 11.98, 42.6, 4.2]\n",
      "Nearest integer list: [12, 14, 45, 32, 12, 43, 4]\n"
     ]
    }
   ],
   "source": [
    "float_list = [12.5,13.8,45.21,32.1,11.98,42.6,4.2]\n",
    "nearest_int_list = list(map((lambda a:round(a)),float_list))\n",
    "print(\"Float list:\",float_list)\n",
    "print(\"Nearest integer list:\",nearest_int_list)"
   ]
  },
  {
   "cell_type": "markdown",
   "id": "8e5b6300",
   "metadata": {},
   "source": [
    "# Reduce :-"
   ]
  },
  {
   "cell_type": "markdown",
   "id": "ce092d9e",
   "metadata": {},
   "source": [
    "# 1. What is the `reduce()` function in Python, and what module should you import to use it? Provide an example of its basic usage."
   ]
  },
  {
   "cell_type": "markdown",
   "id": "6ed7ee7d",
   "metadata": {},
   "source": [
    "The reduce function applies a given function cumulatively to the elements of an iterable, reducing it to a single value. \n",
    "\n",
    "We should import functools module to use it.\n",
    "\n",
    "# syntax :\n",
    "from functools import reduce\n"
   ]
  },
  {
   "cell_type": "code",
   "execution_count": 15,
   "id": "67c80da1",
   "metadata": {},
   "outputs": [
    {
     "name": "stdout",
     "output_type": "stream",
     "text": [
      "sum of all the numbers in the list: 55\n"
     ]
    }
   ],
   "source": [
    "'''\n",
    "For example:\n",
    "we can find the sum of all elements in a list\n",
    "'''\n",
    "from functools import reduce\n",
    "\n",
    "l=[1,2,3,4,5,6,7,8,9,10]\n",
    "\n",
    "sum_num = reduce((lambda a,b:a+b),l)\n",
    "\n",
    "print(\"sum of all the numbers in the list:\",sum_num)"
   ]
  },
  {
   "cell_type": "markdown",
   "id": "d2bbd6f9",
   "metadata": {},
   "source": [
    "# 2. Write a Python program that uses the `reduce()` function to find the product of all elements in a list."
   ]
  },
  {
   "cell_type": "code",
   "execution_count": 14,
   "id": "a05dcac6",
   "metadata": {},
   "outputs": [
    {
     "name": "stdout",
     "output_type": "stream",
     "text": [
      "Product of all elements in the list is: 5040\n"
     ]
    }
   ],
   "source": [
    "my_list = [1,2,3,4,5,6,7]\n",
    "product = reduce((lambda a,b:a*b),my_list)\n",
    "print(\"Product of all elements in the list is:\",product)"
   ]
  },
  {
   "cell_type": "markdown",
   "id": "79805cc8",
   "metadata": {},
   "source": [
    "# 3. Create a Python program that uses `reduce()` to find the maximum element in a list of numbers."
   ]
  },
  {
   "cell_type": "code",
   "execution_count": 17,
   "id": "1a1c65b4",
   "metadata": {},
   "outputs": [
    {
     "name": "stdout",
     "output_type": "stream",
     "text": [
      "Maximum element in the list is: 231\n"
     ]
    }
   ],
   "source": [
    "my_list = [2,44,52,41,63,20,-85,63,45,95,231,12,41,121]\n",
    "\n",
    "max_ele = reduce((lambda a,b:a if a>b else b),my_list)\n",
    "\n",
    "print(\"Maximum element in the list is:\",max_ele)"
   ]
  },
  {
   "cell_type": "markdown",
   "id": "47357333",
   "metadata": {},
   "source": [
    "# 4. How can you use the `reduce()` function to concatenate a list of strings into a single string?"
   ]
  },
  {
   "cell_type": "code",
   "execution_count": 4,
   "id": "ab4038fe",
   "metadata": {},
   "outputs": [
    {
     "name": "stdout",
     "output_type": "stream",
     "text": [
      "String list: ['This', 'is', 'a', 'sample', 'string']\n",
      "concatenated list of string: This is a sample string\n"
     ]
    }
   ],
   "source": [
    "from functools import reduce\n",
    "my_list = ['This', 'is', 'a', 'sample', 'string']\n",
    "string = reduce((lambda a,b:a+\" \"+b),my_list)\n",
    "print(\"String list:\",my_list)\n",
    "print(\"concatenated list of string:\",string)"
   ]
  },
  {
   "cell_type": "markdown",
   "id": "3fb04669",
   "metadata": {},
   "source": [
    "# 5. Write a Python program that calculates the factorial of a number using the `reduce()` function."
   ]
  },
  {
   "cell_type": "code",
   "execution_count": 31,
   "id": "d0809e96",
   "metadata": {},
   "outputs": [
    {
     "name": "stdout",
     "output_type": "stream",
     "text": [
      "Enter the number whose factorial is to be found:4\n",
      "Factorial of 4 is 24\n"
     ]
    }
   ],
   "source": [
    "from functools import reduce\n",
    "\n",
    "n = int(input(\"Enter the number whose factorial is to be found:\"))\n",
    "\n",
    "factorial = reduce(lambda a,b:a*b,range(1,n+1))\n",
    "print(f\"Factorial of {n} is {factorial}\")\n"
   ]
  },
  {
   "cell_type": "markdown",
   "id": "49643ceb",
   "metadata": {},
   "source": [
    "# 6. Create a Python program that uses `reduce()` to find the GCD (Greatest Common Divisor) of a list of numbers."
   ]
  },
  {
   "cell_type": "code",
   "execution_count": 50,
   "id": "e08aca09",
   "metadata": {},
   "outputs": [
    {
     "name": "stdout",
     "output_type": "stream",
     "text": [
      "GCD of the elements of the list [56, 42, 58, 96, 108] is 2\n"
     ]
    }
   ],
   "source": [
    "from functools import reduce\n",
    "\n",
    "my_list = [56,42,58,96,108]\n",
    "\n",
    "#defining a function to find gcd of 2 numbers\n",
    "def find_gcd(a,b):\n",
    "    gcd = 1\n",
    "    for i in range(1,min(a,b)+1):\n",
    "        if a%i == 0 and b%i == 0:\n",
    "            gcd=i\n",
    "    return gcd\n",
    "        \n",
    "gcd = reduce(find_gcd,my_list)\n",
    "\n",
    "print(f\"GCD of the elements of the list {my_list} is {gcd}\")"
   ]
  },
  {
   "cell_type": "markdown",
   "id": "f0691f1a",
   "metadata": {},
   "source": [
    "# 7. Write a Python program that uses the `reduce()` function to find the sum of the digits of a given number."
   ]
  },
  {
   "cell_type": "code",
   "execution_count": 51,
   "id": "734b04be",
   "metadata": {},
   "outputs": [
    {
     "name": "stdout",
     "output_type": "stream",
     "text": [
      "Enter the number whose sum of digits is required:45\n",
      "Sum of the digits of the number 45 is 9\n"
     ]
    }
   ],
   "source": [
    "from functools import reduce\n",
    "num = input(\"Enter the number whose sum of digits is required:\")\n",
    "\n",
    "dig_sum = reduce(lambda a,b:int(a)+int(b),num)\n",
    "\n",
    "print(f\"Sum of the digits of the number {int(num)} is {dig_sum}\")"
   ]
  },
  {
   "cell_type": "markdown",
   "id": "27881fd4",
   "metadata": {},
   "source": [
    "# Filter :-"
   ]
  },
  {
   "cell_type": "markdown",
   "id": "0d69fcee",
   "metadata": {},
   "source": [
    "# 1. Explain the purpose of the `filter()` function in Python and provide an example of how it can be used to filter elements from an iterable."
   ]
  },
  {
   "cell_type": "markdown",
   "id": "622d5aca",
   "metadata": {},
   "source": [
    "The filter function filters elements from an iterable based on a provided function's condition and returns an iterable containing the filtered elements.\n",
    "\n",
    "Syntax:\n",
    "\n",
    "filter(function, iterable)"
   ]
  },
  {
   "cell_type": "code",
   "execution_count": 52,
   "id": "7452f995",
   "metadata": {},
   "outputs": [
    {
     "name": "stdout",
     "output_type": "stream",
     "text": [
      "Original list: [1, 2, 3, 4, 5, 6, 7, 8, 9, 10]\n",
      "Filtered list with only odd elements [1, 3, 5, 7, 9]\n"
     ]
    }
   ],
   "source": [
    "'''\n",
    "For example:\n",
    "we have a list of numbers we will filter out the odd numbers from the list using filter() function\n",
    "'''\n",
    "\n",
    "my_list = [1,2,3,4,5,6,7,8,9,10]\n",
    "odd_list = list(filter((lambda a:a%2!=0),my_list))\n",
    "print(\"Original list:\",my_list)\n",
    "print(\"Filtered list with only odd elements\",odd_list)"
   ]
  },
  {
   "cell_type": "markdown",
   "id": "4fd163c0",
   "metadata": {},
   "source": [
    "# 2. Write a Python program that uses the `filter()` function to select even numbers from a list of integers."
   ]
  },
  {
   "cell_type": "code",
   "execution_count": 53,
   "id": "72805314",
   "metadata": {},
   "outputs": [
    {
     "name": "stdout",
     "output_type": "stream",
     "text": [
      "Original list: [1, 2, 3, 4, 5, 6, 7, 8, 9, 10]\n",
      "Filtered list with only even elements [2, 4, 6, 8, 10]\n"
     ]
    }
   ],
   "source": [
    "my_list = [1,2,3,4,5,6,7,8,9,10]\n",
    "even_list = list(filter((lambda a:a%2==0),my_list))\n",
    "print(\"Original list:\",my_list)\n",
    "print(\"Filtered list with only even elements\",even_list)"
   ]
  },
  {
   "cell_type": "markdown",
   "id": "2ef65a91",
   "metadata": {},
   "source": [
    "# 3. Create a Python program that uses the `filter()` function to select names that start with a specific letter from a list of strings."
   ]
  },
  {
   "cell_type": "code",
   "execution_count": 58,
   "id": "9942ce0c",
   "metadata": {},
   "outputs": [
    {
     "name": "stdout",
     "output_type": "stream",
     "text": [
      "Enter the initial character:r\n",
      "Names starting with 'r' are ['ram', 'ramayan', 'ravan']\n"
     ]
    }
   ],
   "source": [
    "my_list = [\"ram\",\"ramayan\",\"ravan\",\"shyam\",\"sameer\",\"sundar\",\"noni\",\"karn\",\"thala\"]\n",
    "ch = input(\"Enter the initial character:\").lower()\n",
    "filtered_list = list(filter((lambda l:l[0]==ch),my_list))\n",
    "if len(filtered_list)>0:\n",
    "    print(f\"Names starting with '{ch}' are {filtered_list}\")\n",
    "else:\n",
    "    print(f\"No names in the list start with '{ch}'\")\n"
   ]
  },
  {
   "cell_type": "markdown",
   "id": "bfff6aa2",
   "metadata": {},
   "source": [
    "# 4. Write a Python program that uses the `filter()` function to select prime numbers from a list of integers.\n"
   ]
  },
  {
   "cell_type": "code",
   "execution_count": 92,
   "id": "795591be",
   "metadata": {},
   "outputs": [
    {
     "name": "stdout",
     "output_type": "stream",
     "text": [
      "original list: [1, 2, 3, 4, 5, 6, 7, 8, 9, 10]\n",
      "Filtered list with prime numbers: [2, 3, 5, 7]\n"
     ]
    }
   ],
   "source": [
    "my_list = [1,2,3,4,5,6,7,8,9,10]\n",
    "\n",
    "#defining function to find prime number\n",
    "def is_prime(num):\n",
    "    count=0\n",
    "    for i in range(1,num+1):\n",
    "        if num%i ==0:\n",
    "            count+=1\n",
    "    if count == 2:\n",
    "        return True\n",
    "    else:\n",
    "        return False\n",
    "prime_list = list(filter(is_prime,my_list))\n",
    "print(\"original list:\",my_list)\n",
    "print(\"Filtered list with prime numbers:\",prime_list)"
   ]
  },
  {
   "cell_type": "markdown",
   "id": "03b71093",
   "metadata": {},
   "source": [
    "# 5. How can you use the `filter()` function to remove None values from a list in Python?"
   ]
  },
  {
   "cell_type": "code",
   "execution_count": 114,
   "id": "345ec9ce",
   "metadata": {},
   "outputs": [
    {
     "name": "stdout",
     "output_type": "stream",
     "text": [
      "original list: [1, 2, 3, None, 5, 8, None, 85, None]\n",
      "Filtered list without None values: [1, 2, 3, 5, 8, 85]\n"
     ]
    }
   ],
   "source": [
    "my_list = [1,2,3,None,5,8,None,85,None]\n",
    "\n",
    "filtered_list = list(filter((lambda l:l is not None),my_list))\n",
    "\n",
    "print(\"original list:\",my_list)\n",
    "print(\"Filtered list without None values:\",filtered_list)"
   ]
  },
  {
   "cell_type": "code",
   "execution_count": 113,
   "id": "c45bc921",
   "metadata": {},
   "outputs": [
    {
     "data": {
      "text/plain": [
       "[1, 2, 3, 5, 8, 85]"
      ]
     },
     "execution_count": 113,
     "metadata": {},
     "output_type": "execute_result"
    }
   ],
   "source": [
    "filtered_list"
   ]
  },
  {
   "cell_type": "markdown",
   "id": "ae5f53a4",
   "metadata": {},
   "source": [
    "# 6. Create a Python program that uses `filter()` to select words longer than a certain length from a list of strings."
   ]
  },
  {
   "cell_type": "code",
   "execution_count": 117,
   "id": "4d3875f3",
   "metadata": {},
   "outputs": [
    {
     "name": "stdout",
     "output_type": "stream",
     "text": [
      "original list: ['ram', 'ramayan', 'ravan', 'shyam', 'sameer', 'sundar', 'noni', 'karn', 'thala']\n",
      "\n",
      "Filtered list with words of length greater than 5: ['ramayan', 'sameer', 'sundar']\n"
     ]
    }
   ],
   "source": [
    "my_list = [\"ram\",\"ramayan\",\"ravan\",\"shyam\",\"sameer\",\"sundar\",\"noni\",\"karn\",\"thala\"]\n",
    "filtered_list = list(filter((lambda l:len(l)>5),my_list))    #selecting words longer than 5\n",
    "print(\"original list:\",my_list)\n",
    "print(\"\\nFiltered list with words of length greater than 5:\",filtered_list)"
   ]
  },
  {
   "cell_type": "markdown",
   "id": "4edb7d09",
   "metadata": {},
   "source": [
    "# 7. Write a Python program that uses the `filter()` function to select elements greater than a specified threshold from a list of values."
   ]
  },
  {
   "cell_type": "code",
   "execution_count": 121,
   "id": "22e8e8c5",
   "metadata": {},
   "outputs": [
    {
     "name": "stdout",
     "output_type": "stream",
     "text": [
      "Original list:\n",
      " [20, 52, 4, 5, 75, 85, 6, 2, 4, 36, 45, 2, 5, 36, 5, 2, 65, 3, 5, 32, 6, 2, 58, 36, 5, 3, 96, 45, 36, 96, 3, 5, 2, 6]\n",
      "Enter the threshold value:60\n",
      "Filtered list with values greater than 60 is [75, 85, 65, 96, 96]\n"
     ]
    }
   ],
   "source": [
    "my_list = [20,52,4,5,75,85,6,2,4,36,45,2,5,36,5,2,65,3,5,32,6,2,58,36,5,3,96,45,36,96,3,5,2,6]\n",
    "print(\"Original list:\\n\",my_list)\n",
    "value = int(input(\"Enter the threshold value:\"))\n",
    "filtered_list = list(filter((lambda l:l>value),my_list))\n",
    "if len(filtered_list)>0:\n",
    "    print(f\"Filtered list with values greater than {value} is {filtered_list}\")\n",
    "else:\n",
    "    print(f\"No element in the list is greater than {value}\")"
   ]
  },
  {
   "cell_type": "markdown",
   "id": "6d9fefe5",
   "metadata": {},
   "source": [
    "# Recursion:-"
   ]
  },
  {
   "cell_type": "markdown",
   "id": "e0e40dcd",
   "metadata": {},
   "source": [
    "# 1. Explain the concept of recursion in Python. How does it differ from iteration?"
   ]
  },
  {
   "cell_type": "markdown",
   "id": "0500233d",
   "metadata": {},
   "source": [
    "<h1>Recursion in Python:</h1>\n",
    "Recursion is a programming technique where a function calls itself to solve a problem. \n",
    "In Python, a recursive function is a function that performs a task in part and delegates the remaining part of the task to itself.\n",
    "Recursive functions typically have two parts:\n",
    "\n",
    "<h2>Base Case(s):</h2> These are the conditions under which the function returns a result directly without making any further recursive calls. Base cases are essential to prevent infinite recursion and provide a stopping point for the recursion.\n",
    "\n",
    "<h2>Recursive Case(s):</h2> These are the conditions under which the function calls itself with modified arguments to solve a smaller or simpler version of the original problem. The function keeps making these recursive calls until it reaches the base case(s) and then works its way back up, combining the results to solve the original problem."
   ]
  },
  {
   "cell_type": "markdown",
   "id": "59c44d43",
   "metadata": {},
   "source": [
    "<h1>Differences between Recursion and iteration are:</h1>\n",
    "\n",
    "<h2>Control Flow:</h2>\n",
    "\n",
    "Recursion: Control flow is managed by making recursive function calls, where each call is a new invocation of the function.\n",
    "Iteration: Control flow is managed using loops (e.g., for and while loops) that repeatedly execute a block of code until a specified condition is met.\n",
    "\n",
    "<h2>Termination Condition:</h2>\n",
    "\n",
    "Recursion: Requires a base case or termination condition that specifies when the recursion should stop. The function returns a result when the base case is met.\n",
    "Iteration: Requires a loop condition that determines when the loop should terminate. The loop continues until the condition is false.\n",
    "\n",
    "<h2>Method of Repeating:</h2>\n",
    "\n",
    "Recursion: Achieves repetition by making a function call to itself with modified arguments, solving a smaller or simpler instance of the problem in each call.\n",
    "Iteration: Achieves repetition by repeatedly executing a block of code within a loop without making new function calls."
   ]
  },
  {
   "cell_type": "markdown",
   "id": "efaa52e5",
   "metadata": {},
   "source": [
    "# 2. Write a Python program to calculate the factorial of a number using recursion"
   ]
  },
  {
   "cell_type": "code",
   "execution_count": 135,
   "id": "0f1e6bf1",
   "metadata": {},
   "outputs": [
    {
     "name": "stdout",
     "output_type": "stream",
     "text": [
      "Enter the number whose factorial is to be found:6\n",
      "factorial of 6 is 720\n"
     ]
    }
   ],
   "source": [
    "def fact(num):\n",
    "    if num == 0:\n",
    "        return 1\n",
    "    else:\n",
    "        return num*fact(num-1)\n",
    "    \n",
    "num = int(input(\"Enter the number whose factorial is to be found:\"))\n",
    "print(f\"factorial of {num} is {fact(num)}\")"
   ]
  },
  {
   "cell_type": "markdown",
   "id": "f11bed4c",
   "metadata": {},
   "source": [
    "# 3. Create a recursive Python function to find the nth Fibonacci number."
   ]
  },
  {
   "cell_type": "code",
   "execution_count": 137,
   "id": "e7f31006",
   "metadata": {},
   "outputs": [
    {
     "name": "stdout",
     "output_type": "stream",
     "text": [
      "Enter the value of n:10\n",
      "10th term of the fibonacci series is 55\n"
     ]
    }
   ],
   "source": [
    "def fibo(n):\n",
    "    if n <= 1:\n",
    "        return n\n",
    "    else:\n",
    "        return fibo(n-1)+fibo(n-2)\n",
    "\n",
    "num = int(input(\"Enter the value of n:\"))\n",
    "print(f\"{num}th term of the fibonacci series is {fibo(num)}\")"
   ]
  },
  {
   "cell_type": "markdown",
   "id": "d6ae447a",
   "metadata": {},
   "source": [
    "# 4. Write a recursive Python function to calculate the sum of all elements in a list."
   ]
  },
  {
   "cell_type": "code",
   "execution_count": 144,
   "id": "45c389d7",
   "metadata": {},
   "outputs": [
    {
     "name": "stdout",
     "output_type": "stream",
     "text": [
      "Sum of all the elements in the list [12, 45, 12, 10, 32, 56, 85] is 252\n"
     ]
    }
   ],
   "source": [
    "my_list = [12,45,12,10,32,56,85]\n",
    "\n",
    "def ele_sum(my_list):\n",
    "    if len(my_list)==1:\n",
    "        return my_list[0]\n",
    "    else:\n",
    "        return my_list[0] + ele_sum(my_list[1::])\n",
    "\n",
    "print(f\"Sum of all the elements in the list {my_list} is {ele_sum(my_list)}\")"
   ]
  },
  {
   "cell_type": "markdown",
   "id": "bbe61c8b",
   "metadata": {},
   "source": [
    "# 5. How can you prevent a recursive function from running indefinitely, causing a stack overflow error?"
   ]
  },
  {
   "cell_type": "markdown",
   "id": "71e8b2a4",
   "metadata": {},
   "source": [
    "Preventing a recursive function from running indefinitely and causing a stack overflow error is essential to ensure the proper execution of your program. Here are several strategies to prevent infinite recursion:\n",
    "\n",
    "<h2>1-Base Case:</h2> Ensure that your recursive function has a well-defined base case. The base case defines when the recursion should stop. When the input to the function reaches this base case, the function should return a result or perform a specific action without making a recursive call.\n",
    "\n",
    "\n",
    "<h2>2-Progress Toward Base Case:</h2> Make sure that the recursive function makes progress towards the base case in each recursive call. In other words, ensure that the input to the function gets closer to the base case with each recursive call.\n",
    "\n",
    "\n",
    "<h2>3-Conditional Checks:</h2> Use conditional checks to limit recursion based on certain conditions. For example, you can check if the input meets certain criteria and decide whether to continue with the recursive call or not.\n",
    "\n",
    "\n"
   ]
  },
  {
   "cell_type": "markdown",
   "id": "b8025839",
   "metadata": {},
   "source": [
    "# 6. Create a recursive Python function to find the greatest common divisor (GCD) of two numbers using the Euclidean algorithm."
   ]
  },
  {
   "cell_type": "code",
   "execution_count": 147,
   "id": "6cebf0fd",
   "metadata": {},
   "outputs": [
    {
     "name": "stdout",
     "output_type": "stream",
     "text": [
      "Enter the first number:48\n",
      "Enter the second number:52\n",
      "The GCD of 48 and 52 is 4\n"
     ]
    }
   ],
   "source": [
    "def gcd(a, b):\n",
    "    # Base case: GCD(a, 0) = a, where a is the greater number.\n",
    "    if b == 0:\n",
    "        return a\n",
    "    else:\n",
    "        # Recursive case: GCD(a, b) is equivalent to GCD(b, a % b).\n",
    "        return gcd(b, a % b)\n",
    "\n",
    "\n",
    "num1 = int(input(\"Enter the first number:\"))\n",
    "num2 = int(input(\"Enter the second number:\"))\n",
    "result = gcd(num1, num2)\n",
    "print(f\"The GCD of {num1} and {num2} is {result}\")"
   ]
  },
  {
   "cell_type": "markdown",
   "id": "f23a8c3b",
   "metadata": {},
   "source": [
    "# 7. Write a recursive Python function to reverse a string"
   ]
  },
  {
   "cell_type": "code",
   "execution_count": 23,
   "id": "fdb9a249",
   "metadata": {},
   "outputs": [
    {
     "name": "stdout",
     "output_type": "stream",
     "text": [
      "Enter a string:assignment\n",
      "Original string: assignment\n",
      "reversed string: tnemngissa\n"
     ]
    }
   ],
   "source": [
    "def rev_str(string):\n",
    "    if len(string)<=1:\n",
    "        return string\n",
    "    else:\n",
    "        return string[-1]+rev_str(string[:-1])\n",
    "string = input(\"Enter a string:\")\n",
    "print(\"Original string:\",string)\n",
    "print(\"reversed string:\",rev_str(string))"
   ]
  },
  {
   "cell_type": "markdown",
   "id": "a42f6004",
   "metadata": {},
   "source": [
    "# 8. Create a recursive Python function to calculate the power of a number (x^n)."
   ]
  },
  {
   "cell_type": "code",
   "execution_count": 156,
   "id": "3bcd26ff",
   "metadata": {},
   "outputs": [
    {
     "name": "stdout",
     "output_type": "stream",
     "text": [
      "Enter number(x):2\n",
      "Enter power(n)5\n",
      "2^5 is 32\n"
     ]
    }
   ],
   "source": [
    "def power(x,n):\n",
    "    if n == 0:\n",
    "        return 1\n",
    "    else:\n",
    "        return x * power(x,n-1)\n",
    "\n",
    "x = int(input(\"Enter number(x):\"))\n",
    "n = int(input(\"Enter power(n)\"))\n",
    "print(f\"{x}^{n} is {power(x,n)}\")"
   ]
  },
  {
   "cell_type": "markdown",
   "id": "c3a1df5f",
   "metadata": {},
   "source": [
    "# 9. Write a recursive Python function to find all permutations of a given string."
   ]
  },
  {
   "cell_type": "code",
   "execution_count": 5,
   "id": "c521c826",
   "metadata": {},
   "outputs": [
    {
     "name": "stdout",
     "output_type": "stream",
     "text": [
      "Permutations of 'xyz':\n",
      "xyz\n",
      "xzy\n",
      "yxz\n",
      "yzx\n",
      "zxy\n",
      "zyx\n"
     ]
    }
   ],
   "source": [
    "def find_permutations(input_str):\n",
    "    if len(input_str) == 1:\n",
    "        return [input_str]\n",
    "\n",
    "    all_permutations = []\n",
    "\n",
    "    for i in range(len(input_str)):\n",
    "        first_char = input_str[i]\n",
    "        remaining_chars = input_str[:i] + input_str[i + 1:]\n",
    "        remaining_permutations = find_permutations(remaining_chars)\n",
    "\n",
    "        for perm in remaining_permutations:\n",
    "            all_permutations.append(first_char + perm)\n",
    "\n",
    "    return all_permutations\n",
    "\n",
    "\n",
    "input_string = \"xyz\"\n",
    "permutations = find_permutations(input_string)\n",
    "print(f\"Permutations of '{input_string}':\")\n",
    "for perm in permutations:\n",
    "    print(perm)\n"
   ]
  },
  {
   "cell_type": "markdown",
   "id": "5f23919f",
   "metadata": {},
   "source": [
    "# 10. Write a recursive Python function to check if a string is a palindrome."
   ]
  },
  {
   "cell_type": "code",
   "execution_count": 22,
   "id": "8e84c9fd",
   "metadata": {},
   "outputs": [
    {
     "name": "stdout",
     "output_type": "stream",
     "text": [
      "Enter a string:radar\n",
      "'radar' is a palindrome string\n"
     ]
    }
   ],
   "source": [
    "def is_palindrome(string):\n",
    "\n",
    "    if len(string) <= 1:\n",
    "        return True\n",
    "    else:\n",
    "        if string[0] != string[-1]:\n",
    "            return False\n",
    "        else:\n",
    "            return is_palindrome(string[1:-1])\n",
    "\n",
    "        \n",
    "string = input(\"Enter a string:\")\n",
    "\n",
    "if is_palindrome(string):\n",
    "    print(f\"'{string}' is a palindrome string\")\n",
    "else:\n",
    "    print(f\"'{string}' is not a palindrome string\")"
   ]
  },
  {
   "cell_type": "markdown",
   "id": "fd2a5da6",
   "metadata": {},
   "source": [
    "# 11. Create a recursive Python function to generate all possible combinations of a list of elements."
   ]
  },
  {
   "cell_type": "code",
   "execution_count": 24,
   "id": "74f4347e",
   "metadata": {},
   "outputs": [
    {
     "name": "stdout",
     "output_type": "stream",
     "text": [
      "Combinations of [1, 2, 3] choose 2 are:\n",
      "[2, 3]\n",
      "[1, 3]\n",
      "[1, 2]\n"
     ]
    }
   ],
   "source": [
    "def generate_combinations(elements, k):\n",
    "    # Base case: If k is 0, return an empty list (no combination).\n",
    "    if k == 0:\n",
    "        return [[]]\n",
    "    \n",
    "    # Base case: If there are no elements, return an empty list (no combination).\n",
    "    if not elements:\n",
    "        return []\n",
    "\n",
    "    # Recursive case:\n",
    "    # Generate combinations with the first element and without the first element.\n",
    "    first_element = elements[0]\n",
    "    combinations_without_first = generate_combinations(elements[1:], k)\n",
    "    combinations_with_first = generate_combinations(elements[1:], k - 1)\n",
    "\n",
    "    # Add the first element to combinations with the first element.\n",
    "    combinations_with_first = [[first_element] + combo for combo in combinations_with_first]\n",
    "\n",
    "    # Combine both sets of combinations.\n",
    "    return combinations_without_first + combinations_with_first\n",
    "\n",
    "# Example usage:\n",
    "elements = [1, 2, 3]\n",
    "k = 2\n",
    "combinations = generate_combinations(elements, k)\n",
    "print(\"Combinations of\", elements, \"choose\", k, \"are:\")\n",
    "for combo in combinations:\n",
    "    print(combo)\n"
   ]
  },
  {
   "cell_type": "markdown",
   "id": "7e3320b5",
   "metadata": {},
   "source": [
    "# Basics of Functions:"
   ]
  },
  {
   "cell_type": "markdown",
   "id": "81710333",
   "metadata": {},
   "source": [
    "# 1. What is a function in Python, and why is it used?"
   ]
  },
  {
   "cell_type": "markdown",
   "id": "ed0111c9",
   "metadata": {},
   "source": [
    "A function is a block of reusable code that performs a specific task or set of tasks. \n",
    "\n",
    "Syntax:\n",
    "    \n",
    "def functionname(parameter):\n",
    "    #code"
   ]
  },
  {
   "cell_type": "markdown",
   "id": "8dac1476",
   "metadata": {},
   "source": [
    "# 2. How do you define a function in Python? Provide an example.\n"
   ]
  },
  {
   "cell_type": "markdown",
   "id": "7698a5e8",
   "metadata": {},
   "source": [
    "We define a function in python by the key word 'def'."
   ]
  },
  {
   "cell_type": "code",
   "execution_count": 25,
   "id": "1af5a395",
   "metadata": {},
   "outputs": [],
   "source": [
    "'''\n",
    "for example: \n",
    "'''\n",
    "\n",
    "def square(x):       #we are defining a function named square using keyword def that takes a single argument x \n",
    "    return x*x       #the function returns the square of the number x"
   ]
  },
  {
   "cell_type": "code",
   "execution_count": 26,
   "id": "a413f1de",
   "metadata": {},
   "outputs": [],
   "source": [
    "sq = square(5)"
   ]
  },
  {
   "cell_type": "code",
   "execution_count": 27,
   "id": "2202cb12",
   "metadata": {},
   "outputs": [
    {
     "data": {
      "text/plain": [
       "25"
      ]
     },
     "execution_count": 27,
     "metadata": {},
     "output_type": "execute_result"
    }
   ],
   "source": [
    "sq"
   ]
  },
  {
   "cell_type": "markdown",
   "id": "7097db8e",
   "metadata": {},
   "source": [
    "# 3. Explain the difference between a function definition and a function call."
   ]
  },
  {
   "cell_type": "markdown",
   "id": "19c0edb2",
   "metadata": {},
   "source": [
    "# Function Definition:\n",
    "\n",
    "A function definition is the code block where we define what the function does and how it should behave. It specifies the name of the function, the parameters it accepts, and the actions it performs when called.\n"
   ]
  },
  {
   "cell_type": "code",
   "execution_count": 28,
   "id": "05defd3b",
   "metadata": {},
   "outputs": [],
   "source": [
    "# example \n",
    "\n",
    "def add(a, b):              #defining a function named add that takes asks for 2 parameter and returns their sum\n",
    "    return a + b\n"
   ]
  },
  {
   "cell_type": "markdown",
   "id": "701e74ec",
   "metadata": {},
   "source": [
    "# Function Call:\n",
    "\n",
    "A function call is the act of using a defined function to perform a specific task or computation. When we call a function, we execute the code inside the function definition and potentially pass values (arguments) to it."
   ]
  },
  {
   "cell_type": "code",
   "execution_count": 30,
   "id": "bd76bc27",
   "metadata": {},
   "outputs": [
    {
     "name": "stdout",
     "output_type": "stream",
     "text": [
      "sum = 5\n"
     ]
    }
   ],
   "source": [
    "#example\n",
    "\n",
    "s = add(2,3)   #we are calling the function add and passing 2 arguments 2 and 3 and the result gets stored in s\n",
    "print(\"sum =\",s)"
   ]
  },
  {
   "cell_type": "markdown",
   "id": "8fb22178",
   "metadata": {},
   "source": [
    "# 4. Write a Python program that defines a function to calculate the sum of two numbers and then calls the function."
   ]
  },
  {
   "cell_type": "code",
   "execution_count": 31,
   "id": "444b4708",
   "metadata": {},
   "outputs": [
    {
     "name": "stdout",
     "output_type": "stream",
     "text": [
      "Enter first number:5\n",
      "Enter second number:4\n",
      "Sum of 5 and 4 is 9\n"
     ]
    }
   ],
   "source": [
    "def add(a, b):              #defining a function named add that takes asks for 2 parameter and returns their sum\n",
    "    return a + b\n",
    "\n",
    "num1 = int(input(\"Enter first number:\"))\n",
    "num2 = int(input(\"Enter second number:\"))\n",
    "\n",
    "s = add(num1,num2)        # calling the function add and passing 2 arguments to calculate their sum and store in a variable\n",
    "\n",
    "print(f\"Sum of {num1} and {num2} is {s}\")"
   ]
  },
  {
   "cell_type": "markdown",
   "id": "7ad1ea76",
   "metadata": {},
   "source": [
    "# 5. What is a function signature, and what information does it typically include?\n"
   ]
  },
  {
   "cell_type": "markdown",
   "id": "cf4fbe6d",
   "metadata": {},
   "source": [
    "The signature of a function in Python is a description of the function's parameters, their types, and the type of the function's return value. The signature of a function is important for a number of reasons. It helps the reader of the function's code understand what arguments the function expects and what type of value it returns\n",
    "\n",
    "syntax:\n",
    "\n",
    "def function_name(argument1: type1, argument2: type2, ...) -> return_type:\n",
    "    \n",
    "    # Function body\n"
   ]
  },
  {
   "cell_type": "code",
   "execution_count": 32,
   "id": "76140b8f",
   "metadata": {},
   "outputs": [],
   "source": [
    "#example:\n",
    "def calculate_area(length: float, width: float) -> float:\n",
    "    \"\"\"\n",
    "    Calculate the area of a rectangle.\n",
    "    \n",
    "    Args:\n",
    "        length (float): The length of the rectangle.\n",
    "        width (float): The width of the rectangle.\n",
    "    \n",
    "    Returns:\n",
    "        float: The area of the rectangle.\n",
    "    \"\"\"\n",
    "    return length * width\n"
   ]
  },
  {
   "cell_type": "markdown",
   "id": "14b1ab3b",
   "metadata": {},
   "source": [
    "# 6. Create a Python function that takes two arguments and returns their product."
   ]
  },
  {
   "cell_type": "code",
   "execution_count": 33,
   "id": "ab06e8fd",
   "metadata": {},
   "outputs": [
    {
     "name": "stdout",
     "output_type": "stream",
     "text": [
      "Enter first number:5\n",
      "Enter second number:3\n",
      "Product of 5 and 3 is 15\n"
     ]
    }
   ],
   "source": [
    "def product(a,b):\n",
    "    return a*b\n",
    "\n",
    "num1 = int(input(\"Enter first number:\"))\n",
    "num2 = int(input(\"Enter second number:\"))\n",
    "\n",
    "p = product(num1,num2)  \n",
    "print(f\"Product of {num1} and {num2} is {p}\")"
   ]
  },
  {
   "cell_type": "markdown",
   "id": "154a261f",
   "metadata": {},
   "source": [
    "# Function Parameters and Arguments:"
   ]
  },
  {
   "cell_type": "markdown",
   "id": "6ae9cbfa",
   "metadata": {},
   "source": [
    "# 1. Explain the concepts of formal parameters and actual arguments in Python functions."
   ]
  },
  {
   "cell_type": "markdown",
   "id": "f4ba21f5",
   "metadata": {},
   "source": [
    "# Formal Parameters:\n",
    "\n",
    "Formal parameters are placeholders or variables defined in the function's header or signature.\n",
    "They serve as a way to receive input values or arguments from the caller when the function is called.\n",
    "Formal parameters are used to specify what kind of data the function expects and how many arguments it requires.\n",
    "These parameters are local to the function and have scope only within the function block.\n",
    "Formal parameters are defined inside parentheses following the function name, separated by commas."
   ]
  },
  {
   "cell_type": "code",
   "execution_count": 1,
   "id": "7b7735c8",
   "metadata": {},
   "outputs": [],
   "source": [
    "#example\n",
    "def add_numbers(x, y):  # 'x' and 'y' are formal parameters.\n",
    "    result = x + y\n",
    "    return result\n"
   ]
  },
  {
   "cell_type": "markdown",
   "id": "f17ed89f",
   "metadata": {},
   "source": [
    "# Actual Arguments:\n",
    "\n",
    "Actual arguments, also known as arguments or function arguments, are the values or expressions provided by the caller when calling a function.\n",
    "They are the real data that gets passed into the function and assigned to the corresponding formal parameters.\n",
    "Actual arguments can be variables, constants, or expressions, and they must match the number and order of formal parameters defined in the function.\n",
    "Actual arguments are enclosed in parentheses when calling the function."
   ]
  },
  {
   "cell_type": "code",
   "execution_count": 2,
   "id": "88add760",
   "metadata": {},
   "outputs": [],
   "source": [
    "result = add_numbers(3, 5)  # '3' and '5' are actual arguments.\n"
   ]
  },
  {
   "cell_type": "markdown",
   "id": "75aed07d",
   "metadata": {},
   "source": [
    "# 2. Write a Python program that defines a function with default argument values"
   ]
  },
  {
   "cell_type": "code",
   "execution_count": 5,
   "id": "5e245b05",
   "metadata": {},
   "outputs": [
    {
     "name": "stdout",
     "output_type": "stream",
     "text": [
      "sum1= 15\n",
      "sum2= 7\n"
     ]
    }
   ],
   "source": [
    "def num_sum(a = 10, b = 5):  \n",
    "    return a+b\n",
    "\n",
    "'''\n",
    "Here we define a function num_sum with 2 parametres with default argument \n",
    "values a=10,b=5 .While calling the function if no argument is passed to the function\n",
    "it takes the default values of a and b and performs the operation.\n",
    "and when the arguments are passed during the function call then the default values gets replaced \n",
    "with the passed arguments.\n",
    "'''\n",
    "sum1 = num_sum() #no arguments are passed during the call , so the default values are used in the operation\n",
    "sum2 = num_sum(2,5) #arguments are passed during the function call and so the default values are replaced with the values passed.\n",
    "print(\"sum1=\",sum1)\n",
    "print(\"sum2=\",sum2)"
   ]
  },
  {
   "cell_type": "markdown",
   "id": "1a4917d6",
   "metadata": {},
   "source": [
    "# 3. How do you use keyword arguments in Python function calls? Provide an example."
   ]
  },
  {
   "cell_type": "markdown",
   "id": "46e9f163",
   "metadata": {},
   "source": [
    "When calling a function, we specify arguments using the parameter names as keywords, followed by an equal sign and the corresponding values. This approach allows us to pass arguments in any order and is especially helpful when dealing with functions that have many parameters"
   ]
  },
  {
   "cell_type": "code",
   "execution_count": 6,
   "id": "5973121b",
   "metadata": {},
   "outputs": [
    {
     "name": "stdout",
     "output_type": "stream",
     "text": [
      "First Name: Eric\n",
      "Last Name: Cartman\n"
     ]
    }
   ],
   "source": [
    "#example\n",
    "def display_info(first_name, last_name):\n",
    "    print('First Name:', first_name)\n",
    "    print('Last Name:', last_name)\n",
    "\n",
    "display_info(last_name = 'Cartman', first_name = 'Eric')"
   ]
  },
  {
   "cell_type": "markdown",
   "id": "eee0918d",
   "metadata": {},
   "source": [
    "# 4. Create a Python function that accepts a variable number of arguments and calculates their sum."
   ]
  },
  {
   "cell_type": "code",
   "execution_count": 10,
   "id": "b68829fa",
   "metadata": {},
   "outputs": [
    {
     "name": "stdout",
     "output_type": "stream",
     "text": [
      "sum1= 55\n",
      "sum2= 19\n"
     ]
    }
   ],
   "source": [
    "def calc_sum(*nums):   #in parameter we use*args for variable number of arguments\n",
    "    return sum(nums)\n",
    "\n",
    "sum1 = calc_sum(1,2,3,4,5,6,7,8,9,10)\n",
    "sum2 = calc_sum(1,2,4,5,7)\n",
    "\n",
    "print(\"sum1=\",sum1)\n",
    "print(\"sum2=\",sum2)"
   ]
  },
  {
   "cell_type": "markdown",
   "id": "d0d9502d",
   "metadata": {},
   "source": [
    "# 5. What is the purpose of the `*args` and `**kwargs` syntax in function parameter lists?\n"
   ]
  },
  {
   "cell_type": "markdown",
   "id": "0df78a58",
   "metadata": {},
   "source": [
    "# *args:\n",
    "This is useful when we want to pass an arbitrary number of arguments without knowing in advance how many there will be."
   ]
  },
  {
   "cell_type": "code",
   "execution_count": 11,
   "id": "a2782a31",
   "metadata": {},
   "outputs": [
    {
     "name": "stdout",
     "output_type": "stream",
     "text": [
      "sum1= 55\n",
      "sum2= 19\n"
     ]
    }
   ],
   "source": [
    "#eg:\n",
    "def calc_sum(*nums):   #in parameter we use*args for variable number of arguments\n",
    "    return sum(nums)\n",
    "\n",
    "sum1 = calc_sum(1,2,3,4,5,6,7,8,9,10)\n",
    "sum2 = calc_sum(1,2,4,5,7)\n",
    "\n",
    "print(\"sum1=\",sum1)\n",
    "print(\"sum2=\",sum2)"
   ]
  },
  {
   "cell_type": "markdown",
   "id": "484b7838",
   "metadata": {},
   "source": [
    "# **kwargs\n",
    "If we do not know how many keyword arguments that will be passed into our function, add two asterisk: ** before the parameter name in the function definition."
   ]
  },
  {
   "cell_type": "code",
   "execution_count": 13,
   "id": "9e379e4e",
   "metadata": {},
   "outputs": [
    {
     "name": "stdout",
     "output_type": "stream",
     "text": [
      "{'first_name': 'Alice', 'last_name': 'Johnson', 'age': 30}\n",
      "{'first_name': 'Bob', 'age': 25}\n",
      "{'last_name': 'Smith'}\n"
     ]
    }
   ],
   "source": [
    "#eg:\n",
    "\n",
    "def create_person(**kwargs):\n",
    "    person = {}\n",
    "    if \"first_name\" in kwargs:\n",
    "        person[\"first_name\"] = kwargs[\"first_name\"]\n",
    "    if \"last_name\" in kwargs:\n",
    "        person[\"last_name\"] = kwargs[\"last_name\"]\n",
    "    if \"age\" in kwargs:\n",
    "        person[\"age\"] = kwargs[\"age\"]\n",
    "    return person\n",
    "\n",
    "person1 = create_person(first_name=\"Alice\", last_name=\"Johnson\", age=30)\n",
    "person2 = create_person(first_name=\"Bob\", age=25)\n",
    "person3 = create_person(last_name=\"Smith\")\n",
    "\n",
    "print(person1)\n",
    "print(person2)\n",
    "print(person3)\n"
   ]
  },
  {
   "cell_type": "markdown",
   "id": "de55fd44",
   "metadata": {},
   "source": [
    "# Return Values and Scoping:"
   ]
  },
  {
   "cell_type": "markdown",
   "id": "43f1f700",
   "metadata": {},
   "source": [
    "# 1. Describe the role of the `return` statement in Python functions and provide examples.\n"
   ]
  },
  {
   "cell_type": "markdown",
   "id": "2cf760a4",
   "metadata": {},
   "source": [
    "The return statement in Python functions is used to specify what value or values the function should give back as its result when it is called. It marks the end of the function's execution and passes control and data back to the caller. "
   ]
  },
  {
   "cell_type": "code",
   "execution_count": 15,
   "id": "429a4364",
   "metadata": {},
   "outputs": [
    {
     "name": "stdout",
     "output_type": "stream",
     "text": [
      "Result= 65\n"
     ]
    }
   ],
   "source": [
    "#for example\n",
    "\n",
    "def product(a,b):\n",
    "    return a*b\n",
    "\n",
    "#this function named product takes 2 arguments and resurns their product as result\n",
    "\n",
    "result = product(13,5) #the value returned by the function is stored in the variable result\n",
    "print(\"Result=\",result)"
   ]
  },
  {
   "cell_type": "markdown",
   "id": "757dd5e0",
   "metadata": {},
   "source": [
    "# 2. Explain the concept of variable scope in Python, including local and global variables."
   ]
  },
  {
   "cell_type": "markdown",
   "id": "af7a629a",
   "metadata": {},
   "source": [
    "Variable scope in Python refers to the region or context in which a variable is defined and can be accessed."
   ]
  },
  {
   "cell_type": "markdown",
   "id": "9e4a902e",
   "metadata": {},
   "source": [
    "# Local variable\n",
    "Local variables are declared and used within a specific function or block of code.\n",
    "They have limited visibility and exist only within the scope of the function or block where they are defined.\n",
    "Local variables are created when the function is called and destroyed when the function exits.\n",
    "They are not accessible from outside the function."
   ]
  },
  {
   "cell_type": "code",
   "execution_count": 16,
   "id": "0767125f",
   "metadata": {},
   "outputs": [
    {
     "name": "stdout",
     "output_type": "stream",
     "text": [
      "10\n"
     ]
    }
   ],
   "source": [
    "#example\n",
    "\n",
    "def my_function():\n",
    "    x = 10  #  here 'x' is a local variable\n",
    "    print(x)\n",
    "\n",
    "my_function()\n",
    "\n"
   ]
  },
  {
   "cell_type": "code",
   "execution_count": 18,
   "id": "b84a3c50",
   "metadata": {},
   "outputs": [
    {
     "ename": "NameError",
     "evalue": "name 'x' is not defined",
     "output_type": "error",
     "traceback": [
      "\u001b[1;31m---------------------------------------------------------------------------\u001b[0m",
      "\u001b[1;31mNameError\u001b[0m                                 Traceback (most recent call last)",
      "\u001b[1;32m~\\AppData\\Local\\Temp\\ipykernel_3392\\2239527823.py\u001b[0m in \u001b[0;36m<module>\u001b[1;34m\u001b[0m\n\u001b[1;32m----> 1\u001b[1;33m \u001b[0mprint\u001b[0m\u001b[1;33m(\u001b[0m\u001b[0mx\u001b[0m\u001b[1;33m)\u001b[0m  \u001b[1;31m#if we try to access x outside the function we get an error\u001b[0m\u001b[1;33m\u001b[0m\u001b[1;33m\u001b[0m\u001b[0m\n\u001b[0m",
      "\u001b[1;31mNameError\u001b[0m: name 'x' is not defined"
     ]
    }
   ],
   "source": [
    "print(x)  #if we try to access x outside the function we get an error"
   ]
  },
  {
   "cell_type": "markdown",
   "id": "960456b0",
   "metadata": {},
   "source": [
    "# Global Variables:\n",
    "\n",
    "Global variables are defined at the top level of a script or module, outside of any function.\n",
    "They have a global scope, which means they can be accessed from any part of the code, including inside functions.\n",
    "Global variables persist throughout the entire program's execution.\n",
    "If a function wants to access a global variable, it can do so without needing to declare it as global explicitly."
   ]
  },
  {
   "cell_type": "code",
   "execution_count": 19,
   "id": "43669842",
   "metadata": {},
   "outputs": [
    {
     "name": "stdout",
     "output_type": "stream",
     "text": [
      "20\n",
      "20\n"
     ]
    }
   ],
   "source": [
    "#example\n",
    "\n",
    "global_var = 20  # 'global_var' is a global variable\n",
    "\n",
    "def my_function():\n",
    "    print(global_var)  # Accessing the global variable 'global_var' inside the function\n",
    "\n",
    "my_function()\n",
    "print(global_var)  # Accessing the global variable outside the function\n"
   ]
  },
  {
   "cell_type": "markdown",
   "id": "5042e29f",
   "metadata": {},
   "source": [
    "# 3. Write a Python program that demonstrates the use of global variables within functions."
   ]
  },
  {
   "cell_type": "code",
   "execution_count": 25,
   "id": "d0cd4f47",
   "metadata": {},
   "outputs": [
    {
     "name": "stdout",
     "output_type": "stream",
     "text": [
      "Inside the function: global_var = 15\n",
      "Outside the function: global_var = 15\n"
     ]
    }
   ],
   "source": [
    "# Define a global variable\n",
    "global_var = 10\n",
    "\n",
    "# Define a function that uses the global variable\n",
    "def modify_global():\n",
    "    global global_var  # Declare 'global_var' as global within the function\n",
    "    global_var += 5    # Modify the global variable\n",
    "    print(\"Inside the function: global_var =\", global_var)\n",
    "\n",
    "# Call the function\n",
    "modify_global()\n",
    "\n",
    "# Print the global variable outside the function\n",
    "print(\"Outside the function: global_var =\", global_var)\n"
   ]
  },
  {
   "cell_type": "markdown",
   "id": "6639d94b",
   "metadata": {},
   "source": [
    "# 4. Create a Python function that calculates the factorial of a number and returns it."
   ]
  },
  {
   "cell_type": "code",
   "execution_count": 28,
   "id": "aeb36c18",
   "metadata": {},
   "outputs": [
    {
     "name": "stdout",
     "output_type": "stream",
     "text": [
      "Enter number whose factorial is to be found:6\n",
      "Factorial of 6 is 720\n"
     ]
    }
   ],
   "source": [
    "def factorial(num):\n",
    "    fact = 1\n",
    "    for i in range(1,num+1):\n",
    "        fact = fact*i\n",
    "    return fact\n",
    "\n",
    "num = int(input(\"Enter number whose factorial is to be found:\"))\n",
    "fact = factorial(num)\n",
    "print(f\"Factorial of {num} is {fact}\")"
   ]
  },
  {
   "cell_type": "markdown",
   "id": "235bb35a",
   "metadata": {},
   "source": [
    "# 5. How can you access variables defined outside a function from within the function?"
   ]
  },
  {
   "cell_type": "markdown",
   "id": "056547cb",
   "metadata": {},
   "source": [
    "We can access variables defined outside a function from within the function using global keyword."
   ]
  },
  {
   "cell_type": "code",
   "execution_count": 33,
   "id": "a47d92d5",
   "metadata": {},
   "outputs": [
    {
     "name": "stdout",
     "output_type": "stream",
     "text": [
      "25\n",
      "x = 25\n"
     ]
    }
   ],
   "source": [
    "#eg:\n",
    "\n",
    "x = 10\n",
    "\n",
    "def test():\n",
    "    global x\n",
    "    x = x+15\n",
    "    print(x)\n",
    "\n",
    "test()\n",
    "\n",
    "print(\"x =\",x)"
   ]
  },
  {
   "cell_type": "markdown",
   "id": "e9fb7947",
   "metadata": {},
   "source": [
    "# Lambda Functions and Higher-Order Functions:\n"
   ]
  },
  {
   "cell_type": "markdown",
   "id": "883fd1ed",
   "metadata": {},
   "source": [
    "# 1. What are lambda functions in Python, and when are they typically used?\n"
   ]
  },
  {
   "cell_type": "markdown",
   "id": "de4e1329",
   "metadata": {},
   "source": [
    "Lambda functions in Python, also known as anonymous functions or function without name, are small, inline functions that are defined without a name. They are typically used for short, simple operations that can be expressed concisely in a single line of code. Lambda functions are created using the lambda keyword and have the following syntax:\n",
    "\n",
    "lambda arguments: expression\n",
    "\n",
    "arguments are optional."
   ]
  },
  {
   "cell_type": "markdown",
   "id": "fa8c4819",
   "metadata": {},
   "source": [
    "# 2. Write a Python program that uses lambda functions to sort a list of tuples based on the second element.\n"
   ]
  },
  {
   "cell_type": "code",
   "execution_count": 34,
   "id": "ce4a3b9f",
   "metadata": {},
   "outputs": [
    {
     "name": "stdout",
     "output_type": "stream",
     "text": [
      "[(1, 4), (6, 5), (9, 10), (5, 13)]\n"
     ]
    }
   ],
   "source": [
    "\n",
    "data = [(6, 5), (1, 4), (9, 10), (5, 13)]\n",
    "\n",
    "sorted_data = sorted(data, key=lambda x: x[1])\n",
    "\n",
    "\n",
    "print(sorted_data)\n"
   ]
  },
  {
   "cell_type": "markdown",
   "id": "0547f8f5",
   "metadata": {},
   "source": [
    "# 3. Explain the concept of higher-order functions in Python, and provide an example.\n"
   ]
  },
  {
   "cell_type": "markdown",
   "id": "f45fa437",
   "metadata": {},
   "source": [
    "Higher-order functions in Python are functions that can take one or more functions as arguments or return a function as their result."
   ]
  },
  {
   "cell_type": "code",
   "execution_count": 35,
   "id": "cf3c0df5",
   "metadata": {},
   "outputs": [
    {
     "name": "stdout",
     "output_type": "stream",
     "text": [
      "Result 1: 10\n",
      "Result 2: 16\n"
     ]
    }
   ],
   "source": [
    "# for example\n",
    "def apply_operation(operation, operand):\n",
    "    return operation(operand)\n",
    "\n",
    "# Define two simple operations as functions\n",
    "def double(x):\n",
    "    return x * 2\n",
    "\n",
    "def square(x):\n",
    "    return x ** 2\n",
    "\n",
    "\n",
    "result1 = apply_operation(double, 5) \n",
    "result2 = apply_operation(square, 4)  \n",
    "\n",
    "print(\"Result 1:\", result1)\n",
    "print(\"Result 2:\", result2)\n"
   ]
  },
  {
   "cell_type": "markdown",
   "id": "a2ad48d0",
   "metadata": {},
   "source": [
    "# 4. Create a Python function that takes a list of numbers and a function as arguments, applying the function to each element in the list"
   ]
  },
  {
   "cell_type": "code",
   "execution_count": 42,
   "id": "aeced462",
   "metadata": {},
   "outputs": [
    {
     "name": "stdout",
     "output_type": "stream",
     "text": [
      "Doubled list= [2, 4, 6, 8, 10, 12, 14, 16]\n"
     ]
    }
   ],
   "source": [
    "#function that takes a function and a list of numbers as arguments\n",
    "def combo(func,l):\n",
    "    l1=[]\n",
    "    for i in l:\n",
    "        l1.append(func(i))\n",
    "    return l1\n",
    "#function to double a number\n",
    "def double(num):\n",
    "    return num*2\n",
    "\n",
    "l=[1,2,3,4,5,6,7,8]\n",
    "\n",
    "my_list = combo(double,l)\n",
    "print(\"Doubled list=\",my_list)"
   ]
  },
  {
   "cell_type": "markdown",
   "id": "fb5e8003",
   "metadata": {},
   "source": [
    "# Built-in Functions:\n"
   ]
  },
  {
   "cell_type": "markdown",
   "id": "8f427a85",
   "metadata": {},
   "source": [
    "# 1. Describe the role of built-in functions like `len()`, `max()`, and `min()` in Python."
   ]
  },
  {
   "cell_type": "markdown",
   "id": "543d0b81",
   "metadata": {},
   "source": [
    "# len(): \n",
    "It returns the length or number of elements in an object such as list, tuple, string,etc."
   ]
  },
  {
   "cell_type": "code",
   "execution_count": 1,
   "id": "e5dfa01d",
   "metadata": {},
   "outputs": [
    {
     "name": "stdout",
     "output_type": "stream",
     "text": [
      "Length of the string is 10\n"
     ]
    }
   ],
   "source": [
    "#example\n",
    "text = \"Assignment\"\n",
    "length = len(text)  \n",
    "print(f\"Length of the string is {length}\")\n"
   ]
  },
  {
   "cell_type": "markdown",
   "id": "08b84ffb",
   "metadata": {},
   "source": [
    "# max():\n",
    "The max() function is used to find the maximum value from a collection of values. It can be used with various data types, including numbers and strings."
   ]
  },
  {
   "cell_type": "code",
   "execution_count": 2,
   "id": "40e5f179",
   "metadata": {},
   "outputs": [
    {
     "name": "stdout",
     "output_type": "stream",
     "text": [
      "Maximum value of the list is 9\n"
     ]
    }
   ],
   "source": [
    "#example:\n",
    "\n",
    "numbers = [5, 7, 8, 9, 2]\n",
    "max_value = max(numbers)  \n",
    "print(f\"Maximum value of the list is {max_value}\")\n",
    "\n",
    "\n"
   ]
  },
  {
   "cell_type": "markdown",
   "id": "2c080ae0",
   "metadata": {},
   "source": [
    "# min():\n",
    "The min() function is the counterpart of max(). It is used to find the minimum value from a collection of values."
   ]
  },
  {
   "cell_type": "code",
   "execution_count": 3,
   "id": "7f3cba24",
   "metadata": {},
   "outputs": [
    {
     "name": "stdout",
     "output_type": "stream",
     "text": [
      "Minimum value of the list is 2\n"
     ]
    }
   ],
   "source": [
    "#example:\n",
    "numbers = [5, 7, 8, 9, 2]\n",
    "min_value = min(numbers)  \n",
    "print(f\"Minimum value of the list is {min_value}\")"
   ]
  },
  {
   "cell_type": "markdown",
   "id": "d04af385",
   "metadata": {},
   "source": [
    "# 2. Write a Python program that uses the `map()` function to apply a function to each element of a list.\n"
   ]
  },
  {
   "cell_type": "code",
   "execution_count": 5,
   "id": "f0294ac8",
   "metadata": {},
   "outputs": [
    {
     "name": "stdout",
     "output_type": "stream",
     "text": [
      "Original list: [3, 4, 2, 56, 4, 5, 64, 2, 5, 76]\n",
      "Doubled list: [6, 8, 4, 112, 8, 10, 128, 4, 10, 152]\n"
     ]
    }
   ],
   "source": [
    "my_list = [3,4,2,56,4,5,64,2,5,76] #sample list\n",
    "#we will double each element of the list using map() function\n",
    "doubled_list = list(map(lambda a:a*2,my_list))\n",
    "\n",
    "print(\"Original list:\",my_list)\n",
    "print(\"Doubled list:\",doubled_list)"
   ]
  },
  {
   "cell_type": "markdown",
   "id": "c55c33da",
   "metadata": {},
   "source": [
    "# 3. How does the `filter()` function work in Python, and when would you use it?"
   ]
  },
  {
   "cell_type": "markdown",
   "id": "aab7a97c",
   "metadata": {},
   "source": [
    "The filter() function in Python is used to filter a sequence (such as a list, tuple, or iterable) based on a specified condition or function. It returns an iterator containing the elements from the original sequence that satisfy the given condition.\n",
    "\n",
    "syntax:\n",
    "\n",
    "filter(function,iterable)\n",
    "\n",
    "The filter() function applies the provided function to each element in the sequence. If the function returns True for an element, that element is included in the resulting iterator; otherwise, it is excluded."
   ]
  },
  {
   "cell_type": "code",
   "execution_count": 6,
   "id": "bab8ca60",
   "metadata": {},
   "outputs": [
    {
     "name": "stdout",
     "output_type": "stream",
     "text": [
      "Original list: [1, 3, 43, 54, 756, 34, 32, 7, 23, 87, 56, 2, 8, 32, 86, 23]\n",
      "even list: [54, 756, 34, 32, 56, 2, 8, 32, 86]\n"
     ]
    }
   ],
   "source": [
    "#for example\n",
    "\n",
    "'''\n",
    "we have a list of numbers we will filter out the even numbers from the \n",
    "list using filter() function.\n",
    "'''\n",
    "my_list = [1,3,43,54,756,34,32,7,23,87,56,2,8,32,86,23]\n",
    "\n",
    "even_list = list(filter(lambda x:x%2 == 0,my_list))\n",
    "\n",
    "print(\"Original list:\",my_list)\n",
    "print(\"even list:\",even_list)"
   ]
  },
  {
   "cell_type": "markdown",
   "id": "c5241115",
   "metadata": {},
   "source": [
    "# 4. Create a Python program that uses the `reduce()` function to find the product of all elements in a list."
   ]
  },
  {
   "cell_type": "code",
   "execution_count": 12,
   "id": "20cb42e0",
   "metadata": {},
   "outputs": [
    {
     "name": "stdout",
     "output_type": "stream",
     "text": [
      "Product of all the elements in the list [2, 3, 4, 5, 6, 7, 8, 9, 10] is 3628800\n"
     ]
    }
   ],
   "source": [
    "from functools import reduce\n",
    "\n",
    "my_list = [2,3,4,5,6,7,8,9,10]\n",
    "\n",
    "product = reduce(lambda a,b:a*b,my_list)\n",
    "\n",
    "print(f\"Product of all the elements in the list {my_list} is {product}\")\n"
   ]
  },
  {
   "cell_type": "markdown",
   "id": "562f5ae9",
   "metadata": {},
   "source": [
    "# Function Documentation and Best Practices:"
   ]
  },
  {
   "cell_type": "markdown",
   "id": "9aaea8c3",
   "metadata": {},
   "source": [
    "# 1. Explain the purpose of docstrings in Python functions and how to write them."
   ]
  },
  {
   "cell_type": "markdown",
   "id": "860d27c9",
   "metadata": {},
   "source": [
    "Docstrings in Python functions serve as documentation strings that provide information about the purpose and usage of a function. They are used to document our code, making it more understandable and accessible to others (including your future self)."
   ]
  },
  {
   "cell_type": "markdown",
   "id": "2c374718",
   "metadata": {},
   "source": [
    "# Methods to write docstring:\n",
    "\n",
    "Docstrings are placed immediately after the function definition and are enclosed in triple-quotes (single or double). They can also be placed within classes and modules to document classes and modules.\n",
    "\n",
    "A typical docstring consists of a one-line summary followed by a more detailed description. It can also include sections for parameters, return values, and examples."
   ]
  },
  {
   "cell_type": "code",
   "execution_count": 14,
   "id": "77b9f032",
   "metadata": {},
   "outputs": [],
   "source": [
    "#for example\n",
    "\n",
    "def add(a, b):\n",
    "    \"\"\"\n",
    "    Adds two numbers.\n",
    "\n",
    "    This function takes two numbers as input and returns their sum.\n",
    "\n",
    "    Args:\n",
    "        a (int): The first number.\n",
    "        b (int): The second number.\n",
    "\n",
    "    Returns:\n",
    "        int: The sum of 'a' and 'b'.\n",
    "\n",
    "    Example:\n",
    "        >>> add(2, 3)\n",
    "        5\n",
    "    \"\"\"\n",
    "    return a + b\n"
   ]
  },
  {
   "cell_type": "markdown",
   "id": "f0965d92",
   "metadata": {},
   "source": [
    "# 2. Describe some best practices for naming functions and variables in python, including conventions and guidelines."
   ]
  },
  {
   "cell_type": "markdown",
   "id": "4888d4e2",
   "metadata": {},
   "source": [
    "# For Function Names:\n",
    "\n",
    "# Using Descriptive Names: \n",
    "\n",
    "Choosing function names that clearly and concisely describe the purpose or action of the function. Names like calculate_total or validate_email are more informative than generic names like func1 or process_data.\n",
    "\n",
    "# Using lowercase with Underscores: \n",
    "\n",
    "For function names, following the lowercase_with_underscores naming convention (also known as snake_case). This convention is widely accepted in Python. For example, calculate_total_amount, not calculateTotalAmount.\n",
    "\n",
    "# Verb-Noun Pairing: \n",
    "\n",
    "Beginning function names with a verb or verb phrase that describes the action the function performs, followed by a noun or noun phrase. For example, get_user_info, compute_average_score.\n",
    "\n",
    "# Avoid Using Names of Built-in Functions: \n",
    "\n",
    "Do not use names of built-in functions or Python keywords as function names to avoid conflicts and confusion.\n",
    "\n",
    "# Be Consistent:\n",
    "\n",
    "Maintain consistency in your naming conventions across your codebase. If you use a specific naming style for functions, stick with it throughout your project.\n"
   ]
  },
  {
   "cell_type": "markdown",
   "id": "924d675b",
   "metadata": {},
   "source": [
    "\n",
    "# For Variable Names:\n",
    "\n",
    "# convention for naming a variable:\n",
    "\n",
    "A variable name must contain only letters, digits and underscore.\n",
    "A variable name cannot start with a digit\n",
    "\n",
    "# Use Descriptive Names: \n",
    "\n",
    "Variable names should be clear and descriptive. Names like customer_age or product_price are better than generic names like x or temp.\n",
    "\n",
    "# Use lowercase with Underscores: \n",
    "\n",
    "Similar to function names, use snake_case for variable names. This convention is the standard in Python.\n",
    "\n",
    "# Choose Meaningful Names: \n",
    "\n",
    "The variable name should indicate the purpose of the variable. For example, use total_sales instead of t to represent total sales.\n",
    "\n",
    "# Be Explicit: \n",
    "\n",
    "Avoid single-letter variable names unless they represent an iterator in a loop (e.g., i, j). Even in loops, try to use descriptive names like index or element.\n",
    "\n",
    "# Use Constants in UPPERCASE: \n",
    "\n",
    "If you define constants, use UPPERCASE_WITH_UNDERSCORES to differentiate them from regular variables. For example, MAX_LENGTH, PI.\n",
    "\n",
    "# Avoid Acronyms and Abbreviations:\n",
    "\n",
    "Prefer full words over acronyms or abbreviations unless they are widely understood and accepted in the domain. Clarity is essential.\n",
    "\n",
    "# Avoid Reusing Built-in Names:\n",
    "\n",
    "Do not use the names of built-in functions or Python keywords as variable names to prevent conflicts.\n",
    "\n"
   ]
  }
 ],
 "metadata": {
  "kernelspec": {
   "display_name": "Python 3 (ipykernel)",
   "language": "python",
   "name": "python3"
  },
  "language_info": {
   "codemirror_mode": {
    "name": "ipython",
    "version": 3
   },
   "file_extension": ".py",
   "mimetype": "text/x-python",
   "name": "python",
   "nbconvert_exporter": "python",
   "pygments_lexer": "ipython3",
   "version": "3.9.13"
  }
 },
 "nbformat": 4,
 "nbformat_minor": 5
}
