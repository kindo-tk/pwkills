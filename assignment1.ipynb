{
 "cells": [
  {
   "cell_type": "markdown",
   "id": "7c62aff6-bb2a-46c7-b71c-db5faed5b89a",
   "metadata": {},
   "source": [
    "Basic variable based questions"
   ]
  },
  {
   "cell_type": "markdown",
   "id": "affc0db7-0dbf-40eb-8e07-7b729a36559d",
   "metadata": {},
   "source": [
    "1. Declare two variables, `x` and `y`, and assign them integer values. Swap the values of these variables\n",
    "without using any temporary variable.\n"
   ]
  },
  {
   "cell_type": "code",
   "execution_count": 8,
   "id": "eb3cdd87-8446-42ec-bc49-4a790a7a213b",
   "metadata": {},
   "outputs": [
    {
     "name": "stdout",
     "output_type": "stream",
     "text": [
      "before swapping\n",
      "x= 25 y= 15\n",
      "after swapping\n",
      "x= 15 y= 25\n"
     ]
    }
   ],
   "source": [
    "x = 25\n",
    "y = 15\n",
    "print(\"before swapping\")\n",
    "print(\"x=\",x,\"y=\",y)\n",
    "x=x+y\n",
    "y=x-y\n",
    "x=x-y\n",
    "print(\"after swapping\")\n",
    "print(\"x=\",x,\"y=\",y)\n"
   ]
  },
  {
   "cell_type": "markdown",
   "id": "25ce898b-ea9e-4d9c-b598-84d542d6e812",
   "metadata": {},
   "source": [
    "2. Create a program that calculates the area of a rectangle. Take the length and width as inputs from the\n",
    "user and store them in variables. Calculate and display the area."
   ]
  },
  {
   "cell_type": "code",
   "execution_count": 11,
   "id": "b9fe5fc1-b3a3-4fc2-9caf-0676092f8c7a",
   "metadata": {},
   "outputs": [
    {
     "name": "stdin",
     "output_type": "stream",
     "text": [
      "Enter the length of the rectangle: 15.26\n",
      "Enter the width of the rectangle: 32.65\n"
     ]
    },
    {
     "name": "stdout",
     "output_type": "stream",
     "text": [
      "Area of the rectangle is  498.239 sq units\n"
     ]
    }
   ],
   "source": [
    "l=float(input(\"Enter the length of the rectangle:\"))\n",
    "b=float(input(\"Enter the width of the rectangle:\"))\n",
    "print(\"Area of the rectangle is \",l*b,\"sq units\")"
   ]
  },
  {
   "cell_type": "markdown",
   "id": "5e2484d7-ea2a-47fd-995a-d4d41c073407",
   "metadata": {},
   "source": [
    "3. Write a Python program that converts temperatures from Celsius to Fahrenheit. Take the temperature\n",
    "in Celsius as input, store it in a variable, convert it to Fahrenheit, and display the result."
   ]
  },
  {
   "cell_type": "code",
   "execution_count": 16,
   "id": "1b1b57dc-4292-4665-888f-b4ee6d0dfaf8",
   "metadata": {},
   "outputs": [
    {
     "name": "stdin",
     "output_type": "stream",
     "text": [
      "Enter the temperature in Celsius: 40.25\n"
     ]
    },
    {
     "name": "stdout",
     "output_type": "stream",
     "text": [
      "40.25  degree Celsius is equivalent to  104.45  degree Fahrenheit\n"
     ]
    }
   ],
   "source": [
    "c=float(input(\"Enter the temperature in Celsius:\"))\n",
    "f=(9*c/5)+32\n",
    "print(c,\" degree Celsius is equivalent to \",f,\" degree Fahrenheit\")"
   ]
  },
  {
   "cell_type": "markdown",
   "id": "1101383e-2799-4c14-9a48-e2c0fdba0fac",
   "metadata": {},
   "source": [
    "String based questions\n"
   ]
  },
  {
   "cell_type": "markdown",
   "id": "0d8140cf-2178-4034-b42e-30701362209f",
   "metadata": {},
   "source": [
    "1. Write a Python program that takes a string as input and prints the length of the string"
   ]
  },
  {
   "cell_type": "code",
   "execution_count": 20,
   "id": "3c3f24ab-4646-4a19-a82f-20640c2779f6",
   "metadata": {},
   "outputs": [
    {
     "name": "stdin",
     "output_type": "stream",
     "text": [
      "Enter a string: This is my first assignment\n"
     ]
    },
    {
     "name": "stdout",
     "output_type": "stream",
     "text": [
      "The length of the string is  27\n"
     ]
    }
   ],
   "source": [
    "string=input(\"Enter a string:\")\n",
    "print(\"The length of the string is \",len(string))"
   ]
  },
  {
   "cell_type": "markdown",
   "id": "52bf53ba-9a13-4cf0-9b83-550db460d004",
   "metadata": {},
   "source": [
    "2. Create a program that takes a sentence from the user and counts the number of vowels (a, e, i, o, u) in\n",
    "the string."
   ]
  },
  {
   "cell_type": "code",
   "execution_count": 25,
   "id": "1f68409e-4091-4059-a9d9-d6583e50b92f",
   "metadata": {},
   "outputs": [
    {
     "name": "stdin",
     "output_type": "stream",
     "text": [
      "Enter the sentence: This is my first assignment\n"
     ]
    },
    {
     "name": "stdout",
     "output_type": "stream",
     "text": [
      "Number of vowels in the sentence is 6\n"
     ]
    }
   ],
   "source": [
    "sentence=input(\"Enter the sentence:\")\n",
    "vowels=\"aeiouAEIOU\"\n",
    "count=0\n",
    "for i in sentence:\n",
    "    if i in vowels:\n",
    "        count+=1\n",
    "print(\"Number of vowels in the sentence is\",count)"
   ]
  },
  {
   "cell_type": "markdown",
   "id": "7df207ce-e56f-4829-84d8-359c25476c39",
   "metadata": {},
   "source": [
    "3. Given a string, reverse the order of characters using string slicing and print the reversed string"
   ]
  },
  {
   "cell_type": "code",
   "execution_count": 36,
   "id": "7a1baa14-64c5-48aa-9b60-dbf4f19d53ff",
   "metadata": {},
   "outputs": [
    {
     "name": "stdout",
     "output_type": "stream",
     "text": [
      "The reversed string is: tnemngissa\n"
     ]
    }
   ],
   "source": [
    "string=\"assignment\"\n",
    "print(\"The reversed string is:\",string[-1::-1])"
   ]
  },
  {
   "cell_type": "markdown",
   "id": "b2a524ae-9973-4b02-aee1-85350a8c12f3",
   "metadata": {},
   "source": [
    "4. Write a program that takes a string as input and checks if it is a palindrome (reads the same forwards\n",
    "and backwards)."
   ]
  },
  {
   "cell_type": "code",
   "execution_count": 57,
   "id": "b27e71e9-318b-418b-94ce-c7f1ad3e4f75",
   "metadata": {},
   "outputs": [
    {
     "name": "stdin",
     "output_type": "stream",
     "text": [
      "Enter the word(string): madam\n"
     ]
    },
    {
     "name": "stdout",
     "output_type": "stream",
     "text": [
      "madam is a palindrome string\n"
     ]
    }
   ],
   "source": [
    "string=input(\"Enter the word(string):\")\n",
    "stringrev=string[-1::-1]\n",
    "if string==stringrev:\n",
    "    print(string +\" is a palindrome string\")\n",
    "else:\n",
    "    print(string +\" is not a palindrome string\")\n"
   ]
  },
  {
   "cell_type": "markdown",
   "id": "8ae9a0f5-1078-487b-833d-f847d3dc3c8b",
   "metadata": {},
   "source": [
    "5. Create a program that takes a string as input and removes all the spaces from it. Print the modified\n",
    "string without spaces."
   ]
  },
  {
   "cell_type": "code",
   "execution_count": 59,
   "id": "9635829b-f019-4b68-97aa-e9736eb90824",
   "metadata": {},
   "outputs": [
    {
     "name": "stdin",
     "output_type": "stream",
     "text": [
      "Enter the string: This is a test string\n"
     ]
    },
    {
     "name": "stdout",
     "output_type": "stream",
     "text": [
      "The modified string without space is: Thisisateststring\n"
     ]
    }
   ],
   "source": [
    "string=input(\"Enter the string:\")\n",
    "modstring=string.replace(\" \",\"\")\n",
    "print(\"The modified string without space is:\",modstring)"
   ]
  },
  {
   "cell_type": "code",
   "execution_count": null,
   "id": "14c068ac-a4d2-4fc2-b2f8-cf08f308e5b1",
   "metadata": {},
   "outputs": [],
   "source": []
  }
 ],
 "metadata": {
  "kernelspec": {
   "display_name": "Python 3 (ipykernel)",
   "language": "python",
   "name": "python3"
  },
  "language_info": {
   "codemirror_mode": {
    "name": "ipython",
    "version": 3
   },
   "file_extension": ".py",
   "mimetype": "text/x-python",
   "name": "python",
   "nbconvert_exporter": "python",
   "pygments_lexer": "ipython3",
   "version": "3.10.8"
  }
 },
 "nbformat": 4,
 "nbformat_minor": 5
}
