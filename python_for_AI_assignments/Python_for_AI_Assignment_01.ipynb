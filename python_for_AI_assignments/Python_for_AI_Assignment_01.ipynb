{
 "cells": [
  {
   "cell_type": "markdown",
   "id": "c93f82aa",
   "metadata": {},
   "source": [
    "# Assignment 01\n",
    "# Python For AI"
   ]
  },
  {
   "cell_type": "markdown",
   "id": "6c291b76",
   "metadata": {},
   "source": [
    "# Question 1: \n",
    "\n",
    "## Write a Python program to determine the largest among three numbers entered by the user"
   ]
  },
  {
   "cell_type": "code",
   "execution_count": 3,
   "id": "77f281e0",
   "metadata": {},
   "outputs": [
    {
     "name": "stdout",
     "output_type": "stream",
     "text": [
      "Enter the first number:45\n",
      "Enter the second number:12\n",
      "Enter the third number:78\n",
      "\n",
      "Greatest among the numbers 45,12 and 78 is:78 \n"
     ]
    }
   ],
   "source": [
    "num1 = int(input(\"Enter the first number:\"))\n",
    "num2 = int(input(\"Enter the second number:\"))\n",
    "num3 = int(input(\"Enter the third number:\"))\n",
    "if num1 > num2 and num1 > num3:\n",
    "    greatest = num1\n",
    "elif num2>num1 and num2>num3:\n",
    "    greatest = num2\n",
    "else:\n",
    "    greatest = num3\n",
    "print(f\"\\nGreatest among the numbers {num1},{num2} and {num3} is:{greatest} \")"
   ]
  },
  {
   "cell_type": "markdown",
   "id": "7ac1549b",
   "metadata": {},
   "source": [
    "# Question 2:\n",
    "\n",
    "## Write a Python program to check if a given year is a leap year."
   ]
  },
  {
   "cell_type": "code",
   "execution_count": 4,
   "id": "0fc20762",
   "metadata": {},
   "outputs": [
    {
     "name": "stdout",
     "output_type": "stream",
     "text": [
      "Enter the year:2024\n",
      "2024 is a leap year\n"
     ]
    }
   ],
   "source": [
    "year=int(input(\"Enter the year:\"))\n",
    "if (year%400==0) or (year%4==0 and year%100!=0):\n",
    "    print(f\"{year} is a leap year\")\n",
    "else:\n",
    "    print(f\"{year} is not a leap year\")"
   ]
  },
  {
   "cell_type": "markdown",
   "id": "9eb16420",
   "metadata": {},
   "source": [
    "# Question 3:\n",
    "\n",
    "## Write a Python program to print the following pattern:\n",
    "\n",
    "1\n",
    "\n",
    "22\n",
    "\n",
    "333\n",
    "\n",
    "4444\n",
    "\n",
    "55555"
   ]
  },
  {
   "cell_type": "code",
   "execution_count": 6,
   "id": "4ac2d1ad",
   "metadata": {},
   "outputs": [
    {
     "name": "stdout",
     "output_type": "stream",
     "text": [
      "1\n",
      "22\n",
      "333\n",
      "4444\n",
      "55555\n"
     ]
    }
   ],
   "source": [
    "for i in range(1,6):\n",
    "    print(str(i)*i)"
   ]
  },
  {
   "cell_type": "markdown",
   "id": "e96c4922",
   "metadata": {},
   "source": [
    "# Question 4:\n",
    "\n",
    "## Write a Python program to print the following pattern:\n",
    "\n",
    "`*`\n",
    "\n",
    "`**`\n",
    "\n",
    "`***`\n",
    "\n",
    "`****`\n",
    "\n",
    "`*****`"
   ]
  },
  {
   "cell_type": "code",
   "execution_count": 7,
   "id": "d041be35",
   "metadata": {},
   "outputs": [
    {
     "name": "stdout",
     "output_type": "stream",
     "text": [
      "*\n",
      "**\n",
      "***\n",
      "****\n",
      "*****\n"
     ]
    }
   ],
   "source": [
    "for i in range(1,6):\n",
    "    print(\"*\"*i)"
   ]
  },
  {
   "cell_type": "markdown",
   "id": "1b35ae37",
   "metadata": {},
   "source": [
    "# Question 5:\n",
    "\n",
    "## Write a Python program to print the following pattern:\n"
   ]
  },
  {
   "cell_type": "code",
   "execution_count": null,
   "id": "c5102b1e",
   "metadata": {},
   "outputs": [],
   "source": [
    "     *\n",
    "    **\n",
    "   ***\n",
    "  ****\n",
    " *****"
   ]
  },
  {
   "cell_type": "code",
   "execution_count": 12,
   "id": "020c1b23",
   "metadata": {},
   "outputs": [
    {
     "name": "stdout",
     "output_type": "stream",
     "text": [
      "    *\n",
      "   **\n",
      "  ***\n",
      " ****\n",
      "*****\n"
     ]
    }
   ],
   "source": [
    "rows = 5 \n",
    "for i in range(1,rows+1):\n",
    "     print(\" \" * (rows - i) + \"*\" * (i))"
   ]
  },
  {
   "cell_type": "markdown",
   "id": "15e9a228",
   "metadata": {},
   "source": [
    "# Question 6:\n",
    "\n",
    "## Write a program that prints the numbers 1 to 100. However, for multiples of 3, print \"Fizz\" instead of the number. For multiples of 5, print \"Buzz\". For numbers that are multiples of both 3 and 5, print \"FizzBuzz\"."
   ]
  },
  {
   "cell_type": "code",
   "execution_count": 14,
   "id": "e1ca98f2",
   "metadata": {},
   "outputs": [
    {
     "name": "stdout",
     "output_type": "stream",
     "text": [
      "1\n",
      "2\n",
      "Fizz\n",
      "4\n",
      "Buzz\n",
      "Fizz\n",
      "7\n",
      "8\n",
      "Fizz\n",
      "Buzz\n",
      "11\n",
      "Fizz\n",
      "13\n",
      "14\n",
      "FizzBuzz\n",
      "16\n",
      "17\n",
      "Fizz\n",
      "19\n",
      "Buzz\n",
      "Fizz\n",
      "22\n",
      "23\n",
      "Fizz\n",
      "Buzz\n",
      "26\n",
      "Fizz\n",
      "28\n",
      "29\n",
      "FizzBuzz\n",
      "31\n",
      "32\n",
      "Fizz\n",
      "34\n",
      "Buzz\n",
      "Fizz\n",
      "37\n",
      "38\n",
      "Fizz\n",
      "Buzz\n",
      "41\n",
      "Fizz\n",
      "43\n",
      "44\n",
      "FizzBuzz\n",
      "46\n",
      "47\n",
      "Fizz\n",
      "49\n",
      "Buzz\n",
      "Fizz\n",
      "52\n",
      "53\n",
      "Fizz\n",
      "Buzz\n",
      "56\n",
      "Fizz\n",
      "58\n",
      "59\n",
      "FizzBuzz\n",
      "61\n",
      "62\n",
      "Fizz\n",
      "64\n",
      "Buzz\n",
      "Fizz\n",
      "67\n",
      "68\n",
      "Fizz\n",
      "Buzz\n",
      "71\n",
      "Fizz\n",
      "73\n",
      "74\n",
      "FizzBuzz\n",
      "76\n",
      "77\n",
      "Fizz\n",
      "79\n",
      "Buzz\n",
      "Fizz\n",
      "82\n",
      "83\n",
      "Fizz\n",
      "Buzz\n",
      "86\n",
      "Fizz\n",
      "88\n",
      "89\n",
      "FizzBuzz\n",
      "91\n",
      "92\n",
      "Fizz\n",
      "94\n",
      "Buzz\n",
      "Fizz\n",
      "97\n",
      "98\n",
      "Fizz\n",
      "Buzz\n"
     ]
    }
   ],
   "source": [
    "for i in range(1,101):\n",
    "    if i % 3 == 0 and i % 5 == 0:\n",
    "        print(\"FizzBuzz\")\n",
    "    elif i % 3 == 0:\n",
    "        print(\"Fizz\")\n",
    "    elif i % 5 == 0: \n",
    "        print(\"Buzz\")\n",
    "    else:\n",
    "        print(i)"
   ]
  },
  {
   "cell_type": "markdown",
   "id": "025ace4b",
   "metadata": {},
   "source": [
    "# Question 7: \n",
    "\n",
    "## Write a Python program to find the sum of all prime numbers up to n"
   ]
  },
  {
   "cell_type": "code",
   "execution_count": 16,
   "id": "6d996ca9",
   "metadata": {},
   "outputs": [
    {
     "name": "stdout",
     "output_type": "stream",
     "text": [
      "Enter the value of n: 50\n",
      "Sum of all prime numbers up to 50 is: 328\n"
     ]
    }
   ],
   "source": [
    "def check_prime(n):\n",
    "    if n < 2:  \n",
    "        return False\n",
    "    if n == 2:\n",
    "        return True\n",
    "    if n % 2 == 0:  # Even numbers greater than 2 are not prime\n",
    "        return False\n",
    "    for i in range(3, int(n**0.5) + 1, 2):  # Skipping even numbers in the loop\n",
    "        if n % i == 0:\n",
    "            return False\n",
    "    return True\n",
    "\n",
    "n = int(input(\"Enter the value of n: \"))\n",
    "sum_prime = 0\n",
    "for i in range(2, n + 1):  \n",
    "    if check_prime(i):\n",
    "        sum_prime += i\n",
    "print(f\"Sum of all prime numbers up to {n} is: {sum_prime}\")\n"
   ]
  },
  {
   "cell_type": "markdown",
   "id": "7f6cc8ca",
   "metadata": {},
   "source": [
    "# Question 8:\n",
    "\n",
    "## Write a Python program to print the Fibonacci sequence up to n terms. The Fibonacci series is a sequence of numbers where each number is the sum of the two preceding ones, usually starting with 0 and 1.\n",
    "\n",
    "i.e 0, 1, 1, 2, 3, 5, 8, 13, 21, 34, ... "
   ]
  },
  {
   "cell_type": "code",
   "execution_count": 20,
   "id": "c2417f03",
   "metadata": {},
   "outputs": [
    {
     "name": "stdout",
     "output_type": "stream",
     "text": [
      "Enter the value of n:10\n",
      "0 1, 1, 2, 3, 5, 8, 13, 21, 34, "
     ]
    }
   ],
   "source": [
    "n = int(input(\"Enter the value of n:\"))\n",
    "a = 0\n",
    "b = 1\n",
    "print(a,b,end =\", \")\n",
    "for i in range(2,n):\n",
    "    c = a+b\n",
    "    print(c,end =\", \")\n",
    "    a = b\n",
    "    b = c"
   ]
  },
  {
   "cell_type": "markdown",
   "id": "3a92605f",
   "metadata": {},
   "source": [
    "# Question 9:\n",
    "\n",
    "## Write a Python program to print the following pattern:"
   ]
  },
  {
   "cell_type": "code",
   "execution_count": null,
   "id": "1550f718",
   "metadata": {},
   "outputs": [],
   "source": [
    "    *\n",
    "   ***\n",
    "  *****\n",
    " *******\n",
    "*********"
   ]
  },
  {
   "cell_type": "code",
   "execution_count": 22,
   "id": "0a7d1ee6",
   "metadata": {},
   "outputs": [
    {
     "name": "stdout",
     "output_type": "stream",
     "text": [
      "    *    \n",
      "   ***   \n",
      "  *****  \n",
      " ******* \n",
      "*********\n"
     ]
    }
   ],
   "source": [
    "rows = 5 \n",
    "for i in range(1,rows+1):\n",
    "    print(\" \" * (rows - i) + \"*\" * (i*2-1) + \" \" * (rows - i))"
   ]
  },
  {
   "cell_type": "markdown",
   "id": "024cd7bc",
   "metadata": {},
   "source": [
    "# Question 10:\n",
    "\n",
    "## Write a Python program to print the following pattern:"
   ]
  },
  {
   "cell_type": "markdown",
   "id": "8ad0390c",
   "metadata": {},
   "source": [
    "    A\n",
    "   BBB\n",
    "  CCCCC\n",
    " DDDDDDD\n",
    "EEEEEEEEE"
   ]
  },
  {
   "cell_type": "code",
   "execution_count": 25,
   "id": "2785bd3e",
   "metadata": {},
   "outputs": [
    {
     "name": "stdout",
     "output_type": "stream",
     "text": [
      "    A    \n",
      "   BBB   \n",
      "  CCCCC  \n",
      " DDDDDDD \n",
      "EEEEEEEEE\n"
     ]
    }
   ],
   "source": [
    "rows = 5 \n",
    "curr_char = 65 # ASCII value of 'A'\n",
    "for i in range(1,rows+1):\n",
    "    print(\" \" * (rows - i) + chr(curr_char) * (i*2-1) + \" \" * (rows - i))\n",
    "    curr_char += 1"
   ]
  },
  {
   "cell_type": "code",
   "execution_count": null,
   "id": "4bca51c3",
   "metadata": {},
   "outputs": [],
   "source": []
  }
 ],
 "metadata": {
  "kernelspec": {
   "display_name": "Python 3 (ipykernel)",
   "language": "python",
   "name": "python3"
  },
  "language_info": {
   "codemirror_mode": {
    "name": "ipython",
    "version": 3
   },
   "file_extension": ".py",
   "mimetype": "text/x-python",
   "name": "python",
   "nbconvert_exporter": "python",
   "pygments_lexer": "ipython3",
   "version": "3.11.5"
  },
  "toc": {
   "base_numbering": 1,
   "nav_menu": {},
   "number_sections": true,
   "sideBar": true,
   "skip_h1_title": false,
   "title_cell": "Table of Contents",
   "title_sidebar": "Contents",
   "toc_cell": false,
   "toc_position": {},
   "toc_section_display": true,
   "toc_window_display": false
  }
 },
 "nbformat": 4,
 "nbformat_minor": 5
}
