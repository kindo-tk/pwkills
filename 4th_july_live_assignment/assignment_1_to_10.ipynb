{
 "cells": [
  {
   "cell_type": "markdown",
   "metadata": {},
   "source": [
    "# 4 July Live assignment"
   ]
  },
  {
   "cell_type": "markdown",
   "metadata": {},
   "source": [
    "# Question 1.1: Write the Answer to these questions. "
   ]
  },
  {
   "cell_type": "markdown",
   "metadata": {},
   "source": [
    "## 1-What is the difference between static and dynamic variables in Python?"
   ]
  },
  {
   "cell_type": "markdown",
   "metadata": {},
   "source": [
    "The differences between static and dynamic variables in python are:\n",
    "\n",
    "| **Aspect**       | **Static Variables**                                   | **Dynamic Variables**                                  |\n",
    "|------------------|--------------------------------------------------------|-------------------------------------------------------|\n",
    "| **Scope**        | Class-level                                            | Instance-level                                        |\n",
    "| **Lifetime**        | Exists for the lifetime of the program                                            | Exists as long as the instance exists                                        |\n",
    "| **Sharing**      | Shared across all instances                            | Unique to each instance                               |\n",
    "| **Access**       | Accessed through the class                             | Accessed through the instance                         |\n",
    "| **Initialization** | Initialized when the class is defined                 | Initialized when the instance is created              |\n",
    "| **Usage**        | Used for data common to all instances                  | Used for data specific to each instance               |"
   ]
  },
  {
   "cell_type": "code",
   "execution_count": 4,
   "metadata": {},
   "outputs": [
    {
     "name": "stdout",
     "output_type": "stream",
     "text": [
      "Student1 name: Tufan\n",
      "Student2 name: Kindo\n",
      "Student1 Roll: 45\n",
      "Student2 Roll: 44\n",
      "Student1 Stream: cse\n",
      "Student2 Stream: cse\n"
     ]
    }
   ],
   "source": [
    "## For example\n",
    "\n",
    "class CSStudent:\n",
    "    stream = 'cse'  # Static variable\n",
    "\n",
    "    def __init__(self, name, roll):\n",
    "        self.name = name  # Dynamic variable\n",
    "        self.roll = roll  # Dynamic variable\n",
    "        \n",
    "# Creating instances of CSStudent\n",
    "student1 = CSStudent(\"Tufan\", 45)\n",
    "student2 = CSStudent(\"Kindo\", 44)\n",
    "\n",
    "# Accessing dynamic variables\n",
    "print(\"Student1 name:\", student1.name)  # Output: Tufan\n",
    "print(\"Student2 name:\", student2.name)  # Output: Kindo\n",
    "print(\"Student1 Roll:\", student1.roll)  # Output: 45\n",
    "print(\"Student2 Roll:\", student2.roll)  # Output: 44\n",
    "\n",
    "# Accessing static variable\n",
    "print(\"Student1 Stream:\", student1.stream)  # Output: cse\n",
    "print(\"Student2 Stream:\", student2.stream)  # Output: cse\n"
   ]
  },
  {
   "cell_type": "markdown",
   "metadata": {},
   "source": [
    "## 2-Explain the purpose of \"pop\",\"popitem\",\"clear()\" in a dictionary with suitable examples"
   ]
  },
  {
   "cell_type": "markdown",
   "metadata": {},
   "source": [
    "### `pop`\n",
    "**Purpose:** Removes the specified key and returns the corresponding value."
   ]
  },
  {
   "cell_type": "code",
   "execution_count": 5,
   "metadata": {},
   "outputs": [
    {
     "name": "stdout",
     "output_type": "stream",
     "text": [
      "2\n",
      "{'a': 1, 'c': 3}\n"
     ]
    }
   ],
   "source": [
    "# Example\n",
    "\n",
    "my_dict = {'a': 1, 'b': 2, 'c': 3}\n",
    "value = my_dict.pop('b')\n",
    "print(value)  \n",
    "print(my_dict)  \n"
   ]
  },
  {
   "cell_type": "markdown",
   "metadata": {},
   "source": [
    "### `popitem`\n",
    "**Purpose:** Removes and returns the last item (key, value) pair added to the dictionary."
   ]
  },
  {
   "cell_type": "code",
   "execution_count": 9,
   "metadata": {},
   "outputs": [
    {
     "name": "stdout",
     "output_type": "stream",
     "text": [
      "('d', 4)\n",
      "{'a': 1, 'b': 2, 'c': 3}\n"
     ]
    }
   ],
   "source": [
    "# Example\n",
    "\n",
    "my_dict = {'a': 1, 'b': 2, 'c': 3,'d':4}\n",
    "item = my_dict.popitem()\n",
    "print(item)  \n",
    "print(my_dict)  \n"
   ]
  },
  {
   "cell_type": "markdown",
   "metadata": {},
   "source": [
    "### `clear`\n",
    "**Purpose:** Removes all items from the dictionary."
   ]
  },
  {
   "cell_type": "code",
   "execution_count": 11,
   "metadata": {},
   "outputs": [
    {
     "name": "stdout",
     "output_type": "stream",
     "text": [
      "{}\n"
     ]
    }
   ],
   "source": [
    "# Example\n",
    "\n",
    "my_dict = {'a': 1, 'b': 2, 'c': 3}\n",
    "my_dict.clear()\n",
    "print(my_dict) \n"
   ]
  },
  {
   "cell_type": "markdown",
   "metadata": {},
   "source": [
    "## 3-What do you mean by FrozenSet? Explain it with suitable examples."
   ]
  },
  {
   "cell_type": "markdown",
   "metadata": {},
   "source": [
    "A frozenset is an immutable set, meaning its elements cannot be changed after creation."
   ]
  },
  {
   "cell_type": "code",
   "execution_count": 2,
   "metadata": {},
   "outputs": [
    {
     "name": "stdout",
     "output_type": "stream",
     "text": [
      "frozenset({1, 2, 3, 4})\n"
     ]
    }
   ],
   "source": [
    "## For example:\n",
    "\n",
    "my_set = frozenset([1, 2, 3, 4])\n",
    "print(my_set) \n",
    "\n",
    "# if we Try to add or remove elements, it will result in an error\n",
    "\n",
    "my_set.add(5) \n",
    "\n"
   ]
  },
  {
   "cell_type": "markdown",
   "metadata": {},
   "source": [
    "## 4-Differentiate between mutable and immutable data types in Python and give examples of mutable and immutable data types."
   ]
  },
  {
   "cell_type": "markdown",
   "metadata": {},
   "source": [
    "### `Mutable data types`:\n",
    "Mutable data types are the data types that can be changed after creation.\n",
    "\n",
    "ex: List, Dictionary, Set"
   ]
  },
  {
   "cell_type": "code",
   "execution_count": 5,
   "metadata": {},
   "outputs": [
    {
     "name": "stdout",
     "output_type": "stream",
     "text": [
      "[1, 2, 3]\n",
      "[1, 2, 3, 4]\n",
      "[1, 2, 3]\n"
     ]
    }
   ],
   "source": [
    "## Example:\n",
    "\n",
    "my_list = [1,2,3]\n",
    "print(my_list)\n",
    "my_list.append(4) #since mutable so we can add element to the list\n",
    "print(my_list)\n",
    "my_list.pop()\n",
    "print(my_list) # since mutable so we can delete elements from the list aswell."
   ]
  },
  {
   "cell_type": "markdown",
   "metadata": {},
   "source": [
    "### `Immutable data types`:\n",
    "Immutable data types are the data types that cannot be changed after creation.\n",
    "\n",
    "ex: tuple, string, frozenset"
   ]
  },
  {
   "cell_type": "code",
   "execution_count": 9,
   "metadata": {},
   "outputs": [
    {
     "name": "stdout",
     "output_type": "stream",
     "text": [
      "Pwskills\n"
     ]
    }
   ],
   "source": [
    "# Example:\n",
    "my_string = \"Pwskills\"\n",
    "print(my_string)\n",
    "\n",
    "my_string[0] = 'k' #this will throw an error since we can change a string after it is created."
   ]
  },
  {
   "cell_type": "markdown",
   "metadata": {},
   "source": [
    "## 5-What is `__init__`?Explain with an example."
   ]
  },
  {
   "cell_type": "markdown",
   "metadata": {},
   "source": [
    "`__init__` is a special method(magic method) in Python classes, used for initializing new objects.\n",
    "\n",
    "`__init__` method is a constructor and is automatically executed when we create object of the class."
   ]
  },
  {
   "cell_type": "code",
   "execution_count": 10,
   "metadata": {},
   "outputs": [
    {
     "name": "stdout",
     "output_type": "stream",
     "text": [
      "Tufan\n",
      "22\n"
     ]
    }
   ],
   "source": [
    "class Student:\n",
    "    def __init__(self, name, sub):\n",
    "        self.name = name\n",
    "        self.sub = sub\n",
    "\n",
    "student = Student(\"Tufan\", 22)\n",
    "print(student.name) \n",
    "print(student.sub)  \n"
   ]
  },
  {
   "cell_type": "markdown",
   "metadata": {},
   "source": [
    "## 6- What is docstring in Python?Explain with an example"
   ]
  },
  {
   "cell_type": "markdown",
   "metadata": {},
   "source": [
    "A **docstring** is a string literal that occurs as the first statement in a module, function, class, or method definition, used for documentation."
   ]
  },
  {
   "cell_type": "code",
   "execution_count": 12,
   "metadata": {},
   "outputs": [
    {
     "name": "stdout",
     "output_type": "stream",
     "text": [
      "This function greets the user.\n"
     ]
    }
   ],
   "source": [
    "#ex:\n",
    "def greet():\n",
    "    \"\"\"This function greets the user.\"\"\"\n",
    "    print(\"Hello, World!\")\n",
    "\n",
    "print(greet.__doc__) "
   ]
  },
  {
   "cell_type": "markdown",
   "metadata": {},
   "source": [
    "## 7- What are unit tests in Python?"
   ]
  },
  {
   "cell_type": "markdown",
   "metadata": {},
   "source": [
    "Unit tests are small, isolated pieces of code written to test the smallest functional units of your Python program, typically functions or methods. They ensure that each unit behaves as expected, making it easier to catch and fix bugs early in the development process."
   ]
  },
  {
   "cell_type": "code",
   "execution_count": 14,
   "metadata": {},
   "outputs": [
    {
     "name": "stderr",
     "output_type": "stream",
     "text": [
      ".\n",
      "----------------------------------------------------------------------\n",
      "Ran 1 test in 0.001s\n",
      "\n",
      "OK\n"
     ]
    }
   ],
   "source": [
    "import unittest\n",
    "\n",
    "def add(a, b):\n",
    "    return a + b\n",
    "\n",
    "class TestAddFunction(unittest.TestCase):\n",
    "    def test_add(self):\n",
    "        self.assertEqual(add(2, 3), 5)\n",
    "\n",
    "if __name__ == '__main__':\n",
    "    unittest.main(argv=[''], exit=False)\n"
   ]
  },
  {
   "cell_type": "markdown",
   "metadata": {},
   "source": [
    "## 8-What is break, continue and pass in Python?\t"
   ]
  },
  {
   "cell_type": "markdown",
   "metadata": {},
   "source": [
    "### `break`:\n",
    "Purpose: Exits the current loop.\n"
   ]
  },
  {
   "cell_type": "code",
   "execution_count": 15,
   "metadata": {},
   "outputs": [
    {
     "name": "stdout",
     "output_type": "stream",
     "text": [
      "0\n",
      "1\n",
      "2\n"
     ]
    }
   ],
   "source": [
    "for i in range(5):\n",
    "    if i == 3:\n",
    "        break\n",
    "    print(i)  \n"
   ]
  },
  {
   "cell_type": "markdown",
   "metadata": {},
   "source": [
    "### `continue`:\n",
    "Purpose: Skips the rest of the current loop iteration and continues with the next iteration."
   ]
  },
  {
   "cell_type": "code",
   "execution_count": 17,
   "metadata": {},
   "outputs": [
    {
     "name": "stdout",
     "output_type": "stream",
     "text": [
      "0\n",
      "1\n",
      "2\n",
      "4\n"
     ]
    }
   ],
   "source": [
    "for i in range(5):\n",
    "    if i == 3:\n",
    "        continue  # skips only for the iteration i=3\n",
    "    print(i)  \n"
   ]
  },
  {
   "cell_type": "markdown",
   "metadata": {},
   "source": [
    "### `pass`:\n",
    "Purpose: A null operation; it does nothing. Mainly used when we are yet to write the definition of a function.\n"
   ]
  },
  {
   "cell_type": "code",
   "execution_count": 18,
   "metadata": {},
   "outputs": [
    {
     "name": "stdout",
     "output_type": "stream",
     "text": [
      "0\n",
      "1\n",
      "2\n",
      "3\n",
      "4\n"
     ]
    }
   ],
   "source": [
    "for i in range(5):\n",
    "    if i == 3:\n",
    "        pass\n",
    "    print(i)  \n"
   ]
  },
  {
   "cell_type": "markdown",
   "metadata": {},
   "source": [
    "## 9-What is the use of self in Python?"
   ]
  },
  {
   "cell_type": "markdown",
   "metadata": {},
   "source": [
    "When working with classes in Python, the term “self” refers to the instance of the class that is currently being used. It is customary to use “self” as the first parameter in instance methods of a class. Whenever we call a method of an object created from a class, the object is automatically passed as the first argument using the “self” parameter. This enables us to modify the object’s properties and execute tasks unique to that particular instance."
   ]
  },
  {
   "cell_type": "code",
   "execution_count": 19,
   "metadata": {},
   "outputs": [
    {
     "name": "stdout",
     "output_type": "stream",
     "text": [
      "21\n"
     ]
    }
   ],
   "source": [
    "## For example\n",
    "\n",
    "class Mynumber:\n",
    "    def __init__(self, value):\n",
    "        self.value = value\n",
    "    \n",
    "    def print_value(self):\n",
    "        print(self.value)\n",
    "\n",
    "obj1 = Mynumber(21)\n",
    "obj1.print_value()\n"
   ]
  },
  {
   "cell_type": "markdown",
   "metadata": {},
   "source": [
    "## 10-What are global, protected and private attributes in Python?\t"
   ]
  },
  {
   "cell_type": "markdown",
   "metadata": {},
   "source": [
    "### Global Attributes\n",
    " - Global attributes are variables defined outside of any class or function.\n",
    "- They can be accessed from anywhere in the code using the variable name directly.\n",
    "- To modify a global variable from within a function, we need to use the global keyword.\n",
    "\n",
    "\n",
    "### Protected Members\n",
    "- Protected members are indicated by a single leading underscore _ before the member name.\n",
    "- Protected members are accessible within the class and its subclasses.\n",
    "- It is a convention to treat protected members as non-public, but Python does not enforce access restrictions.\n",
    "\n",
    "\n",
    "### Private Members\n",
    "- Private members are indicated by a double leading underscore __ before the member name.\n",
    "- Private members can only be accessed within the class definition.\n",
    "- Python performs name mangling on private members, renaming them to _ClassName__member_name to avoid naming conflicts in subclasses.\n"
   ]
  },
  {
   "cell_type": "code",
   "execution_count": 20,
   "metadata": {},
   "outputs": [
    {
     "name": "stdout",
     "output_type": "stream",
     "text": [
      "I am a global variable\n",
      "I am a protected variable\n",
      "I am a private variable\n",
      "I am a protected variable\n",
      "Cannot access private variable directly\n"
     ]
    }
   ],
   "source": [
    "## Example\n",
    "\n",
    "# Global variable\n",
    "global_var = \"I am a global variable\"\n",
    "\n",
    "class MyClass:\n",
    "    def __init__(self):\n",
    "        self._protected_var = \"I am a protected variable\"\n",
    "        self.__private_var = \"I am a private variable\"\n",
    "\n",
    "    def print_global_var(self):\n",
    "        print(global_var)\n",
    "\n",
    "    def print_protected_var(self):\n",
    "        print(self._protected_var)\n",
    "\n",
    "    def print_private_var(self):\n",
    "        print(self.__private_var)\n",
    "\n",
    "class SubClass(MyClass):\n",
    "    def access_protected_var(self):\n",
    "        # Accessing protected variable from subclass\n",
    "        print(self._protected_var)\n",
    "\n",
    "    def access_private_var(self):\n",
    "        try:\n",
    "            # Attempt to access private variable (will raise an AttributeError)\n",
    "            print(self.__private_var)\n",
    "        except AttributeError:\n",
    "            print(\"Cannot access private variable directly\")\n",
    "\n",
    "# Instantiate the class\n",
    "obj = MyClass()\n",
    "\n",
    "# Accessing global variable\n",
    "obj.print_global_var()  # Output: I am a global variable\n",
    "\n",
    "# Accessing protected variable\n",
    "obj.print_protected_var()  # Output: I am a protected variable\n",
    "\n",
    "# Accessing private variable\n",
    "obj.print_private_var()  # Output: I am a private variable\n",
    "\n",
    "# Instantiate the subclass\n",
    "sub_obj = SubClass()\n",
    "\n",
    "# Accessing protected variable from subclass\n",
    "sub_obj.access_protected_var()  # Output: I am a protected variable\n",
    "\n",
    "# Attempt to access private variable from subclass (will raise an AttributeError)\n",
    "sub_obj.access_private_var()  # Output: Cannot access private variable directly\n",
    "\n",
    "        \n"
   ]
  },
  {
   "cell_type": "markdown",
   "metadata": {},
   "source": [
    "## 11-What are modules and packages in Python?"
   ]
  },
  {
   "cell_type": "markdown",
   "metadata": {},
   "source": [
    "### `Modules`:\n",
    "- A module is a single Python file with the .py extension.\n",
    "Modules contain functions, classes, variables, and executable code.\n",
    "- Modules allow us to break down your program into smaller, more manageable parts.\n",
    "- we can import modules into other Python scripts to use the functionality they provide.\n",
    "- Examples of built-in Python modules include math, os, sys, datetime, etc.\n",
    "\n",
    "\n",
    "### `Packages`:\n",
    "- A package is a collection of related modules organized into a directory hierarchy.\n",
    "- Packages provide a way to structure our Python code and create a namespace for our modules.\n",
    "- Packages allow us to group related modules together, making it easier to manage and distribute our code.\n",
    "- Packages contain an `__init__.py` file, which can be empty or contain initialization code.\n",
    "- we can import modules from a package using the package name and the module name, e.g., import package.module.\n",
    "- Examples of Python packages include numpy, pandas, matplotlib, django, etc."
   ]
  },
  {
   "cell_type": "markdown",
   "metadata": {},
   "source": [
    "## 12-What are lists and tuples? What is the key difference between the two?"
   ]
  },
  {
   "cell_type": "markdown",
   "metadata": {},
   "source": [
    "### `Lists`:\n",
    "- Lists are mutable, meaning we can modify, add, or remove elements after the list is created.\n",
    "- Lists are defined using square brackets [].\n",
    "- Lists can contain elements of different data types.\n",
    "- Lists have a dynamic size - we can add or remove elements as needed.\n",
    "- Common list operations include append(), extend(), insert(), remove(), pop(), etc.\n",
    "\n"
   ]
  },
  {
   "cell_type": "code",
   "execution_count": 22,
   "metadata": {},
   "outputs": [
    {
     "name": "stdout",
     "output_type": "stream",
     "text": [
      "[1, 2, 3, 'apple', [6, 7, 8]]\n",
      "[1, 2, 3, 'apple', [6, 7, 8], 'New_element']\n",
      "[1, 2, 3, [6, 7, 8], 'New_element']\n"
     ]
    }
   ],
   "source": [
    "# For example\n",
    "\n",
    "my_list = [1,2,3,\"apple\",[6,7,8]]\n",
    "print(my_list)\n",
    "my_list.append(\"New_element\")\n",
    "print(my_list)\n",
    "my_list.remove(\"apple\")\n",
    "print(my_list)"
   ]
  },
  {
   "cell_type": "markdown",
   "metadata": {},
   "source": [
    "### `Tuples`:\n",
    "- Tuples are immutable, meaning the elements inside a tuple cannot be modified after it is created.\n",
    "- Tuples are defined using parentheses ().\n",
    "- Tuples can also contain elements of different data types.\n",
    "- Tuples have a fixed size - we cannot add or remove elements once the tuple is created.\n",
    "- Tuples are generally faster and require less memory than lists.\n"
   ]
  },
  {
   "cell_type": "code",
   "execution_count": 24,
   "metadata": {},
   "outputs": [
    {
     "name": "stdout",
     "output_type": "stream",
     "text": [
      "(1, 2, 3, 4, 5, 'sample', (6, 7, 8))\n"
     ]
    }
   ],
   "source": [
    "## For example\n",
    "my_tuple = (1,2,3,4,5,\"sample\",(6,7,8))\n",
    "print(my_tuple)\n",
    "## since tuple is immutable so we can't perform operations like add, remove etc"
   ]
  },
  {
   "cell_type": "markdown",
   "metadata": {},
   "source": [
    "### `Key Differences:`\n",
    "- **Mutability**: Lists are mutable, while tuples are immutable.\n",
    "- **Syntax**: Lists use square brackets [], while tuples use parentheses ().\n",
    "- **Performance**: Tuples are generally faster and more memory-efficient than lists.\n",
    "- **Use Cases**: Tuples are often used to represent fixed collections of related data, while lists are more flexible for storing and manipulating data."
   ]
  },
  {
   "cell_type": "markdown",
   "metadata": {},
   "source": [
    "## 13-What is an Interpreted language & dynamically typed language?Write 5 differences between them."
   ]
  },
  {
   "cell_type": "markdown",
   "metadata": {},
   "source": [
    "| **Aspect**             | **Interpreted Language**                                 | **Dynamically Typed Language**                            |\n",
    "|------------------------|----------------------------------------------------------|----------------------------------------------------------|\n",
    "| **Definition**         | Executes code line-by-line using an interpreter.         | Determines variable types at runtime.                    |\n",
    "| **Type System**        | Can be either statically or dynamically typed.           | Specifically refers to the timing of type assignment (runtime). |\n",
    "| **Error Detection**    | Errors detected at runtime during interpretation.        | Type errors detected at runtime.                         |\n",
    "| **Execution**          | Code is executed by an interpreter.                      | Code can be executed by either an interpreter or a compiler. |\n",
    "| **Type Flexibility**   | Not inherently related to typing flexibility.            | Variables can change types during execution.             |\n",
    "| **Compilation**        | Does not require a compilation step before execution.    | Typing is determined without prior compilation.          |\n",
    "| **Performance**        | Typically slower due to interpretation overhead.         | May have performance overhead due to runtime type checking. |\n",
    "| **Code Modification**  | Easier and faster to modify and test.                    | Easier to write without worrying about type declarations.|\n",
    "| **Examples**           | Python, JavaScript, Ruby, PHP.                           | Python, JavaScript, Perl, Ruby.                          |\n"
   ]
  },
  {
   "cell_type": "markdown",
   "metadata": {},
   "source": [
    "## 14-What are Dict and List comprehensions?"
   ]
  },
  {
   "cell_type": "markdown",
   "metadata": {},
   "source": [
    "### `List Comprehensions`\n",
    "List comprehensions provide a concise way to create lists in Python. They consist of brackets containing an expression followed by a for clause, and can include multiple for or if clauses. The expressions can be any arbitrary expressions, including function calls and nested comprehensions.\n",
    "\n",
    "Syntax:\n",
    "\"[expression for item in iterable if condition]\""
   ]
  },
  {
   "cell_type": "code",
   "execution_count": 26,
   "metadata": {},
   "outputs": [
    {
     "name": "stdout",
     "output_type": "stream",
     "text": [
      "Squares from 1 to 9:\n",
      " [0, 1, 4, 9, 16, 25, 36, 49, 64, 81]\n",
      "Squares of even numbers from 1 to 9:\n",
      " [0, 4, 16, 36, 64]\n"
     ]
    }
   ],
   "source": [
    "## Example\n",
    "\n",
    "## Create a list of squares for numbers 0 to 9:\n",
    "squares = [x**2 for x in range(10)]\n",
    "print(\"Squares from 1 to 9:\\n\",squares)\n",
    "\n",
    "##Filter to include only even squares:\n",
    "even_squares = [x**2 for x in range(10) if x % 2 == 0]\n",
    "print(\"Squares of even numbers from 1 to 9:\\n\",even_squares)  "
   ]
  },
  {
   "cell_type": "markdown",
   "metadata": {},
   "source": [
    "### `Dict Comprehensions`\n",
    "Dictionary comprehensions provide a concise way to create dictionaries in Python. They follow a similar syntax to list comprehensions but use curly braces {} instead of square brackets [].\n",
    "\n",
    "Syntax:\n",
    "\"{key_expression: value_expression for item in iterable if condition}\""
   ]
  },
  {
   "cell_type": "code",
   "execution_count": 27,
   "metadata": {},
   "outputs": [
    {
     "name": "stdout",
     "output_type": "stream",
     "text": [
      "{0: 0, 1: 1, 2: 4, 3: 9, 4: 16, 5: 25, 6: 36, 7: 49, 8: 64, 9: 81}\n"
     ]
    }
   ],
   "source": [
    "## Example\n",
    "### Create a dictionary of numbers and their squares:\n",
    "squares_dict = {x: x**2 for x in range(10)}\n",
    "print(squares_dict)  "
   ]
  },
  {
   "cell_type": "code",
   "execution_count": 29,
   "metadata": {},
   "outputs": [
    {
     "name": "stdout",
     "output_type": "stream",
     "text": [
      "{0: 0, 2: 4, 4: 16, 6: 36, 8: 64}\n"
     ]
    }
   ],
   "source": [
    "##Filter to include only even squares in the dictionary:\n",
    "even_squares_dict = {x: x**2 for x in range(10) if x % 2 == 0}\n",
    "print(even_squares_dict)  \n"
   ]
  },
  {
   "cell_type": "markdown",
   "metadata": {},
   "source": [
    "## 15-What are decorators in Python? Explain it with an example.Write down its use cases."
   ]
  },
  {
   "cell_type": "markdown",
   "metadata": {},
   "source": [
    "In Python, decorators are a powerful feature that allows us to modify the behavior of functions or classes. Decorators are essentially functions themselves that take another function or class as input, add some functionality to it, and then return the modified function or class. They are commonly used for implementing cross-cutting concerns such as logging, authorization, caching, and more."
   ]
  },
  {
   "cell_type": "code",
   "execution_count": 30,
   "metadata": {},
   "outputs": [
    {
     "name": "stdout",
     "output_type": "stream",
     "text": [
      "Something is happening before the function is called.\n",
      "Hello!\n",
      "Something is happening after the function is called.\n"
     ]
    }
   ],
   "source": [
    "# Example of a decorator function\n",
    "\n",
    "def my_decorator(func):\n",
    "    def wrapper():\n",
    "        print(\"Something is happening before the function is called.\")\n",
    "        func()\n",
    "        print(\"Something is happening after the function is called.\")\n",
    "    return wrapper\n",
    "\n",
    "# Applying the decorator to a function\n",
    "@my_decorator\n",
    "def say_hello():\n",
    "    print(\"Hello!\")\n",
    "\n",
    "# Calling the decorated function\n",
    "say_hello()\n"
   ]
  },
  {
   "cell_type": "markdown",
   "metadata": {},
   "source": [
    "### Use Cases of Decorators:\n",
    "- **Logging**: Adding logging statements before and after function calls.\n",
    "- **Authorization**: Checking if a user has the right permissions before executing a function.\n",
    "- **Caching**: Storing the results of expensive function calls and returning the cached result when the same inputs occur again.\n",
    "- **Timing**: Measuring and reporting the time taken by functions to execute.\n",
    "Retry Mechanisms: Automatically retrying a function call a certain number of times if it fails.\n",
    "- **Validation**: Checking function arguments before execution.\n",
    "- **API Rate Limiting**: Limiting the number of API requests that can be made in a given time period.\n",
    "- **Dependency Injection**: Injecting dependencies into functions or methods."
   ]
  },
  {
   "cell_type": "markdown",
   "metadata": {},
   "source": [
    "## 16-How is memory managed in Python?"
   ]
  },
  {
   "cell_type": "markdown",
   "metadata": {},
   "source": [
    "Memory management in Python is handled by Python's memory manager, which is responsible for allocating and deallocating memory as needed during the execution of a program. Here are some key aspects of memory management in Python:\n",
    "\n",
    "1. **Automatic Memory Management:** Python uses automatic memory management, often referred to as garbage collection. This means that Python handles the allocation and deallocation of memory transparently, without requiring explicit memory management from the programmer.\n",
    "\n",
    "2. **Memory Allocation:** When Python objects like integers, lists, dictionaries, etc., are created, Python's memory manager allocates memory to store these objects. The amount of memory allocated depends on the type and size of the object.\n",
    "\n",
    "3. **Reference Counting:** Python uses a simple and efficient mechanism called reference counting to track and manage memory. Each object contains a reference count that keeps track of how many variables and data structures are referencing that object. When an object's reference count drops to zero, it means there are no more references to that object, and Python can safely deallocate its memory.\n",
    "\n",
    "4. **Garbage Collection:** In addition to reference counting, Python also employs a cyclic garbage collector to detect and break reference cycles (circular references) where objects reference each other in a way that prevents them from being garbage collected even when their reference counts reach zero. The garbage collector periodically runs in the background to reclaim memory from unreachable objects.\n",
    "\n",
    "5. **Memory De-allocation:** When an object's reference count drops to zero or when a cyclic garbage collector identifies a cycle of objects with zero external references, Python's memory manager deallocates the memory used by those objects. This process of memory deallocation frees up memory for reuse by the Python interpreter.\n",
    "\n",
    "6. **Memory Fragmentation:** Python's memory manager handles memory fragmentation by using memory pools for small objects and by using different strategies to optimize memory usage and performance.\n"
   ]
  },
  {
   "cell_type": "markdown",
   "metadata": {},
   "source": [
    "## 17-What is lambda in Python? Why is it used?"
   ]
  },
  {
   "cell_type": "markdown",
   "metadata": {},
   "source": [
    "**Lambda** in Python is an anonymous function, meaning it is a function defined without a name. It is typically used for simple, one-line functions that don't require a formal definition.\n",
    "\n",
    "Here are the key points about lambda functions in Python:\n",
    "- **Syntax**: The syntax for defining a lambda function is:\n",
    "lambda arguments: expression\n",
    "- **Arguments**: A lambda function can have any number of arguments, but it can only have one expression, which is evaluated and returned.\n",
    "- **Conciseness**: Lambda functions are useful for creating small, ad-hoc functions that are used only once. They provide a more concise syntax compared to defining a regular function using def.\n",
    "- **Functional Programming**: Lambda functions are often used in combination with higher-order functions like map(), filter(), and reduce() to implement functional programming concepts in Python.\n",
    "- **Limitations**: Lambda functions are limited to a single expression and cannot contain statements like return, for, while, etc. For more complex functions, it's better to use a regular function defined with def."
   ]
  },
  {
   "cell_type": "code",
   "execution_count": 31,
   "metadata": {},
   "outputs": [
    {
     "name": "stdout",
     "output_type": "stream",
     "text": [
      "25\n"
     ]
    }
   ],
   "source": [
    "## For example\n",
    "square = lambda x: x**2\n",
    "print(square(5))  "
   ]
  },
  {
   "cell_type": "markdown",
   "metadata": {},
   "source": [
    "## 18-Explain split() and join() functions in Python\t"
   ]
  },
  {
   "cell_type": "markdown",
   "metadata": {},
   "source": [
    "### `split()` Function:\n",
    "\n",
    "The `split()` function in Python is used to split a string into a list of substrings based on a delimiter. By default, it splits the string based on whitespace (spaces, tabs, newlines), but we can also specify a different delimiter.\n",
    "\n",
    "#### Syntax:\n",
    "```\n",
    "string.split(separator, maxsplit)\n",
    "```\n",
    "\n",
    "- `separator` (optional): Specifies the delimiter string. If not provided, the string is split by whitespace.\n",
    "- `maxsplit` (optional): Specifies the maximum number of splits to perform. Default is `-1`, meaning all possible splits."
   ]
  },
  {
   "cell_type": "code",
   "execution_count": 32,
   "metadata": {},
   "outputs": [
    {
     "name": "stdout",
     "output_type": "stream",
     "text": [
      "['Hello,', 'this', 'is', 'a', 'sentence.']\n",
      "['Tufan', 'Kundu', '22', 'Data Scientist']\n"
     ]
    }
   ],
   "source": [
    "#### Example:\n",
    "\n",
    "sentence = \"Hello, this is a sentence.\"\n",
    "words = sentence.split()  # Split by default (whitespace)\n",
    "print(words)\n",
    "\n",
    "csv_data = \"Tufan,Kundu,22,Data Scientist\"\n",
    "fields = csv_data.split(',')\n",
    "print(fields)\n"
   ]
  },
  {
   "cell_type": "markdown",
   "metadata": {},
   "source": [
    "### `join()` Function:\n",
    "\n",
    "The `join()` function in Python is used to concatenate elements of an iterable (e.g., list, tuple) into a single string. It joins each element of the iterable using a specified separator string.\n",
    "\n",
    "#### Syntax:\n",
    "```\n",
    "separator.join(iterable)\n",
    "```\n",
    "\n",
    "- `separator`: Specifies the string to use as a separator between elements.\n",
    "- `iterable`: An iterable (e.g., list, tuple) whose elements are to be joined into a string."
   ]
  },
  {
   "cell_type": "code",
   "execution_count": 34,
   "metadata": {},
   "outputs": [
    {
     "name": "stdout",
     "output_type": "stream",
     "text": [
      "Hello, this is a sentence.\n",
      "Tufan,Kundu,22,Data_Scientist\n"
     ]
    }
   ],
   "source": [
    "#### Example:\n",
    "\n",
    "words = ['Hello,', 'this', 'is', 'a', 'sentence.']\n",
    "sentence = ' '.join(words)  # Join with a space separator\n",
    "print(sentence)\n",
    "\n",
    "\n",
    "fields = ['Tufan', 'Kundu', '22', 'Data_Scientist']\n",
    "csv_data = ','.join(fields)  # Join with a comma separator\n",
    "print(csv_data)"
   ]
  },
  {
   "cell_type": "markdown",
   "metadata": {},
   "source": [
    "##  19-What are iterators , iterable & generators in Python?"
   ]
  },
  {
   "cell_type": "markdown",
   "metadata": {},
   "source": [
    "### Iterator:\n",
    "An iterator in Python is an object that implements the iterator protocol, which consists of two methods: `__iter__()` and `__next__()`. Iterators are used to iterate through an iterable, one element at a time, and they maintain internal state to remember the position of the current element."
   ]
  },
  {
   "cell_type": "code",
   "execution_count": 37,
   "metadata": {},
   "outputs": [
    {
     "name": "stdout",
     "output_type": "stream",
     "text": [
      "1\n",
      "2\n"
     ]
    }
   ],
   "source": [
    "my_list = [1, 2, 3, 4]\n",
    "my_iter = iter(my_list)  # Create an iterator\n",
    "\n",
    "print(next(my_iter)) \n",
    "print(next(my_iter))  \n"
   ]
  },
  {
   "cell_type": "markdown",
   "metadata": {},
   "source": [
    "### Iterable:\n",
    "\n",
    "An iterable in Python is any object capable of returning its members one at a time, allowing it to be iterated over in a for loop. Examples of iterables include lists, tuples, strings, dictionaries, sets, and more. An iterable must have an `__iter__()` method that returns an iterator, or it must implement a `__getitem__()` method with sequential indices starting from zero."
   ]
  },
  {
   "cell_type": "code",
   "execution_count": 38,
   "metadata": {},
   "outputs": [
    {
     "name": "stdout",
     "output_type": "stream",
     "text": [
      "1\n",
      "2\n",
      "3\n",
      "4\n"
     ]
    }
   ],
   "source": [
    "## For example:\n",
    "my_list = [1, 2, 3, 4]\n",
    "for item in my_list:\n",
    "    print(item)\n"
   ]
  },
  {
   "cell_type": "markdown",
   "metadata": {},
   "source": [
    "In this example, my_list is an iterable. When used in a for loop, Python calls iter(my_list), which in turn calls `my_list.__iter__()`, returning an iterator that produces values sequentially."
   ]
  },
  {
   "cell_type": "markdown",
   "metadata": {},
   "source": [
    "### Generator:\n",
    "A generator in Python is a special type of iterator that is created using a function with yield statements instead of return. Generators simplify the creation of iterators and are memory-efficient because they generate values on-the-fly rather than storing them in memory all at once."
   ]
  },
  {
   "cell_type": "code",
   "execution_count": 40,
   "metadata": {},
   "outputs": [
    {
     "name": "stdout",
     "output_type": "stream",
     "text": [
      "0\n",
      "1\n",
      "2\n",
      "3\n",
      "4\n"
     ]
    }
   ],
   "source": [
    "def count_up_to(n):\n",
    "    i = 0\n",
    "    while i < n:\n",
    "        yield i\n",
    "        i += 1\n",
    "\n",
    "counter = count_up_to(5)\n",
    "print(next(counter))  # Output: 0\n",
    "print(next(counter))  # Output: 1\n",
    "print(next(counter))  # Output: 2\n",
    "print(next(counter))  # Output: 3\n",
    "print(next(counter))  # Output: 4\n",
    "#print(next(counter))  # Raises StopIteration"
   ]
  },
  {
   "cell_type": "markdown",
   "metadata": {},
   "source": [
    "## 20-What is the difference between xrange and range in Python?"
   ]
  },
  {
   "cell_type": "markdown",
   "metadata": {},
   "source": [
    "In Python 2.x, there were two built-in functions for generating sequences of numbers: `range()` and `xrange()`. However, in Python 3.x, `xrange()` was removed, and `range()` now behaves like `xrange()` did in Python 2.x.\n",
    "\n",
    "Here are the key differences between `range()` and `xrange()` in Python 2.x:\n",
    "\n",
    "1. **Memory Usage**:\n",
    "   - `range()` returns a list containing the specified range of numbers.\n",
    "   - `xrange()` returns an xrange object, which generates the numbers on-the-fly as they are needed, without storing the entire sequence in memory.\n",
    "\n",
    "2. **Syntax**:\n",
    "   - `range(start, stop, step)` creates a list of numbers from `start` (inclusive) to `stop` (exclusive), stepping by `step`.\n",
    "   - `xrange(start, stop, step)` has the same syntax as `range()`, but it returns an xrange object instead of a list.\n",
    "\n",
    "3. **Efficiency**:\n",
    "   - `range()` can consume a lot of memory for large ranges, as it creates a list containing all the numbers.\n",
    "   - `xrange()` is more memory-efficient, as it generates the numbers one at a time, making it suitable for working with large ranges.\n"
   ]
  },
  {
   "cell_type": "code",
   "execution_count": 42,
   "metadata": {},
   "outputs": [
    {
     "name": "stdout",
     "output_type": "stream",
     "text": [
      "<class 'range'>\n"
     ]
    }
   ],
   "source": [
    "\n",
    "## Example:\n",
    "# Python 3.x\n",
    "print(type(range(1, 10000000)))  # Output: <class 'range'>"
   ]
  },
  {
   "cell_type": "markdown",
   "metadata": {},
   "source": [
    "In summary, the main difference between `range()` and `xrange()` in Python 2.x was that `xrange()` was more memory-efficient for large ranges, as it generated the numbers on-the-fly instead of creating a list. In Python 3.x, `range()` behaves like `xrange()`, providing a memory-efficient way to work with sequences of numbers."
   ]
  },
  {
   "cell_type": "markdown",
   "metadata": {},
   "source": [
    "## 21- Pillars of Oops."
   ]
  },
  {
   "cell_type": "markdown",
   "metadata": {},
   "source": [
    "The four main pillars of Object-Oriented Programming (OOP) are:\n",
    "\n",
    "1. **Encapsulation:**\n",
    "   - **Definition:** Encapsulation is the bundling of data (attributes) and methods (functions) that operate on the data into a single unit called a class. It helps in hiding the internal state and requiring all interactions to be performed through well-defined interfaces.\n",
    "   - **Purpose:** Encapsulation helps in achieving data hiding, reducing complexity, and increasing reusability by preventing direct access to internal data.\n",
    "\n",
    "2. **Abstraction:**\n",
    "   - **Definition:** Abstraction involves hiding the complex implementation details of a class and showing only the essential features of the object. It focuses on what an object does rather than how it does it.\n",
    "   - **Purpose:** Abstraction allows programmers to focus on the relevant details of an object and ignore unnecessary details. It enhances security, reduces complexity, and makes code more maintainable.\n",
    "\n",
    "3. **Inheritance:**\n",
    "   - **Definition:** Inheritance is the mechanism by which a class can inherit properties (attributes and methods) and behavior from another class, called the superclass or parent class. The class that inherits is called the subclass or child class.\n",
    "   - **Purpose:** Inheritance promotes code reuse and allows the creation of a hierarchy of classes with specialized behavior. It helps in implementing polymorphism and is fundamental in building relationships between objects.\n",
    "\n",
    "4. **Polymorphism:**\n",
    "   - **Definition:** Polymorphism means the ability of different objects to respond to the same message (method call) in different ways. It allows objects of different classes to be treated as objects of a common superclass.\n",
    "   - **Purpose:** Polymorphism enhances flexibility and extensibility by allowing objects to be processed uniformly, even if they belong to different classes. It promotes code reusability and simplifies code maintenance.\n"
   ]
  },
  {
   "cell_type": "code",
   "execution_count": 43,
   "metadata": {},
   "outputs": [
    {
     "name": "stdout",
     "output_type": "stream",
     "text": [
      "Buddy says Woof!\n",
      "Whiskers says Meow!\n"
     ]
    }
   ],
   "source": [
    "## For example\n",
    "\n",
    "# Encapsulation and Abstraction\n",
    "class Animal:\n",
    "    def __init__(self, name, age):\n",
    "        self.name = name\n",
    "        self.age = age\n",
    "    \n",
    "    def speak(self):\n",
    "        raise NotImplementedError(\"Subclass must implement abstract method\")\n",
    "\n",
    "# Inheritance and Polymorphism\n",
    "class Dog(Animal):\n",
    "    def speak(self):\n",
    "        return f\"{self.name} says Woof!\"\n",
    "\n",
    "class Cat(Animal):\n",
    "    def speak(self):\n",
    "        return f\"{self.name} says Meow!\"\n",
    "\n",
    "# Function demonstrating polymorphism\n",
    "def make_animal_speak(animal):\n",
    "    print(animal.speak())\n",
    "\n",
    "# Creating instances\n",
    "dog = Dog(\"Buddy\", 3)\n",
    "cat = Cat(\"Whiskers\", 5)\n",
    "\n",
    "# Using polymorphic function\n",
    "make_animal_speak(dog)  \n",
    "make_animal_speak(cat) \n",
    "\n"
   ]
  },
  {
   "cell_type": "markdown",
   "metadata": {},
   "source": [
    "### Explanation:\n",
    "\n",
    "#### 1. Encapsulation and Abstraction:\n",
    "- **Encapsulation:** The `Animal` class encapsulates the attributes `name` and `age` within its `__init__()` method, ensuring they are accessible only through the class methods.\n",
    "- **Abstraction:** The `speak()` method in the `Animal` class is abstract (not implemented in the base class), enforcing subclasses (`Dog` and `Cat`) to provide their specific implementations.\n",
    "\n",
    "#### 2. Inheritance:\n",
    "- **Inheritance:** The `Dog` and `Cat` classes inherit from the `Animal` class, gaining access to its attributes (`name`, `age`) and method (`speak()`).\n",
    "\n",
    "#### 3. Polymorphism:\n",
    "- **Polymorphism:** The `make_animal_speak()` function demonstrates polymorphism by accepting any `Animal` object (`Dog` or `Cat`) and calling their overridden `speak()` method without knowing the specific subclass (`Dog` or `Cat`). This is achieved through dynamic method binding in Python.\n"
   ]
  },
  {
   "cell_type": "markdown",
   "metadata": {},
   "source": [
    "## 22-How will you check if a class is a child of another class?"
   ]
  },
  {
   "cell_type": "markdown",
   "metadata": {},
   "source": [
    "In Python, we can check if a class is a subclass (child class) of another class using the `issubclass()` function or by using the `__subclasshook__()` method. Here's how we can do it:\n",
    "\n",
    "### Using `issubclass()` Function:\n",
    "\n",
    "The `issubclass()` function checks if a given class (potential subclass) is indeed a subclass of a specified class (potential superclass).\n",
    "\n"
   ]
  },
  {
   "cell_type": "code",
   "execution_count": 45,
   "metadata": {},
   "outputs": [
    {
     "name": "stdout",
     "output_type": "stream",
     "text": [
      "True\n",
      "False\n"
     ]
    }
   ],
   "source": [
    "## Example:\n",
    "\n",
    "class Parent:\n",
    "    pass\n",
    "\n",
    "class Child(Parent):\n",
    "    pass\n",
    "\n",
    "# Check if Child is a subclass of Parent\n",
    "print(issubclass(Child, Parent))  \n",
    "\n",
    "# Check if Parent is a subclass of Child (which it's not)\n",
    "print(issubclass(Parent, Child))  \n",
    "\n",
    "\n"
   ]
  },
  {
   "cell_type": "markdown",
   "metadata": {},
   "source": [
    "### Using `__subclasshook__()` Method:\n",
    "\n",
    "The `__subclasshook__()` method is a special method that can be defined in a class to customize the behavior of `issubclass()` when checking for subclasses.\n",
    "\n"
   ]
  },
  {
   "cell_type": "code",
   "execution_count": 46,
   "metadata": {},
   "outputs": [
    {
     "name": "stdout",
     "output_type": "stream",
     "text": [
      "True\n",
      "False\n"
     ]
    }
   ],
   "source": [
    "class Parent:\n",
    "    @classmethod\n",
    "    def __subclasshook__(cls, subclass):\n",
    "        return issubclass(subclass, Parent)\n",
    "\n",
    "class Child(Parent):\n",
    "    pass\n",
    "\n",
    "# Check if Child is a subclass of Parent\n",
    "print(issubclass(Child, Parent)) \n",
    "\n",
    "# Check if Parent is a subclass of Child (which it's not)\n",
    "print(issubclass(Parent, Child))  \n"
   ]
  },
  {
   "cell_type": "markdown",
   "metadata": {},
   "source": [
    "### Explanation:\n",
    "\n",
    "- **`issubclass(subclass, superclass)`**: Checks if `subclass` is a subclass of `superclass`. Returns `True` if `subclass` is indeed a subclass of `superclass`, otherwise returns `False`.\n",
    "\n",
    "- **`__subclasshook__(subclass)`**: This method is used for dynamic subclass checks. It returns `True` if the `subclass` is considered a subclass of `cls` (the class in which `__subclasshook__` is defined).\n"
   ]
  },
  {
   "cell_type": "markdown",
   "metadata": {},
   "source": [
    "## 23-How does inheritance work in python? Explain all types of inheritance with an example."
   ]
  },
  {
   "cell_type": "markdown",
   "metadata": {},
   "source": [
    "In Python, inheritance allows one class (subclass or derived class) to inherit the properties and methods of another class (superclass or base class). This facilitates code reuse and supports the concept of hierarchical classification. Python supports several types of inheritance, including single inheritance, multiple inheritance, multilevel inheritance, and hierarchical inheritance.\n",
    "\n",
    "### 1. Single Inheritance:\n",
    "\n",
    "Single inheritance involves one subclass inheriting from one superclass.\n"
   ]
  },
  {
   "cell_type": "code",
   "execution_count": 48,
   "metadata": {},
   "outputs": [
    {
     "name": "stdout",
     "output_type": "stream",
     "text": [
      "Buddy says Woof!\n"
     ]
    }
   ],
   "source": [
    "# Base class\n",
    "class Animal:\n",
    "    def __init__(self, name):\n",
    "        self.name = name\n",
    "    \n",
    "    def speak(self):\n",
    "        raise NotImplementedError(\"Subclass must implement abstract method\")\n",
    "\n",
    "# Derived class (subclass)\n",
    "class Dog(Animal):\n",
    "    def speak(self):\n",
    "        return f\"{self.name} says Woof!\"\n",
    "\n",
    "# Creating instances\n",
    "dog = Dog(\"Buddy\")\n",
    "print(dog.speak())  \n",
    "\n",
    "\n",
    "'''Explanation: Here, `Dog` is inheriting from `Animal`. \n",
    "The `Dog` class inherits the `name` attribute and the `speak()` \n",
    "method from `Animal`. `Dog` overrides the `speak()` method \n",
    "to provide its own implementation.'''\n",
    "pass\n"
   ]
  },
  {
   "cell_type": "markdown",
   "metadata": {},
   "source": [
    "### 2. Multiple Inheritance:\n",
    "\n",
    "Multiple inheritance involves one subclass inheriting from multiple superclasses.\n",
    "\n"
   ]
  },
  {
   "cell_type": "code",
   "execution_count": 49,
   "metadata": {},
   "outputs": [
    {
     "name": "stdout",
     "output_type": "stream",
     "text": [
      "Buddy says Woof!\n",
      "Buddy is running\n"
     ]
    }
   ],
   "source": [
    "# Base classes\n",
    "class Animal:\n",
    "    def __init__(self, name):\n",
    "        self.name = name\n",
    "    \n",
    "    def speak(self):\n",
    "        raise NotImplementedError(\"Subclass must implement abstract method\")\n",
    "\n",
    "class Mammal:\n",
    "    def __init__(self, mammal_type):\n",
    "        self.type = mammal_type\n",
    "    \n",
    "    def run(self):\n",
    "        return f\"{self.name} is running\"\n",
    "\n",
    "# Derived class (subclass)\n",
    "class Dog(Animal, Mammal):\n",
    "    def speak(self):\n",
    "        return f\"{self.name} says Woof!\"\n",
    "\n",
    "# Creating instances\n",
    "dog = Dog(\"Buddy\")\n",
    "print(dog.speak())  \n",
    "print(dog.run())    \n",
    "\n",
    "'''Explanation: `Dog` inherits from both `Animal` and `Mammal`.\n",
    "It inherits the `name` attribute from `Animal` and the `speak()`\n",
    "method from `Animal`. Additionally, `Dog` inherits the `type` \n",
    "attribute from `Mammal` and the `run()` method from `Mammal`.'''\n",
    "pass\n",
    "\n"
   ]
  },
  {
   "cell_type": "markdown",
   "metadata": {},
   "source": [
    "### 3. Multilevel Inheritance:\n",
    "\n",
    "Multilevel inheritance involves a chain of inheritance where one subclass inherits from another subclass.\n",
    "\n"
   ]
  },
  {
   "cell_type": "code",
   "execution_count": 50,
   "metadata": {},
   "outputs": [
    {
     "name": "stdout",
     "output_type": "stream",
     "text": [
      "Junior says Yip!\n"
     ]
    }
   ],
   "source": [
    "# Base class\n",
    "class Animal:\n",
    "    def __init__(self, name):\n",
    "        self.name = name\n",
    "    \n",
    "    def speak(self):\n",
    "        raise NotImplementedError(\"Subclass must implement abstract method\")\n",
    "\n",
    "# Intermediate class (subclass)\n",
    "class Dog(Animal):\n",
    "    def speak(self):\n",
    "        return f\"{self.name} says Woof!\"\n",
    "\n",
    "# Derived class (subclass)\n",
    "class Puppy(Dog):\n",
    "    def speak(self):\n",
    "        return f\"{self.name} says Yip!\"\n",
    "\n",
    "# Creating instances\n",
    "puppy = Puppy(\"Junior\")\n",
    "print(puppy.speak())  \n",
    "\n",
    "\n"
   ]
  },
  {
   "cell_type": "markdown",
   "metadata": {},
   "source": [
    "### 4. Hierarchical Inheritance:\n",
    "\n",
    "Hierarchical inheritance involves multiple subclasses inheriting from a single superclass.\n"
   ]
  },
  {
   "cell_type": "code",
   "execution_count": 51,
   "metadata": {},
   "outputs": [
    {
     "name": "stdout",
     "output_type": "stream",
     "text": [
      "Buddy says Woof!\n",
      "Whiskers says Meow!\n"
     ]
    }
   ],
   "source": [
    "# Base class\n",
    "class Animal:\n",
    "    def __init__(self, name):\n",
    "        self.name = name\n",
    "    \n",
    "    def speak(self):\n",
    "        raise NotImplementedError(\"Subclass must implement abstract method\")\n",
    "\n",
    "# Derived classes (subclasses)\n",
    "class Dog(Animal):\n",
    "    def speak(self):\n",
    "        return f\"{self.name} says Woof!\"\n",
    "\n",
    "class Cat(Animal):\n",
    "    def speak(self):\n",
    "        return f\"{self.name} says Meow!\"\n",
    "\n",
    "# Creating instances\n",
    "dog = Dog(\"Buddy\")\n",
    "cat = Cat(\"Whiskers\")\n",
    "print(dog.speak())  \n",
    "print(cat.speak())  \n"
   ]
  },
  {
   "cell_type": "markdown",
   "metadata": {},
   "source": [
    "### Summary:\n",
    "\n",
    "- **Single Inheritance:** One subclass inherits from one superclass.\n",
    "- **Multiple Inheritance:** One subclass inherits from multiple superclasses.\n",
    "- **Multilevel Inheritance:** A chain of inheritance where one subclass inherits from another subclass.\n",
    "- **Hierarchical Inheritance:** Multiple subclasses inherit from a single superclass."
   ]
  },
  {
   "cell_type": "markdown",
   "metadata": {},
   "source": [
    "## 24-What is encapsulation? Explain it with an example."
   ]
  },
  {
   "cell_type": "markdown",
   "metadata": {},
   "source": [
    "Encapsulation is one of the fundamental principles of Object-Oriented Programming (OOP). It involves bundling the data (attributes) and methods (functions) that operate on the data into a single unit called a class. In encapsulation, the internal state of an object is hidden from the outside world, and access to it is restricted to methods of the class. This concept helps in achieving data hiding and ensures that the implementation details of an object are hidden and not accessible to the outside environment."
   ]
  },
  {
   "cell_type": "code",
   "execution_count": 52,
   "metadata": {},
   "outputs": [
    {
     "name": "stdout",
     "output_type": "stream",
     "text": [
      "My car is a 2022 Audi A4.\n",
      "Odometer reading: 10500 miles.\n"
     ]
    }
   ],
   "source": [
    "### Example of Encapsulation:\n",
    "\n",
    "class Car:\n",
    "    def __init__(self, make, model, year):\n",
    "        self.__make = make  # Encapsulated private attribute\n",
    "        self.__model = model  # Encapsulated private attribute\n",
    "        self.__year = year  # Encapsulated private attribute\n",
    "        self.__odometer_reading = 0  # Encapsulated private attribute\n",
    "\n",
    "    def get_make(self):\n",
    "        return self.__make\n",
    "\n",
    "    def get_model(self):\n",
    "        return self.__model\n",
    "\n",
    "    def get_year(self):\n",
    "        return self.__year\n",
    "\n",
    "    def get_odometer_reading(self):\n",
    "        return self.__odometer_reading\n",
    "\n",
    "    def update_odometer(self, mileage):\n",
    "        if mileage >= self.__odometer_reading:\n",
    "            self.__odometer_reading = mileage\n",
    "        else:\n",
    "            print(\"You can't roll back an odometer!\")\n",
    "\n",
    "    def increment_odometer(self, miles):\n",
    "        if miles > 0:\n",
    "            self.__odometer_reading += miles\n",
    "        else:\n",
    "            print(\"You can't decrement the odometer!\")\n",
    "\n",
    "# Creating an instance of Car\n",
    "my_car = Car(\"Audi\", \"A4\", 2022)\n",
    "\n",
    "# Accessing encapsulated attributes through methods\n",
    "print(f\"My car is a {my_car.get_year()} {my_car.get_make()} {my_car.get_model()}.\")\n",
    "\n",
    "# Trying to access encapsulated attribute directly (this will raise an error)\n",
    "# print(my_car.__make)  # AttributeError: 'Car' object has no attribute '__make'\n",
    "\n",
    "# Updating odometer reading through encapsulated method\n",
    "my_car.update_odometer(10000)\n",
    "\n",
    "# Incrementing odometer reading through encapsulated method\n",
    "my_car.increment_odometer(500)\n",
    "\n",
    "# Accessing updated odometer reading through encapsulated method\n",
    "print(f\"Odometer reading: {my_car.get_odometer_reading()} miles.\")\n"
   ]
  },
  {
   "cell_type": "markdown",
   "metadata": {},
   "source": [
    "### Explanation:\n",
    "\n",
    "- In the `Car` class:\n",
    "  - Attributes (`__make`, `__model`, `__year`, `__odometer_reading`) are encapsulated by using double underscores (`__`). This makes them private to the class, preventing direct access from outside the class.\n",
    "  \n",
    "  - Methods (`get_make()`, `get_model()`, `get_year()`, `get_odometer_reading()`, `update_odometer()`, `increment_odometer()`) provide controlled access to these encapsulated attributes. They act as interfaces through which external code interacts with the encapsulated data.\n",
    "  \n",
    "  - The `update_odometer()` and `increment_odometer()` methods ensure that any updates to the `__odometer_reading` attribute follow specific rules (e.g., not allowing odometer rollback).\n",
    "\n",
    "- **Benefits of Encapsulation:**\n",
    "  - **Data Hiding:** Encapsulation hides the internal state of objects, preventing accidental modification and ensuring data integrity.\n",
    "  - **Controlled Access:** By using methods to access and modify attributes, encapsulation allows controlled and secure interaction with object data.\n",
    "  - **Modularity:** Encapsulation promotes modularity by grouping related data and methods together within a class, making the code more organized and easier to maintain."
   ]
  },
  {
   "cell_type": "markdown",
   "metadata": {},
   "source": [
    "## 25- What is polymorphism?  Explain it with an example."
   ]
  },
  {
   "cell_type": "markdown",
   "metadata": {},
   "source": [
    "Polymorphism is a fundamental concept in Object-Oriented Programming (OOP) that allows objects of different classes to be treated as objects of a common superclass. It enables methods to be called on objects without knowing their specific type, and the behavior of the method can vary depending on the actual object being operated upon. Polymorphism allows for code flexibility, reusability, and abstraction."
   ]
  },
  {
   "cell_type": "code",
   "execution_count": 53,
   "metadata": {},
   "outputs": [
    {
     "name": "stdout",
     "output_type": "stream",
     "text": [
      "Buddy says Woof!\n",
      "Whiskers says Meow!\n",
      "Donald says Quack!\n"
     ]
    }
   ],
   "source": [
    "### Example of Polymorphism:\n",
    "\n",
    "class Animal:\n",
    "    def __init__(self, name):\n",
    "        self.name = name\n",
    "    \n",
    "    def speak(self):\n",
    "        raise NotImplementedError(\"Subclass must implement abstract method\")\n",
    "\n",
    "class Dog(Animal):\n",
    "    def speak(self):\n",
    "        return f\"{self.name} says Woof!\"\n",
    "\n",
    "class Cat(Animal):\n",
    "    def speak(self):\n",
    "        return f\"{self.name} says Meow!\"\n",
    "\n",
    "class Duck(Animal):\n",
    "    def speak(self):\n",
    "        return f\"{self.name} says Quack!\"\n",
    "\n",
    "# Function demonstrating polymorphism\n",
    "def make_animal_speak(animal):\n",
    "    print(animal.speak())\n",
    "\n",
    "# Creating instances of different classes\n",
    "dog = Dog(\"Buddy\")\n",
    "cat = Cat(\"Whiskers\")\n",
    "duck = Duck(\"Donald\")\n",
    "\n",
    "# Using polymorphic function\n",
    "make_animal_speak(dog)  \n",
    "make_animal_speak(cat)  \n",
    "make_animal_speak(duck)  \n",
    "\n",
    "\n"
   ]
  },
  {
   "cell_type": "markdown",
   "metadata": {},
   "source": [
    "### Explanation:\n",
    "\n",
    "- **Animal Class:** Defines a base class `Animal` with an abstract `speak()` method. This method is overridden in subclasses (`Dog`, `Cat`, `Duck`) with their specific implementations.\n",
    "\n",
    "- **Subclasses (`Dog`, `Cat`, `Duck`):** Each subclass inherits from `Animal` and provides its own implementation of the `speak()` method, representing different animal sounds (`Woof!`, `Meow!`, `Quack!`).\n",
    "\n",
    "- **Polymorphic Function (`make_animal_speak`):** The function `make_animal_speak()` accepts any object of type `Animal` (or its subclasses due to inheritance), and calls the `speak()` method on it. The specific implementation of `speak()` depends on the actual object type (`Dog`, `Cat`, or `Duck`) passed to the function.\n",
    "\n",
    "- **Output:** When `make_animal_speak()` is called with instances of `Dog`, `Cat`, and `Duck`, it demonstrates polymorphism by invoking the appropriate `speak()` method for each object, based on its specific subclass. This allows the function to treat different types of animals uniformly, leveraging their specific behaviors without explicitly knowing their exact type.\n",
    "\n",
    "### Benefits of Polymorphism:\n",
    "\n",
    "- **Code Flexibility:** Allows for the same method to have different implementations based on the object type, enhancing code flexibility and adaptability.\n",
    "- **Code Reusability:** Promotes reuse of code through inheritance and method overriding, reducing redundancy and improving maintainability.\n",
    "- **Abstraction:** Simplifies code by providing a unified interface (`speak()` method in this example) to interact with different objects, hiding specific implementation details.\n"
   ]
  },
  {
   "cell_type": "markdown",
   "metadata": {},
   "source": [
    "# Question 1. 2. Which of the following identifier names are invalid and why?    \n",
    "\n",
    "a) Serial_no.\n",
    "\n",
    "b) 1st_Room\n",
    "\n",
    "c) Hundred$\n",
    "\n",
    "d) Total_Marks\n",
    "\n",
    "e) total-Marks\n",
    "\n",
    "f) Total Marks \n",
    "\n",
    "g) True\n",
    "\n",
    "h) _Percentag"
   ]
  },
  {
   "cell_type": "markdown",
   "metadata": {},
   "source": [
    "| **Invalid Identifier**             | **Reason**                            |\n",
    "----------------------------------------------------------|----------------------------------------------------------|\n",
    "a) Serial_no.|special character '.' is present|\n",
    "b) 1st_Room | identifier name can't start with a digit|\n",
    "c) Hundred$ | special character '$' is present|\n",
    "e) total-Marks | special character '-' is present|\n",
    "f) Total Marks | blank space is present, which is not allowed|\n",
    "g) True | Keyword name can't be used as an identifier|\n"
   ]
  },
  {
   "cell_type": "markdown",
   "metadata": {},
   "source": [
    "# Question 1.3. \n",
    "\n",
    "# name = [\"Mohan\", \"dash\", \"karam\", \"chandra\",\"gandhi\",\"Bapu\"] do the following operations in this list;"
   ]
  },
  {
   "cell_type": "markdown",
   "metadata": {},
   "source": [
    "## a) add an element \"freedom_fighter\" in this list at the 0th index"
   ]
  },
  {
   "cell_type": "code",
   "execution_count": 59,
   "metadata": {},
   "outputs": [
    {
     "name": "stdout",
     "output_type": "stream",
     "text": [
      "Original list:\n",
      " ['Mohan', 'dash', 'karam', 'chandra', 'gandhi', 'Bapu']\n",
      "After adding to the  list:\n",
      " ['freedom_fighter', 'Mohan', 'dash', 'karam', 'chandra', 'gandhi', 'Bapu']\n"
     ]
    }
   ],
   "source": [
    "name = [\"Mohan\", \"dash\", \"karam\", \"chandra\",\"gandhi\",\"Bapu\"]\n",
    "print(\"Original list:\\n\",name)\n",
    "name.insert(0,\"freedom_fighter\")\n",
    "print(\"After adding to the  list:\\n\",name)"
   ]
  },
  {
   "cell_type": "markdown",
   "metadata": {},
   "source": [
    "## b) find the output of the following ,and explain how?\n",
    "\n",
    "```python\n",
    "name = [“freedomFighter”,\"Bapuji\",\"MOhan\" \"dash\", \"karam\", \n",
    "\"chandra\",\"gandhi\"]\n",
    "\n",
    "length1=len((name[-len(name)+1:-1:2]))\n",
    "\n",
    "length2=len((name[-len(name)+1:-1]))\n",
    "\n",
    "print(length1+length2)\n",
    "\n",
    "```"
   ]
  },
  {
   "cell_type": "code",
   "execution_count": 62,
   "metadata": {},
   "outputs": [
    {
     "name": "stdout",
     "output_type": "stream",
     "text": [
      "8\n"
     ]
    }
   ],
   "source": [
    "name = [\"freedomFighter\",\"Bapuji\",\"MOhan\" ,\"dash\", \"karam\", \n",
    "\"chandra\",\"gandhi\"]\n",
    "\n",
    "length1=len((name[-len(name)+1:-1:2]))\n",
    "\n",
    "length2=len((name[-len(name)+1:-1]))\n",
    "\n",
    "print(length1+length2)"
   ]
  },
  {
   "cell_type": "markdown",
   "metadata": {},
   "source": [
    "### Explanation\n",
    "\n",
    "length of the original list= 7\n",
    "i.e. len(name) = 7\n",
    "\n",
    "- so name[-len(name)+1:-1:2] becomes name[-6:-1:2]\n",
    "i.e ['Bapuji','dash','chandra]\n",
    "- so length of this part is 3\n",
    "i.e. length1=3\n",
    "\n",
    "similarly name[-len(name)+1:-1] becomes name[-6:-1] i.e \n",
    "['Bapuji','Mohan','dash','Karam','Chandra']\n",
    "- so length of this part is 5\n",
    "\n",
    "finally length1+length2 = 3+5 =8"
   ]
  },
  {
   "cell_type": "markdown",
   "metadata": {},
   "source": [
    "## c) add two more elements in the name [\"NetaJi\",\"Bose\"] at the end of the list."
   ]
  },
  {
   "cell_type": "code",
   "execution_count": 66,
   "metadata": {},
   "outputs": [
    {
     "name": "stdout",
     "output_type": "stream",
     "text": [
      "Before adding:\n",
      " ['freedomFighter', 'Bapuji', 'MOhan', 'dash', 'karam', 'chandra', 'gandhi', 'Netaji', 'Bose']\n",
      "\n",
      "\n",
      "After adding:\n",
      " ['freedomFighter', 'Bapuji', 'MOhan', 'dash', 'karam', 'chandra', 'gandhi', 'Netaji', 'Bose', 'Netaji', 'Bose']\n"
     ]
    }
   ],
   "source": [
    "print(\"Before adding:\\n\",name)\n",
    "name.extend(['Netaji','Bose'])\n",
    "print(\"\\n\\nAfter adding:\\n\",name)"
   ]
  },
  {
   "cell_type": "markdown",
   "metadata": {},
   "source": [
    "## d) what will be the value of temp:\n",
    "\n",
    "```python\n",
    "name = [\"Bapuji\", \"dash\", \"karam\", \"chandra\",\"gandi\",\"Mohan\"]\n",
    "\n",
    "temp=name[-1]\n",
    "\n",
    "name[-1]=name[0]\n",
    "\n",
    "name[0]=temp\n",
    "\n",
    "print(name)\n",
    "```"
   ]
  },
  {
   "cell_type": "markdown",
   "metadata": {},
   "source": [
    "value of temp will be 'Mohan'"
   ]
  },
  {
   "cell_type": "markdown",
   "metadata": {},
   "source": [
    "## Question 1.4.Find the output of the following.\n",
    "\n",
    "```python\n",
    "animal = ['Human','cat','mat','cat','rat','Human', 'Lion']\n",
    "\n",
    "print(animal.count('Human'))\n",
    "\n",
    "print(animal.index('rat'))\n",
    "\n",
    "print(len(animal))\n",
    "````"
   ]
  },
  {
   "cell_type": "code",
   "execution_count": 69,
   "metadata": {},
   "outputs": [
    {
     "name": "stdout",
     "output_type": "stream",
     "text": [
      "2\n",
      "4\n",
      "7\n"
     ]
    }
   ],
   "source": [
    "animal = ['Human','cat','mat','cat','rat','Human', 'Lion']\n",
    "\n",
    "print(animal.count('Human'))\n",
    "\n",
    "print(animal.index('rat'))\n",
    "\n",
    "print(len(animal))"
   ]
  },
  {
   "cell_type": "markdown",
   "metadata": {},
   "source": [
    "| **Output**             | **Reason**                            |\n",
    "----------------------------------------------------------|----------------------------------------------------------|\n",
    "2|animal.count('Human') will count the occurrence of the word 'human' in the list `animal`, here 'human' is present 2 times in the list `animal`|\n",
    "4|animal.index('rat') will give the index of the first occurrence of the word `rat` from the list animal|\n",
    "7| len(animal) gives the length of the list animal|"
   ]
  },
  {
   "cell_type": "markdown",
   "metadata": {},
   "source": [
    "## Question 1.5. tuple1=(10,20,\"Apple\",3.4,'a',[\"master\",\"ji\"],(\"sita\",\"geeta\",22),[{\"roll_no\":1},{\"name\":\"Navneet\"}])\n",
    "\n",
    "a)print(len(tuple1))\n",
    "\n",
    "b)print(tuple1[-1][-1][\"name\"])\n",
    "\n",
    "c)fetch the value of roll_no from this tuple.\n",
    "\n",
    "d)print(tuple1[-3][1])\n",
    "\n",
    "e)fetch the element \"22\" from this tuple."
   ]
  },
  {
   "cell_type": "code",
   "execution_count": 71,
   "metadata": {},
   "outputs": [
    {
     "name": "stdout",
     "output_type": "stream",
     "text": [
      "8\n"
     ]
    }
   ],
   "source": [
    "tuple1=(10,20,\"Apple\",3.4,'a',[\"master\",\"ji\"],(\"sita\",\"geeta\",22),[{\"roll_no\":1},{\"name\":\"Navneet\"}])\n",
    "\n",
    "print(len(tuple1))\n"
   ]
  },
  {
   "cell_type": "code",
   "execution_count": 73,
   "metadata": {},
   "outputs": [
    {
     "name": "stdout",
     "output_type": "stream",
     "text": [
      "Navneet\n"
     ]
    }
   ],
   "source": [
    "print(tuple1[-1][-1][\"name\"])"
   ]
  },
  {
   "cell_type": "code",
   "execution_count": 77,
   "metadata": {},
   "outputs": [
    {
     "name": "stdout",
     "output_type": "stream",
     "text": [
      "1\n"
     ]
    }
   ],
   "source": [
    "## c)fetch the value of roll_no from this tuple.\n",
    "print(tuple1[-1][-2][\"roll_no\"])"
   ]
  },
  {
   "cell_type": "code",
   "execution_count": 78,
   "metadata": {},
   "outputs": [
    {
     "name": "stdout",
     "output_type": "stream",
     "text": [
      "ji\n"
     ]
    }
   ],
   "source": [
    "print(tuple1[-3][1])"
   ]
  },
  {
   "cell_type": "code",
   "execution_count": 79,
   "metadata": {},
   "outputs": [
    {
     "name": "stdout",
     "output_type": "stream",
     "text": [
      "22\n"
     ]
    }
   ],
   "source": [
    "## e)fetch the element \"22\" from this tuple.\n",
    "print(tuple1[-2][-1])"
   ]
  },
  {
   "cell_type": "markdown",
   "metadata": {},
   "source": [
    "# 1.6. Write a program to display the appropriate message as per the color of signal(RED-Stop/Yellow-Stay/Green-Go) at the road crossing."
   ]
  },
  {
   "cell_type": "code",
   "execution_count": 84,
   "metadata": {},
   "outputs": [
    {
     "name": "stdout",
     "output_type": "stream",
     "text": [
      "Signal color:red,message:STOP\n"
     ]
    }
   ],
   "source": [
    "def traffic_signal(color):\n",
    "    if color.lower() == 'red':\n",
    "        return 'STOP'\n",
    "    if color.lower() == 'yellow':\n",
    "        return 'STAY' \n",
    "    if color.lower() == 'green':\n",
    "        return 'GO'\n",
    "    else:\n",
    "        return 'Invalid Color'\n",
    "    \n",
    "signal_color = input(\"\\nEnter the color of the traffic light:\")\n",
    "message = traffic_signal(signal_color)\n",
    "print(f\"Signal color:{signal_color},message:{message}\")"
   ]
  },
  {
   "cell_type": "markdown",
   "metadata": {},
   "source": [
    "# 1.7. Write a program to create a simple calculator performing only four basic operations(+,-,/,*) ."
   ]
  },
  {
   "cell_type": "code",
   "execution_count": 7,
   "metadata": {},
   "outputs": [
    {
     "name": "stdout",
     "output_type": "stream",
     "text": [
      "\n",
      "Select operation:\n",
      "1. Add\n",
      "2. Subtract\n",
      "3. Multiply\n",
      "4. Divide\n",
      "\n",
      "10.0 / 5.0 = 2.0\n",
      "\n",
      "Select operation:\n",
      "1. Add\n",
      "2. Subtract\n",
      "3. Multiply\n",
      "4. Divide\n",
      "\n",
      "85.0 - 5.0 = 80.0\n"
     ]
    }
   ],
   "source": [
    "def add(x, y):\n",
    "    return x + y\n",
    "\n",
    "def subtract(x, y):\n",
    "    return x - y\n",
    "\n",
    "def multiply(x, y):\n",
    "    return x * y\n",
    "\n",
    "def divide(x, y):\n",
    "    if y == 0:\n",
    "        return \"Error! Division by zero.\"\n",
    "    else:\n",
    "        return x / y\n",
    "\n",
    "def calculator():\n",
    "    while True:\n",
    "        num1 = float(input(\"Enter first number: \"))\n",
    "        num2 = float(input(\"Enter second number: \"))\n",
    "        print(\"\\nSelect operation:\\n1. Add\\n2. Subtract\\n3. Multiply\\n4. Divide\")\n",
    "        choice = input(\"Enter choice (1/2/3/4): \")\n",
    "\n",
    "        if choice in ['1', '2', '3', '4']:\n",
    "\n",
    "            if choice == '1':\n",
    "                print(f\"\\n{num1} + {num2} = {add(num1, num2)}\")\n",
    "\n",
    "            elif choice == '2':\n",
    "                print(f\"\\n{num1} - {num2} = {subtract(num1, num2)}\")\n",
    "\n",
    "            elif choice == '3':\n",
    "                print(f\"\\n{num1} * {num2} = {multiply(num1, num2)}\")\n",
    "\n",
    "            elif choice == '4':\n",
    "                result = divide(num1, num2)\n",
    "                print(f\"\\n{num1} / {num2} = {result}\")\n",
    "\n",
    "        else:\n",
    "            print(\"Invalid Input\")\n",
    "\n",
    "        next_calculation = input(\"Do you want to perform another calculation? (y/n): \")\n",
    "        if next_calculation.lower() != 'y':\n",
    "            break\n",
    "\n",
    "calculator()\n"
   ]
  },
  {
   "cell_type": "markdown",
   "metadata": {},
   "source": [
    "# 1.8. Write a program to find the larger of the three pre-specified numbers using ternary operators"
   ]
  },
  {
   "cell_type": "code",
   "execution_count": 9,
   "metadata": {},
   "outputs": [
    {
     "name": "stdout",
     "output_type": "stream",
     "text": [
      "The largest number among -1, 5, and -10 is 5.\n"
     ]
    }
   ],
   "source": [
    "# Taking three numbers as input from the user\n",
    "a = int(input(\"Enter the first number: \"))\n",
    "b = int(input(\"Enter the second number: \"))\n",
    "c = int(input(\"Enter the third number: \"))\n",
    "\n",
    "# Find the largest number using ternary operators\n",
    "largest = a if (a > b and a > c) else (b if b > c else c)\n",
    "\n",
    "print(f\"The largest number among {a}, {b}, and {c} is {largest}.\")\n"
   ]
  },
  {
   "cell_type": "markdown",
   "metadata": {},
   "source": [
    "# 1.9.  Write a program to find the factors of a whole number  using a while loop."
   ]
  },
  {
   "cell_type": "code",
   "execution_count": 15,
   "metadata": {},
   "outputs": [
    {
     "name": "stdout",
     "output_type": "stream",
     "text": [
      "The factors of the number 100 are :[1, 2, 4, 5, 10, 20, 25, 50, 100]\n"
     ]
    }
   ],
   "source": [
    "# Taking a whole number as input from the user\n",
    "num = int(input(\"\\nEnter the number whose factors is to be found:\"))\n",
    "\n",
    "# initializing the divisor\n",
    "i = 1\n",
    "# initializing an empty list to store the factors\n",
    "factors = []\n",
    "#Finding factors using a while loop\n",
    "while(i<=num//2):\n",
    "    if num%i == 0:\n",
    "        factors.append(i)\n",
    "    i+=1\n",
    "#appending the number itself to the list of factors    \n",
    "factors.append(num)\n",
    "\n",
    "#printing the list of factors of the whole number.\n",
    "print(f\"The factors of the number {num} are :{factors}\")"
   ]
  },
  {
   "cell_type": "markdown",
   "metadata": {},
   "source": [
    "# 1.10.  Write a program to find the sum of all the positive numbers entered by the user. As soon as the user enters a negative number, stop taking in any further input from the user and display the sum ."
   ]
  },
  {
   "cell_type": "code",
   "execution_count": 18,
   "metadata": {},
   "outputs": [
    {
     "name": "stdout",
     "output_type": "stream",
     "text": [
      "Enter numbers:\n",
      "\n",
      "Sum of the positive numbers:55\n"
     ]
    }
   ],
   "source": [
    "print(\"Enter numbers:\")\n",
    "# initializing the sum\n",
    "total_sum = 0\n",
    "while True:\n",
    "    num = int(input())\n",
    "    if num>=0:\n",
    "        total_sum += num \n",
    "    #checking if the number is negative\n",
    "    elif num<0:\n",
    "        break\n",
    "print(f\"\\nSum of the positive numbers:{total_sum}\")"
   ]
  },
  {
   "cell_type": "markdown",
   "metadata": {},
   "source": [
    "# 1.11.   Write a program to find prime numbers between 2 to 100 using nested for loops."
   ]
  },
  {
   "cell_type": "code",
   "execution_count": 11,
   "metadata": {},
   "outputs": [
    {
     "name": "stdout",
     "output_type": "stream",
     "text": [
      "Prime numbers between 2 and 100 are:\n",
      "2 3 5 7 11 13 17 19 23 29 31 37 41 43 47 53 59 61 67 71 73 79 83 89 97 "
     ]
    }
   ],
   "source": [
    "print(\"Prime numbers between 2 and 100 are:\")\n",
    "\n",
    "for num in range(2, 101):\n",
    "    is_prime = True\n",
    "    for i in range(2, int(num**0.5) + 1):\n",
    "        if num % i == 0:\n",
    "            is_prime = False\n",
    "            break\n",
    "    \n",
    "    if is_prime:\n",
    "        print(num, end=\" \")\n"
   ]
  },
  {
   "cell_type": "markdown",
   "metadata": {},
   "source": [
    "## 1.12.   Write the  programs for the following:\n",
    "- Accept the marks of the student in five major subjects and display the same.\n",
    "- Calculate the sum of the marks of all subjects.Divide the total marks by number of subjects (i.e. 5), calculate \n",
    "percentage = total marks/5 and display the percentage.\n",
    "- Find the grade of the student as per the following criteria . Hint: Use Match & case for this.\n",
    "\n",
    "| Criteria                                 | Grade    |\n",
    "|------------------------------------------|----------|\n",
    "| Percentage > 85                          | A        |\n",
    "| Percentage < 85 && Percentage >= 75      | B        |\n",
    "| Percentage < 75 && Percentage >= 50      | C        |\n",
    "| Percentage > 30 && Percentage <= 50      | D        |\n",
    "| Percentage < 30                          | Reappear |\n"
   ]
  },
  {
   "cell_type": "code",
   "execution_count": 14,
   "metadata": {},
   "outputs": [
    {
     "name": "stdout",
     "output_type": "stream",
     "text": [
      "\n",
      "Marks obtained in each subject:\n",
      "Subject 1: 95.0\n",
      "Subject 2: 95.0\n",
      "Subject 3: 94.0\n",
      "Subject 4: 94.0\n",
      "Subject 5: 95.0\n",
      "\n",
      "Total marks: 473.0\n",
      "Percentage: 94.60%\n",
      "Grade: A\n"
     ]
    }
   ],
   "source": [
    "#taking the marks as input from the user\n",
    "marks = []\n",
    "for i in range(1, 6):\n",
    "    mark = float(input(f\"Enter the marks for subject {i}: \"))\n",
    "    marks.append(mark)\n",
    "\n",
    "# Displaying the marks\n",
    "print(\"\\nMarks obtained in each subject:\")\n",
    "for i, mark in enumerate(marks, 1):\n",
    "    print(f\"Subject {i}: {mark}\")\n",
    "\n",
    "# Calculating the sum of the marks of all subjects\n",
    "total_marks = sum(marks)\n",
    "print(f\"\\nTotal marks: {total_marks}\")\n",
    "\n",
    "# Calculating the percentage\n",
    "percentage = total_marks / 5\n",
    "print(f\"Percentage: {percentage:.2f}%\")\n",
    "\n",
    "# Determine the grade using match & case\n",
    "def get_grade(percentage):\n",
    "    match percentage:\n",
    "        case percentage if percentage > 85:\n",
    "            return \"A\"\n",
    "        case percentage if 85 >= percentage >= 75:\n",
    "            return \"B\"\n",
    "        case percentage if 75 > percentage >= 50:\n",
    "            return \"C\"\n",
    "        case percentage if 50 > percentage > 30:\n",
    "            return \"D\"\n",
    "        case _:\n",
    "            return \"Reappear\"\n",
    "\n",
    "grade = get_grade(percentage)\n",
    "print(f\"Grade: {grade}\")\n"
   ]
  },
  {
   "cell_type": "markdown",
   "metadata": {},
   "source": [
    "# 1.13. Write a program for VIBGYOR Spectrum based on their Wavelength using.\n",
    "\n",
    "Wavelength Range:\n",
    "| Color   | Wavelength (nm) |\n",
    "|---------|-----------------|\n",
    "| Violet  | 400.0 - 440.0   |\n",
    "| Indigo  | 440.0 - 460.0   |\n",
    "| Blue    | 460.0 - 500.0   |\n",
    "| Green   | 500.0 - 570.0   |\n",
    "| Yellow  | 570.0 - 590.0   |\n",
    "| Orange  | 590.0 - 620.0   |\n",
    "| Red     | 620.0 - 720.0   |\n"
   ]
  },
  {
   "cell_type": "code",
   "execution_count": 17,
   "metadata": {},
   "outputs": [
    {
     "name": "stdout",
     "output_type": "stream",
     "text": [
      "Wavelength 482.0 nm has color Blue\n"
     ]
    }
   ],
   "source": [
    "wave_len = float(input(\"Enter the wavelength in nm:\"))\n",
    "\n",
    "def get_color(wave_len):\n",
    "    match wave_len:\n",
    "        case wave_len if 400.0 <= wave_len <= 440.0:\n",
    "            return \"Violet\"\n",
    "        case wave_len if 440.0 < wave_len <= 460.0:\n",
    "            return \"Indigo\"\n",
    "        case wave_len if 460.0 < wave_len <= 500.0:\n",
    "            return \"Blue\"\n",
    "        case wave_len if 500.0 < wave_len <= 570.0:\n",
    "            return \"Green\"\n",
    "        case wave_len if 570.0 < wave_len <= 590.0:\n",
    "            return \"Yellow\"\n",
    "        case wave_len if 590.0 < wave_len <= 620.0:\n",
    "            return \"Orange\"\n",
    "        case wave_len if 620.0 < wave_len <= 720.0:\n",
    "            return \"Red\"\n",
    "        case _:\n",
    "            return \"Unknown\"\n",
    "\n",
    "color = get_color(wave_len)\n",
    "print(f\"Wavelength {wave_len} nm has color {color}\")\n"
   ]
  },
  {
   "cell_type": "markdown",
   "metadata": {},
   "source": [
    "## 1.14.Consider the gravitational interactions between the Earth, Moon, and Sun in our solar system. \n",
    "\n",
    "Given:\n",
    "\n",
    "mass_earth = 5.972e24  # Mass of Earth in kilograms\n",
    "\n",
    "mass_moon = 7.34767309e22  # Mass of Moon in kilograms\n",
    "\n",
    "mass_sun = 1.989e30  # Mass of Sun in kilograms\n",
    "\n",
    "\n",
    "distance_earth_sun = 1.496e11  # Average distance between Earth and Sun in meters\n",
    "\n",
    "distance_moon_earth = 3.844e8  # Average distance between Moon and Earth in meters\n",
    "\n",
    "\n",
    "Tasks:\n",
    "- Calculate the gravitational force between the Earth and the Sun\n",
    "- Calculate the gravitational force between the Moon and the Earth.\n",
    "- Compare the calculated forces to determine which gravitational force is stronger.\n",
    "- Explain which celestial body (Earth or Moon) is more attracted to the other based on the comparison."
   ]
  },
  {
   "cell_type": "code",
   "execution_count": 18,
   "metadata": {},
   "outputs": [
    {
     "name": "stdout",
     "output_type": "stream",
     "text": [
      "Gravitational force between Earth and Sun: 3.54e+22 Newtons\n",
      "Gravitational force between Moon and Earth: 1.98e+20 Newtons\n",
      "Gravitational force between Earth and Sun is stronger.\n"
     ]
    }
   ],
   "source": [
    "# Given data\n",
    "mass_earth = 5.972e24  # Mass of Earth in kilograms\n",
    "mass_moon = 7.34767309e22  # Mass of Moon in kilograms\n",
    "mass_sun = 1.989e30  # Mass of Sun in kilograms\n",
    "\n",
    "distance_earth_sun = 1.496e11  # Average distance between Earth and Sun in meters\n",
    "distance_moon_earth = 3.844e8  # Average distance between Moon and Earth in meters\n",
    "\n",
    "G = 6.67430e-11  # Gravitational constant in m^3 kg^-1 s^-2\n",
    "\n",
    "# Calculating Earth-Sun gravitational force\n",
    "force_earth_sun = G * (mass_earth * mass_sun) / (distance_earth_sun ** 2)\n",
    "print(f\"Gravitational force between Earth and Sun: {force_earth_sun:.2e} Newtons\")\n",
    "\n",
    "\n",
    "# Calculating Moon-Earth gravitational force\n",
    "force_moon_earth = G * (mass_earth * mass_moon) / (distance_moon_earth ** 2)\n",
    "print(f\"Gravitational force between Moon and Earth: {force_moon_earth:.2e} Newtons\")\n",
    "\n",
    "\n",
    "if force_earth_sun > force_moon_earth:\n",
    "    print(\"Gravitational force between Earth and Sun is stronger.\")\n",
    "elif force_earth_sun < force_moon_earth:\n",
    "    print(\"Gravitational force between Moon and Earth is stronger.\")\n",
    "else:\n",
    "    print(\"Gravitational forces between Earth-Sun and Moon-Earth are equal.\")\n"
   ]
  },
  {
   "cell_type": "markdown",
   "metadata": {},
   "source": [
    "## `Conclusion:`\n",
    "Thus, based on the comparison of gravitational forces:\n",
    "\n",
    "- Earth is more attracted to the Sun because the Sun's gravitational force on Earth is much stronger due to its larger mass.\n",
    "- The Moon orbits around Earth primarily due to Earth's gravitational pull, but the Sun's gravitational force influences both Earth and the Moon significantly in the Earth-Moon-Sun system."
   ]
  },
  {
   "cell_type": "markdown",
   "metadata": {},
   "source": [
    "## 2. Design and implement a Python program for managing student information using object-oriented principles. Create a class called `Student` with encapsulated attributes for name, age, and roll number. Implement getter and setter methods for these attributes. Additionally, provide methods to display student information and update student details.\n",
    "\n",
    "\n",
    "Tasks:\n",
    "- Define the `Student` class with encapsulated attributes\n",
    "- Implement getter and setter methods for the attributes\n",
    "- Write methods to display student information and update details\n",
    "- Create instances of the `Student` class and test the implemented functionality"
   ]
  },
  {
   "cell_type": "code",
   "execution_count": 20,
   "metadata": {},
   "outputs": [
    {
     "name": "stdout",
     "output_type": "stream",
     "text": [
      "Student 1 Information:\n",
      "Name:Tufan\n",
      "Age:22\n",
      "Roll Number:M184\n",
      "\n",
      "Student 2 Information:\n",
      "Name:Kindo\n",
      "Age:21\n",
      "Roll Number:M384\n",
      "\n",
      "Updated Student 1 Information:\n",
      "Name:Raman\n",
      "Age:21\n",
      "Roll Number:M184\n",
      "\n",
      "Updated Student 2 Information:\n",
      "Name:Kindo\n",
      "Age:21\n",
      "Roll Number:S202\n"
     ]
    }
   ],
   "source": [
    "class Student:\n",
    "    def __init__(self, name,age,roll_no):\n",
    "        self.__name = name\n",
    "        self.__age = age\n",
    "        self.__roll = roll_no\n",
    "    \n",
    "    #getter for name\n",
    "    def get_name(self):\n",
    "        return self.__name\n",
    "    \n",
    "    #setter for name\n",
    "    def set_name(self,name):\n",
    "        self.__name = name\n",
    "        \n",
    "    #getter for age\n",
    "    def get_age(self):\n",
    "        return self.__age\n",
    "    \n",
    "    #setter for age\n",
    "    def set_age(self,age):\n",
    "        self.__age = age \n",
    "    \n",
    "    #getter for roll\n",
    "    def get_roll(self):\n",
    "        return self.__roll\n",
    "    \n",
    "    #setter for roll\n",
    "    def set_roll(self,roll):\n",
    "        self.__roll = roll\n",
    "        \n",
    "    #method to display student information\n",
    "    def display_info(self):\n",
    "        print(f\"Name:{self.__name}\")\n",
    "        print(f\"Age:{self.__age}\")\n",
    "        print(f\"Roll Number:{self.__roll}\")\n",
    "        \n",
    "    #method to update student details\n",
    "    def update_details(self,name=None,age=None,roll=None):\n",
    "        if name:\n",
    "            self.set_name(name)\n",
    "        if age:\n",
    "            self.set_age(age)\n",
    "        if roll:\n",
    "            self.set_roll(roll)\n",
    "    \n",
    "student1 = Student(\"Tufan\",22,\"M184\")\n",
    "student2 = Student(\"Kindo\",21,\"M384\")\n",
    "\n",
    "# Display student information\n",
    "print(\"Student 1 Information:\")\n",
    "student1.display_info()\n",
    "print(\"\\nStudent 2 Information:\")\n",
    "student2.display_info()       \n",
    "\n",
    "# Update student details\n",
    "student1.update_details(name=\"Raman\", age=21)\n",
    "student2.update_details(roll=\"S202\") \n",
    "    \n",
    "# Display updated student information\n",
    "print(\"\\nUpdated Student 1 Information:\")\n",
    "student1.display_info()\n",
    "print(\"\\nUpdated Student 2 Information:\")\n",
    "student2.display_info()"
   ]
  },
  {
   "cell_type": "markdown",
   "metadata": {},
   "source": [
    "## 3.Develop a Python program for managing library resources efficiently. Design a class named `LibraryBook` with attributes like book name, author, and availability status. Implement methods for borrowing and returning books while ensuring proper encapsulation of attributes.\n",
    "\n",
    "Tasks:\n",
    "- 1. Create the `LibraryBook` class with encapsulated attributes\n",
    "- 2. Implement methods for borrowing and returning books\n",
    "- 3. Ensure proper encapsulation to protect book details\n",
    "- 4. Test the borrowing and returning functionality with sample data"
   ]
  },
  {
   "cell_type": "code",
   "execution_count": 7,
   "metadata": {},
   "outputs": [
    {
     "name": "stdout",
     "output_type": "stream",
     "text": [
      "You have borrowed \"DBMS\" by Luther king.\n",
      "Sorry, \"DBMS\" is currently not available.\n",
      "You have returned \"DBMS\" by Luther king.\n",
      "\"DBMS\" was not borrowed.\n",
      "You have borrowed \"Machine_learning\" by Ajay.\n",
      "You have returned \"Machine_learning\" by Ajay.\n"
     ]
    }
   ],
   "source": [
    "class LibraryBook:\n",
    "    def __init__(self,book_name,author):\n",
    "        self.__book_name = book_name\n",
    "        self.__author = author\n",
    "        self.__is_available = True\n",
    "    \n",
    "    @property\n",
    "    def book_name(self):\n",
    "        return self.__book_name\n",
    "    \n",
    "    @property\n",
    "    def author(self):\n",
    "        return self.__author\n",
    "    \n",
    "    @property\n",
    "    def is_available(self):\n",
    "        return self.__is_available\n",
    "    \n",
    "    def borrow_book(self):\n",
    "        if self.__is_available:\n",
    "            self.__is_available = False\n",
    "            return f'You have borrowed \"{self.__book_name}\" by {self.__author}.'\n",
    "        else:\n",
    "            return f'Sorry, \"{self.__book_name}\" is currently not available.'\n",
    "\n",
    "    def return_book(self):\n",
    "        if not self.__is_available:\n",
    "            self.__is_available = True\n",
    "            return f'You have returned \"{self.__book_name}\" by {self.__author}.'\n",
    "        else:\n",
    "            return f'\"{self.__book_name}\" was not borrowed.'\n",
    "\n",
    "book1 = LibraryBook(\"DBMS\",\"Luther king\")\n",
    "book2 = LibraryBook(\"Machine_learning\",'Ajay')\n",
    "\n",
    "# Test borrowing books\n",
    "print(book1.borrow_book())  \n",
    "print(book1.borrow_book())  \n",
    "    \n",
    "# Test returning books\n",
    "print(book1.return_book())  \n",
    "print(book1.return_book())\n",
    "    \n",
    "# Test another book\n",
    "print(book2.borrow_book()) \n",
    "print(book2.return_book()) "
   ]
  },
  {
   "cell_type": "markdown",
   "metadata": {},
   "source": [
    "## 4.Create a simple banking system using object-oriented concepts in Python. Design classes representing different types of bank accounts such as savings and checking. Implement methods for deposit, withdraw, and balance inquiry. Utilize inheritance to manage different account types efficiently.\n",
    "\n",
    "Tasks:\n",
    "- 1. Define base class(es) for bank accounts with common attributes and methods\n",
    "- 2. Implement subclasses for specific account types (e.g., SavingsAccount, CheckingAccount)\n",
    "- 3. Provide methods for deposit, withdraw, and balance inquiry in each subclass\n",
    "- 4. Test the banking system by creating instances of different account types and performing transactions."
   ]
  },
  {
   "cell_type": "code",
   "execution_count": 4,
   "metadata": {},
   "outputs": [
    {
     "name": "stdout",
     "output_type": "stream",
     "text": [
      "Deposited 500. New balance is 1500.\n",
      "Withdrew 200. New balance is 1300.\n",
      "Interest added: 13.0. New balance is 1313.0.\n",
      "Account balance: 1313.0\n",
      "Deposited 300. New balance is 800.\n",
      "Withdrew 700. New balance is 100.\n",
      "Withdrew 200. New balance is -100.\n"
     ]
    }
   ],
   "source": [
    "class BankAccount:\n",
    "    def __init__(self, account_number, account_holder, balance=0):\n",
    "        self.account_number = account_number\n",
    "        self.account_holder = account_holder\n",
    "        self.balance = balance\n",
    "\n",
    "    def deposit(self, amount):\n",
    "        if amount > 0:\n",
    "            self.balance += amount\n",
    "            print(f\"Deposited {amount}. New balance is {self.balance}.\")\n",
    "        else:\n",
    "            print(\"Deposit amount must be positive.\")\n",
    "\n",
    "    def withdraw(self, amount):\n",
    "        if amount > 0:\n",
    "            if amount <= self.balance:\n",
    "                self.balance -= amount\n",
    "                print(f\"Withdrew {amount}. New balance is {self.balance}.\")\n",
    "            else:\n",
    "                print(\"Insufficient funds.\")\n",
    "        else:\n",
    "            print(\"Withdrawal amount must be positive.\")\n",
    "\n",
    "    def get_balance(self):\n",
    "        print(f\"Account balance: {self.balance}\")\n",
    "        return self.balance\n",
    "\n",
    "class SavingsAccount(BankAccount):\n",
    "    def __init__(self, account_number, account_holder, balance=0, interest_rate=0.01):\n",
    "        super().__init__(account_number, account_holder, balance)\n",
    "        self.interest_rate = interest_rate\n",
    "\n",
    "    def add_interest(self):\n",
    "        interest = self.balance * self.interest_rate\n",
    "        self.balance += interest\n",
    "        print(f\"Interest added: {interest}. New balance is {self.balance}.\")\n",
    "\n",
    "class CheckingAccount(BankAccount):\n",
    "    def __init__(self, account_number, account_holder, balance=0, overdraft_limit=500):\n",
    "        super().__init__(account_number, account_holder, balance)\n",
    "        self.overdraft_limit = overdraft_limit\n",
    "\n",
    "    def withdraw(self, amount):\n",
    "        if amount > 0:\n",
    "            if amount <= self.balance + self.overdraft_limit:\n",
    "                self.balance -= amount\n",
    "                print(f\"Withdrew {amount}. New balance is {self.balance}.\")\n",
    "            else:\n",
    "                print(\"Overdraft limit exceeded.\")\n",
    "        else:\n",
    "            print(\"Withdrawal amount must be positive.\")\n",
    "\n",
    "# Creating instances\n",
    "savings_account = SavingsAccount(\"T01G23\", \"Raghav\", 1000)\n",
    "checking_account = CheckingAccount(\"T018F91\", \"Ranveer\", 500)\n",
    "\n",
    "# Performing transactions\n",
    "savings_account.deposit(500)\n",
    "savings_account.withdraw(200)\n",
    "savings_account.add_interest()\n",
    "savings_account.get_balance()\n",
    "\n",
    "checking_account.deposit(300)\n",
    "checking_account.withdraw(700)\n",
    "checking_account.withdraw(200)\n",
    "\n"
   ]
  },
  {
   "cell_type": "markdown",
   "metadata": {},
   "source": [
    "## 5.Write a Python program that models different animals and their sounds. Design a base class called `Animal` with a method `make_sound()`. Create subclasses like `Dog` and `Cat` that override the `make_sound()` method to produce appropriate sounds.\n",
    "\n",
    "\n",
    "Tasks:\n",
    "- 1. Define the `Animal` class with a method `make_sound()`\n",
    "- 2. Create subclasses `Dog` and `Cat` that override the `make_sound()` method\n",
    "- 3. Implement the sound generation logic for each subclass\n",
    "- 4. Test the program by creating instances of `Dog` and `Cat` and calling the `make_sound()` method."
   ]
  },
  {
   "cell_type": "code",
   "execution_count": 6,
   "metadata": {},
   "outputs": [
    {
     "name": "stdout",
     "output_type": "stream",
     "text": [
      "Dog says: Woof!\n",
      "Cat says: Meow!\n"
     ]
    }
   ],
   "source": [
    "# Defining the base class Animal\n",
    "class Animal:\n",
    "    def make_sound(self):\n",
    "        raise NotImplementedError(\"Subclasses must implement this method\")\n",
    "\n",
    "# Defining the Dog subclass\n",
    "class Dog(Animal):\n",
    "    def make_sound(self):\n",
    "        return \"Woof!\"\n",
    "\n",
    "# Defining the Cat subclass\n",
    "class Cat(Animal):\n",
    "    def make_sound(self):\n",
    "        return \"Meow!\"\n",
    "\n",
    "\n",
    "def test_animal_sounds():\n",
    "    # Creating instances of Dog and Cat\n",
    "    dog = Dog()\n",
    "    cat = Cat()\n",
    "    \n",
    "    # Calling the make_sound method and print the results\n",
    "    print(\"Dog says:\", dog.make_sound())\n",
    "    print(\"Cat says:\", cat.make_sound())\n",
    "\n",
    "# Running the test\n",
    "test_animal_sounds()\n"
   ]
  },
  {
   "cell_type": "markdown",
   "metadata": {},
   "source": [
    "## 6.Write a code for Restaurant Management System Using OOPS:\n",
    "- Create a MenuItem class that has attributes such as name, description, price, and category.\n",
    "- Implement methods to add a new menu item, update menu item information, and remove a menu item \n",
    "from the menu\n",
    "- Use encapsulation to hide the menu item's unique identification number\n",
    "- Inherit from the MenuItem class to create a FoodItem class and a BeverageItem class, each with their own specific attributes and methods"
   ]
  },
  {
   "cell_type": "code",
   "execution_count": 8,
   "metadata": {},
   "outputs": [
    {
     "name": "stdout",
     "output_type": "stream",
     "text": [
      "Menu Items:\n",
      "ID: 1, Name: Pizza, Description: Cheese pizza with a crispy crust., Price: $9.99, Category: Food, Cuisine Type: Italian\n",
      "ID: 2, Name: Lemonade, Description: Freshly squeezed lemonade., Price: $3.49, Category: Beverage, Serving Size: 16 oz\n",
      "\n",
      "Updated Menu Items:\n",
      "ID: 1, Name: Pizza, Description: Cheese pizza with a crispy crust., Price: $10.99, Category: Food, Cuisine Type: Italian\n",
      "ID: 2, Name: Lemonade, Description: Freshly squeezed lemonade., Price: $3.49, Category: Beverage, Serving Size: 16 oz\n",
      "\n",
      "Menu Items After Removal:\n",
      "ID: 1, Name: Pizza, Description: Cheese pizza with a crispy crust., Price: $10.99, Category: Food, Cuisine Type: Italian\n"
     ]
    }
   ],
   "source": [
    "class MenuItem:\n",
    "    _id_counter = 1  # Class variable to generate unique IDs\n",
    "    \n",
    "    def __init__(self, name, description, price, category):\n",
    "        self.__id = MenuItem._id_counter  \n",
    "        MenuItem._id_counter += 1\n",
    "        self.name = name\n",
    "        self.description = description\n",
    "        self.price = price\n",
    "        self.category = category\n",
    "    \n",
    "    @property\n",
    "    def id(self):\n",
    "        return self.__id\n",
    "    \n",
    "    def update_info(self, name=None, description=None, price=None, category=None):\n",
    "        if name is not None:\n",
    "            self.name = name\n",
    "        if description is not None:\n",
    "            self.description = description\n",
    "        if price is not None:\n",
    "            self.price = price\n",
    "        if category is not None:\n",
    "            self.category = category\n",
    "    \n",
    "    def __str__(self):\n",
    "        return f\"ID: {self.__id}, Name: {self.name}, Description: {self.description}, Price: ${self.price:.2f}, Category: {self.category}\"\n",
    "    \n",
    "class FoodItem(MenuItem):\n",
    "    def __init__(self, name, description, price, cuisine_type):\n",
    "        super().__init__(name, description, price, 'Food')\n",
    "        self.cuisine_type = cuisine_type\n",
    "    \n",
    "    def __str__(self):\n",
    "        return super().__str__() + f\", Cuisine Type: {self.cuisine_type}\"\n",
    "\n",
    "class BeverageItem(MenuItem):\n",
    "    def __init__(self, name, description, price, serving_size):\n",
    "        super().__init__(name, description, price, 'Beverage')\n",
    "        self.serving_size = serving_size\n",
    "    \n",
    "    def __str__(self):\n",
    "        return super().__str__() + f\", Serving Size: {self.serving_size}\"\n",
    "\n",
    "class RestaurantMenu:\n",
    "    def __init__(self):\n",
    "        self.menu_items = []\n",
    "    \n",
    "    def add_item(self, item):\n",
    "        self.menu_items.append(item)\n",
    "    \n",
    "    def remove_item(self, item_id):\n",
    "        self.menu_items = [item for item in self.menu_items if item.id != item_id]\n",
    "    \n",
    "    def find_item_by_id(self, item_id):\n",
    "        for item in self.menu_items:\n",
    "            if item.id == item_id:\n",
    "                return item\n",
    "        return None\n",
    "    \n",
    "    def update_item(self, item_id, **kwargs):\n",
    "        item = self.find_item_by_id(item_id)\n",
    "        if item:\n",
    "            item.update_info(**kwargs)\n",
    "        else:\n",
    "            print(f\"Item with ID {item_id} not found.\")\n",
    "    \n",
    "    def display_menu(self):\n",
    "        for item in self.menu_items:\n",
    "            print(item)\n",
    "\n",
    "# Test the Restaurant Management System\n",
    "def test_restaurant_management_system():\n",
    "    menu = RestaurantMenu()\n",
    "    \n",
    "    # Add menu items\n",
    "    food1 = FoodItem(name=\"Pizza\", description=\"Cheese pizza with a crispy crust.\", price=9.99, cuisine_type=\"Italian\")\n",
    "    beverage1 = BeverageItem(name=\"Lemonade\", description=\"Freshly squeezed lemonade.\", price=3.49, serving_size=\"16 oz\")\n",
    "    \n",
    "    menu.add_item(food1)\n",
    "    menu.add_item(beverage1)\n",
    "    \n",
    "    # Display menu\n",
    "    print(\"Menu Items:\")\n",
    "    menu.display_menu()\n",
    "    \n",
    "    # Update menu item\n",
    "    menu.update_item(food1.id, price=10.99)\n",
    "    \n",
    "    # Display updated menu\n",
    "    print(\"\\nUpdated Menu Items:\")\n",
    "    menu.display_menu()\n",
    "    \n",
    "    # Remove a menu item\n",
    "    menu.remove_item(beverage1.id)\n",
    "    \n",
    "    # Display menu after removal\n",
    "    print(\"\\nMenu Items After Removal:\")\n",
    "    menu.display_menu()\n",
    "\n",
    "# Run the test\n",
    "test_restaurant_management_system()\n"
   ]
  },
  {
   "cell_type": "markdown",
   "metadata": {},
   "source": [
    "## 7.Write a code for  Hotel Management System using OOPS:\n",
    "- Create a Room class that has attributes such as room number, room type, rate, and availability (private)\n",
    "- Implement methods to book a room, check in a guest, and check out a guest\n",
    "- Use encapsulation to hide the room's unique identification number\n",
    "- Inherit from the Room class to create a SuiteRoom class and a StandardRoom class, each with their own specific attributes and methods."
   ]
  },
  {
   "cell_type": "code",
   "execution_count": 11,
   "metadata": {},
   "outputs": [
    {
     "name": "stdout",
     "output_type": "stream",
     "text": [
      "Room Details Before Booking:\n",
      "Room ID: 1, Room Number: 101, Room Type: Suite, Rate: ₹1500.00, Status: Available, No guest, Amenities: King bed, Jacuzzi\n",
      "Room ID: 2, Room Number: 102, Room Type: Standard, Rate: ₹750.00, Status: Available, No guest\n",
      "\n",
      "Suite Room successfully booked.\n",
      "Standard Room successfully booked.\n",
      "\n",
      "Room Details After Booking:\n",
      "Room ID: 1, Room Number: 101, Room Type: Suite, Rate: ₹1500.00, Status: Occupied, Current Guest: Raman, Amenities: King bed, Jacuzzi\n",
      "Room ID: 2, Room Number: 102, Room Type: Standard, Rate: ₹750.00, Status: Occupied, Current Guest: Rajeev\n",
      "\n",
      "Room Details After Check-In:\n",
      "Room ID: 1, Room Number: 101, Room Type: Suite, Rate: ₹1500.00, Status: Occupied, Current Guest: Raman, Amenities: King bed, Jacuzzi\n",
      "Room ID: 2, Room Number: 102, Room Type: Standard, Rate: ₹750.00, Status: Occupied, Current Guest: Rajeev\n",
      "\n",
      "Room Details After Check-Out:\n",
      "Room ID: 1, Room Number: 101, Room Type: Suite, Rate: ₹1500.00, Status: Available, No guest, Amenities: King bed, Jacuzzi\n",
      "Room ID: 2, Room Number: 102, Room Type: Standard, Rate: ₹750.00, Status: Available, No guest\n"
     ]
    }
   ],
   "source": [
    "class Room:\n",
    "    _id_counter = 1  \n",
    "    \n",
    "    def __init__(self, room_number, room_type, rate):\n",
    "        self.__id = Room._id_counter  # Private unique identifier\n",
    "        Room._id_counter += 1\n",
    "        self.room_number = room_number\n",
    "        self.room_type = room_type\n",
    "        self.rate = rate\n",
    "        self.__availability = True  # Room is available by default\n",
    "        self.current_guest = None  # Track the current guest, if any\n",
    "    \n",
    "    @property\n",
    "    def id(self):\n",
    "        return self.__id\n",
    "    \n",
    "    @property\n",
    "    def availability(self):\n",
    "        return self.__availability\n",
    "    \n",
    "    def book_room(self, guest_name):\n",
    "        if self.__availability:\n",
    "            self.__availability = False\n",
    "            self.current_guest = guest_name\n",
    "            return True\n",
    "        else:\n",
    "            return False\n",
    "    \n",
    "    def check_in(self, guest_name):\n",
    "        if not self.__availability and self.current_guest is None:\n",
    "            self.current_guest = guest_name\n",
    "            return True\n",
    "        return False\n",
    "    \n",
    "    def check_out(self):\n",
    "        if not self.__availability and self.current_guest is not None:\n",
    "            self.__availability = True\n",
    "            self.current_guest = None\n",
    "            return True\n",
    "        return False\n",
    "    \n",
    "    def __str__(self):\n",
    "        status = \"Available\" if self.__availability else \"Occupied\"\n",
    "        guest_info = f\"Current Guest: {self.current_guest}\" if self.current_guest else \"No guest\"\n",
    "        return (f\"Room ID: {self.__id}, Room Number: {self.room_number}, \"\n",
    "                f\"Room Type: {self.room_type}, Rate: ₹{self.rate:.2f}, Status: {status}, {guest_info}\")\n",
    "    \n",
    "class SuiteRoom(Room):\n",
    "    def __init__(self, room_number, rate, amenities):\n",
    "        super().__init__(room_number, \"Suite\", rate)\n",
    "        self.amenities = amenities  # Specific to SuiteRoom\n",
    "    \n",
    "    def __str__(self):\n",
    "        return super().__str__() + f\", Amenities: {self.amenities}\"\n",
    "    \n",
    "class StandardRoom(Room):\n",
    "    def __init__(self, room_number, rate):\n",
    "        super().__init__(room_number, \"Standard\", rate)\n",
    "    \n",
    "    def __str__(self):\n",
    "        return super().__str__()\n",
    "\n",
    "# Test the Hotel Management System\n",
    "def test_hotel_management_system():\n",
    "    # Create instances of SuiteRoom and StandardRoom\n",
    "    suite1 = SuiteRoom(room_number=\"101\", rate=1500.00, amenities=\"King bed, Jacuzzi\")\n",
    "    standard1 = StandardRoom(room_number=\"102\", rate=750.00)\n",
    "    \n",
    "    # Display room details\n",
    "    print(\"Room Details Before Booking:\")\n",
    "    print(suite1)\n",
    "    print(standard1)\n",
    "    \n",
    "    # Book rooms\n",
    "    if suite1.book_room(\"Raman\"):\n",
    "        print(\"\\nSuite Room successfully booked.\")\n",
    "    else:\n",
    "        print(\"\\nSuite Room booking failed.\")\n",
    "    \n",
    "    if standard1.book_room(\"Rajeev\"):\n",
    "        print(\"Standard Room successfully booked.\")\n",
    "    else:\n",
    "        print(\"Standard Room booking failed.\")\n",
    "    \n",
    "    # Display room details after booking\n",
    "    print(\"\\nRoom Details After Booking:\")\n",
    "    print(suite1)\n",
    "    print(standard1)\n",
    "    \n",
    "    # Check-in and check-out process\n",
    "    suite1.check_in(\"Raman\")\n",
    "    standard1.check_in(\"Rajeev\")\n",
    "    \n",
    "    # Display room details after check-in\n",
    "    print(\"\\nRoom Details After Check-In:\")\n",
    "    print(suite1)\n",
    "    print(standard1)\n",
    "    \n",
    "    # Check-out rooms\n",
    "    suite1.check_out()\n",
    "    standard1.check_out()\n",
    "    \n",
    "    # Display room details after check-out\n",
    "    print(\"\\nRoom Details After Check-Out:\")\n",
    "    print(suite1)\n",
    "    print(standard1)\n",
    "\n",
    "# Run the test\n",
    "test_hotel_management_system()\n"
   ]
  },
  {
   "cell_type": "markdown",
   "metadata": {},
   "source": [
    "## 8.Write a code for  Fitness Club Management System using OOPS:\n",
    "- Create a Member class that has attributes such as name, age, membership type, and membership status (private).\n",
    "- Implement methods to register a new member, renew a membership, and cancel a membership\n",
    "- Use encapsulation to hide the member's unique identification number\n",
    "- Inherit from the Member class to create a FamilyMember class and an IndividualMember class, each with their own specific attributes and methods."
   ]
  },
  {
   "cell_type": "code",
   "execution_count": 12,
   "metadata": {},
   "outputs": [
    {
     "name": "stdout",
     "output_type": "stream",
     "text": [
      "Member Details Before Operations:\n",
      "ID: 1, Name: Raja, Age: 40, Membership Type: Family, Status: Active, Family Members: Raghu, Sultan\n",
      "ID: 2, Name: Virat, Age: 30, Membership Type: Individual, Status: Active\n",
      "\n",
      "Member Details After Registration:\n",
      "ID: 1, Name: Raja, Age: 40, Membership Type: Family, Status: Active, Family Members: Raghu, Sultan\n",
      "ID: 2, Name: Virat, Age: 30, Membership Type: Individual, Status: Active\n",
      "\n",
      "Member Details After Assigning Trainer:\n",
      "ID: 2, Name: Virat, Age: 30, Membership Type: Individual, Status: Active, Personal Trainer: Rajat Dalal\n",
      "\n",
      "Member Details After Renewal:\n",
      "ID: 1, Name: Raja, Age: 40, Membership Type: Family, Status: Active, Family Members: Raghu, Sultan\n",
      "\n",
      "Member Details After Cancellation:\n",
      "ID: 2, Name: Virat, Age: 30, Membership Type: Individual, Status: Inactive, Personal Trainer: Rajat Dalal\n"
     ]
    }
   ],
   "source": [
    "class Member:\n",
    "    _id_counter = 1 \n",
    "    \n",
    "    def __init__(self, name, age, membership_type):\n",
    "        self.__id = Member._id_counter  \n",
    "        Member._id_counter += 1\n",
    "        self.name = name\n",
    "        self.age = age\n",
    "        self.membership_type = membership_type\n",
    "        self.__membership_status = \"Active\"  # Membership status is active by default\n",
    "    \n",
    "    @property\n",
    "    def id(self):\n",
    "        return self.__id\n",
    "    \n",
    "    @property\n",
    "    def membership_status(self):\n",
    "        return self.__membership_status\n",
    "    \n",
    "    def register_member(self):\n",
    "        if self.__membership_status == \"Inactive\":\n",
    "            self.__membership_status = \"Active\"\n",
    "            return True\n",
    "        return False\n",
    "    \n",
    "    def renew_membership(self):\n",
    "        if self.__membership_status == \"Expired\":\n",
    "            self.__membership_status = \"Active\"\n",
    "            return True\n",
    "        return False\n",
    "    \n",
    "    def cancel_membership(self):\n",
    "        if self.__membership_status == \"Active\":\n",
    "            self.__membership_status = \"Inactive\"\n",
    "            return True\n",
    "        return False\n",
    "    \n",
    "    def __str__(self):\n",
    "        return (f\"ID: {self.__id}, Name: {self.name}, Age: {self.age}, \"\n",
    "                f\"Membership Type: {self.membership_type}, Status: {self.__membership_status}\")\n",
    "    \n",
    "class FamilyMember(Member):\n",
    "    def __init__(self, name, age, membership_type, family_members):\n",
    "        super().__init__(name, age, membership_type)\n",
    "        self.family_members = family_members  # List of family members\n",
    "    \n",
    "    def add_family_member(self, member_name):\n",
    "        self.family_members.append(member_name)\n",
    "    \n",
    "    def __str__(self):\n",
    "        family_list = ', '.join(self.family_members)\n",
    "        return super().__str__() + f\", Family Members: {family_list}\"\n",
    "    \n",
    "class IndividualMember(Member):\n",
    "    def __init__(self, name, age, membership_type, personal_trainer=None):\n",
    "        super().__init__(name, age, membership_type)\n",
    "        self.personal_trainer = personal_trainer  \n",
    "    \n",
    "    def assign_trainer(self, trainer_name):\n",
    "        self.personal_trainer = trainer_name\n",
    "    \n",
    "    def __str__(self):\n",
    "        trainer_info = f\", Personal Trainer: {self.personal_trainer}\" if self.personal_trainer else \"\"\n",
    "        return super().__str__() + trainer_info\n",
    "\n",
    "# Test the Fitness Club Management System\n",
    "def test_fitness_club_management_system():\n",
    "    # Create instances of FamilyMember and IndividualMember\n",
    "    family_member = FamilyMember(name=\"Raja\", age=40, membership_type=\"Family\", family_members=[\"Raghu\", \"Sultan\"])\n",
    "    individual_member = IndividualMember(name=\"Virat\", age=30, membership_type=\"Individual\")\n",
    "    \n",
    "    # Display member details\n",
    "    print(\"Member Details Before Operations:\")\n",
    "    print(family_member)\n",
    "    print(individual_member)\n",
    "    \n",
    "    # Register members\n",
    "    family_member.register_member()\n",
    "    individual_member.register_member()\n",
    "    \n",
    "    # Display member details after registration\n",
    "    print(\"\\nMember Details After Registration:\")\n",
    "    print(family_member)\n",
    "    print(individual_member)\n",
    "    \n",
    "    # Assign personal trainer to individual member\n",
    "    individual_member.assign_trainer(\"Rajat Dalal\")\n",
    "    \n",
    "    # Display member details after assigning trainer\n",
    "    print(\"\\nMember Details After Assigning Trainer:\")\n",
    "    print(individual_member)\n",
    "    \n",
    "    # Renew membership of family member (simulate expiration first)\n",
    "    family_member.__dict__['_Member__membership_status'] = \"Expired\"\n",
    "    family_member.renew_membership()\n",
    "    \n",
    "    # Display member details after renewal\n",
    "    print(\"\\nMember Details After Renewal:\")\n",
    "    print(family_member)\n",
    "    \n",
    "    # Cancel membership of individual member\n",
    "    individual_member.cancel_membership()\n",
    "    \n",
    "    # Display member details after cancellation\n",
    "    print(\"\\nMember Details After Cancellation:\")\n",
    "    print(individual_member)\n",
    "\n",
    "# Run the test\n",
    "test_fitness_club_management_system()\n"
   ]
  },
  {
   "cell_type": "markdown",
   "metadata": {},
   "source": [
    "## 9.Write a code for  Event Management System using OOPS\n",
    "- Create an Event class that has attributes such as name, date, time, location, and list of attendees (private)\n",
    "- Implement methods to create a new event, add or remove attendees, and get the total number of attendees\n",
    "- Use encapsulation to hide the event's unique identification number\n",
    "- Inherit from the Event class to create a PrivateEvent class and a PublicEvent class, each with their own specific attributes and methods"
   ]
  },
  {
   "cell_type": "code",
   "execution_count": 13,
   "metadata": {},
   "outputs": [
    {
     "name": "stdout",
     "output_type": "stream",
     "text": [
      "Event Details Before Adding Attendees:\n",
      "Event ID: 1, Name: Wedding Reception, Date: 2024-09-15, Time: 07:00 PM, Location: Taj Mahal Palace, Mumbai, Total Attendees: 0, Access Code: WED123\n",
      "Event ID: 2, Name: Cultural Festival, Date: 2024-09-20, Time: 10:00 AM, Location: India Gate, Delhi, Total Attendees: 0\n",
      "\n",
      "Event Details After Adding Attendees:\n",
      "Event ID: 1, Name: Wedding Reception, Date: 2024-09-15, Time: 07:00 PM, Location: Taj Mahal Palace, Mumbai, Total Attendees: 2, Access Code: WED123\n",
      "Event ID: 2, Name: Cultural Festival, Date: 2024-09-20, Time: 10:00 AM, Location: India Gate, Delhi, Total Attendees: 2\n",
      "\n",
      "Event Details After Removing an Attendee:\n",
      "Event ID: 1, Name: Wedding Reception, Date: 2024-09-15, Time: 07:00 PM, Location: Taj Mahal Palace, Mumbai, Total Attendees: 1, Access Code: WED123\n",
      "\n",
      "Total Attendees for Public Event: 2\n",
      "Total Attendees for Private Event: 1\n"
     ]
    }
   ],
   "source": [
    "class Event:\n",
    "    _id_counter = 1  # Class variable to generate unique event IDs\n",
    "    \n",
    "    def __init__(self, name, date, time, location):\n",
    "        self.__id = Event._id_counter  # Private unique identifier\n",
    "        Event._id_counter += 1\n",
    "        self.name = name\n",
    "        self.date = date\n",
    "        self.time = time\n",
    "        self.location = location\n",
    "        self.__attendees = []  # Private list of attendees\n",
    "    \n",
    "    @property\n",
    "    def id(self):\n",
    "        return self.__id\n",
    "    \n",
    "    def add_attendee(self, attendee):\n",
    "        if attendee not in self.__attendees:\n",
    "            self.__attendees.append(attendee)\n",
    "            return True\n",
    "        return False\n",
    "    \n",
    "    def remove_attendee(self, attendee):\n",
    "        if attendee in self.__attendees:\n",
    "            self.__attendees.remove(attendee)\n",
    "            return True\n",
    "        return False\n",
    "    \n",
    "    def get_total_attendees(self):\n",
    "        return len(self.__attendees)\n",
    "    \n",
    "    def __str__(self):\n",
    "        return (f\"Event ID: {self.__id}, Name: {self.name}, Date: {self.date}, \"\n",
    "                f\"Time: {self.time}, Location: {self.location}, \"\n",
    "                f\"Total Attendees: {self.get_total_attendees()}\")\n",
    "    \n",
    "class PrivateEvent(Event):\n",
    "    def __init__(self, name, date, time, location, access_code):\n",
    "        super().__init__(name, date, time, location)\n",
    "        self.access_code = access_code  # Access code for private events\n",
    "    \n",
    "    def __str__(self):\n",
    "        return super().__str__() + f\", Access Code: {self.access_code}\"\n",
    "    \n",
    "class PublicEvent(Event):\n",
    "    def __init__(self, name, date, time, location):\n",
    "        super().__init__(name, date, time, location)\n",
    "    \n",
    "    def __str__(self):\n",
    "        return super().__str__()\n",
    "\n",
    "# Test the Event Management System\n",
    "def test_event_management_system():\n",
    "    \n",
    "    private_event = PrivateEvent(name=\"Wedding Reception\", date=\"2024-09-15\", time=\"07:00 PM\", location=\"Taj Mahal Palace, Mumbai\", access_code=\"WED123\")\n",
    "    public_event = PublicEvent(name=\"Cultural Festival\", date=\"2024-09-20\", time=\"10:00 AM\", location=\"India Gate, Delhi\")\n",
    "    \n",
    "    # Display event details\n",
    "    print(\"Event Details Before Adding Attendees:\")\n",
    "    print(private_event)\n",
    "    print(public_event)\n",
    "    \n",
    "    # Add attendees with Indian names\n",
    "    private_event.add_attendee(\"Amit Sharma\")\n",
    "    private_event.add_attendee(\"Pooja Gupta\")\n",
    "    public_event.add_attendee(\"Rajesh Kumar\")\n",
    "    public_event.add_attendee(\"Anjali Patel\")\n",
    "    \n",
    "    # Display event details after adding attendees\n",
    "    print(\"\\nEvent Details After Adding Attendees:\")\n",
    "    print(private_event)\n",
    "    print(public_event)\n",
    "    \n",
    "    # Remove an attendee\n",
    "    private_event.remove_attendee(\"Amit Sharma\")\n",
    "    \n",
    "    # Display event details after removing an attendee\n",
    "    print(\"\\nEvent Details After Removing an Attendee:\")\n",
    "    print(private_event)\n",
    "    \n",
    "    # Show total attendees\n",
    "    print(f\"\\nTotal Attendees for Public Event: {public_event.get_total_attendees()}\")\n",
    "    print(f\"Total Attendees for Private Event: {private_event.get_total_attendees()}\")\n",
    "\n",
    "# Run the test\n",
    "test_event_management_system()\n"
   ]
  },
  {
   "cell_type": "markdown",
   "metadata": {},
   "source": [
    "## 10.Write a code for Airline Reservation System using OOPs:\n",
    "- Create a Flight class that has attributes such as flight number, departure and arrival airports, departure and arrival times, and available seats (private)\n",
    "- Implement methods to book a seat, cancel a reservation, and get the remaining available seats\n",
    "- Use encapsulation to hide the flight's unique identification number\n",
    "- Inherit from the Flight class to create a DomesticFlight class and an InternationalFlight class, each with their own specific attributes and methods.\n"
   ]
  },
  {
   "cell_type": "code",
   "execution_count": 14,
   "metadata": {},
   "outputs": [
    {
     "name": "stdout",
     "output_type": "stream",
     "text": [
      "Flight Details Before Booking:\n",
      "Flight ID: 1, Flight Number: AI202, Departure: Delhi Airport at 09:00 AM, Arrival: Mumbai Airport at 11:30 AM, Available Seats: 150, State: Maharashtra\n",
      "Flight ID: 2, Flight Number: AI303, Departure: Bengaluru Airport at 10:00 PM, Arrival: London Heathrow at 06:00 AM, Available Seats: 200, Destination Country: United Kingdom\n",
      "\n",
      "Flight Details After Booking Seats:\n",
      "Flight ID: 1, Flight Number: AI202, Departure: Delhi Airport at 09:00 AM, Arrival: Mumbai Airport at 11:30 AM, Available Seats: 149, State: Maharashtra\n",
      "Flight ID: 2, Flight Number: AI303, Departure: Bengaluru Airport at 10:00 PM, Arrival: London Heathrow at 06:00 AM, Available Seats: 199, Destination Country: United Kingdom\n",
      "\n",
      "Flight Details After Cancelling a Reservation:\n",
      "Flight ID: 1, Flight Number: AI202, Departure: Delhi Airport at 09:00 AM, Arrival: Mumbai Airport at 11:30 AM, Available Seats: 150, State: Maharashtra\n",
      "\n",
      "Remaining Seats on Domestic Flight: 150\n",
      "Remaining Seats on International Flight: 199\n"
     ]
    }
   ],
   "source": [
    "class Flight:\n",
    "    _id_counter = 1  # Class variable to generate unique flight IDs\n",
    "    \n",
    "    def __init__(self, flight_number, departure_airport, arrival_airport, departure_time, arrival_time, total_seats):\n",
    "        self.__id = Flight._id_counter  # Private unique identifier\n",
    "        Flight._id_counter += 1\n",
    "        self.flight_number = flight_number\n",
    "        self.departure_airport = departure_airport\n",
    "        self.arrival_airport = arrival_airport\n",
    "        self.departure_time = departure_time\n",
    "        self.arrival_time = arrival_time\n",
    "        self.__total_seats = total_seats  # Total number of seats\n",
    "        self.__available_seats = total_seats  # Initially, all seats are available\n",
    "    \n",
    "    @property\n",
    "    def id(self):\n",
    "        return self.__id\n",
    "    \n",
    "    def book_seat(self):\n",
    "        if self.__available_seats > 0:\n",
    "            self.__available_seats -= 1\n",
    "            return True\n",
    "        return False\n",
    "    \n",
    "    def cancel_reservation(self):\n",
    "        if self.__available_seats < self.__total_seats:\n",
    "            self.__available_seats += 1\n",
    "            return True\n",
    "        return False\n",
    "    \n",
    "    def get_remaining_seats(self):\n",
    "        return self.__available_seats\n",
    "    \n",
    "    def __str__(self):\n",
    "        return (f\"Flight ID: {self.__id}, Flight Number: {self.flight_number}, \"\n",
    "                f\"Departure: {self.departure_airport} at {self.departure_time}, \"\n",
    "                f\"Arrival: {self.arrival_airport} at {self.arrival_time}, \"\n",
    "                f\"Available Seats: {self.get_remaining_seats()}\")\n",
    "    \n",
    "class DomesticFlight(Flight):\n",
    "    def __init__(self, flight_number, departure_airport, arrival_airport, departure_time, arrival_time, total_seats, state):\n",
    "        super().__init__(flight_number, departure_airport, arrival_airport, departure_time, arrival_time, total_seats)\n",
    "        self.state = state \n",
    "    \n",
    "    def __str__(self):\n",
    "        return super().__str__() + f\", State: {self.state}\"\n",
    "    \n",
    "class InternationalFlight(Flight):\n",
    "    def __init__(self, flight_number, departure_airport, arrival_airport, departure_time, arrival_time, total_seats, country):\n",
    "        super().__init__(flight_number, departure_airport, arrival_airport, departure_time, arrival_time, total_seats)\n",
    "        self.country = country  \n",
    "    \n",
    "    def __str__(self):\n",
    "        return super().__str__() + f\", Destination Country: {self.country}\"\n",
    "\n",
    "# Test the Airline Reservation System\n",
    "def test_airline_reservation_system():\n",
    "    # Create instances of DomesticFlight and InternationalFlight\n",
    "    domestic_flight = DomesticFlight(\n",
    "        flight_number=\"AI202\", \n",
    "        departure_airport=\"Delhi Airport\", \n",
    "        arrival_airport=\"Mumbai Airport\", \n",
    "        departure_time=\"09:00 AM\", \n",
    "        arrival_time=\"11:30 AM\", \n",
    "        total_seats=150, \n",
    "        state=\"Maharashtra\"\n",
    "    )\n",
    "    \n",
    "    international_flight = InternationalFlight(\n",
    "        flight_number=\"AI303\", \n",
    "        departure_airport=\"Bengaluru Airport\", \n",
    "        arrival_airport=\"London Heathrow\", \n",
    "        departure_time=\"10:00 PM\", \n",
    "        arrival_time=\"06:00 AM\", \n",
    "        total_seats=200, \n",
    "        country=\"United Kingdom\"\n",
    "    )\n",
    "    \n",
    "    # Display flight details\n",
    "    print(\"Flight Details Before Booking:\")\n",
    "    print(domestic_flight)\n",
    "    print(international_flight)\n",
    "    \n",
    "    # Book seats\n",
    "    domestic_flight.book_seat()\n",
    "    international_flight.book_seat()\n",
    "    \n",
    "    # Display flight details after booking seats\n",
    "    print(\"\\nFlight Details After Booking Seats:\")\n",
    "    print(domestic_flight)\n",
    "    print(international_flight)\n",
    "    \n",
    "    # Cancel a reservation\n",
    "    domestic_flight.cancel_reservation()\n",
    "    \n",
    "    # Display flight details after cancelling a reservation\n",
    "    print(\"\\nFlight Details After Cancelling a Reservation:\")\n",
    "    print(domestic_flight)\n",
    "    \n",
    "    # Show remaining seats\n",
    "    print(f\"\\nRemaining Seats on Domestic Flight: {domestic_flight.get_remaining_seats()}\")\n",
    "    print(f\"Remaining Seats on International Flight: {international_flight.get_remaining_seats()}\")\n",
    "\n",
    "# Run the test\n",
    "test_airline_reservation_system()\n"
   ]
  },
  {
   "cell_type": "markdown",
   "metadata": {},
   "source": []
  }
 ],
 "metadata": {
  "kernelspec": {
   "display_name": "Python 3",
   "language": "python",
   "name": "python3"
  },
  "language_info": {
   "codemirror_mode": {
    "name": "ipython",
    "version": 3
   },
   "file_extension": ".py",
   "mimetype": "text/x-python",
   "name": "python",
   "nbconvert_exporter": "python",
   "pygments_lexer": "ipython3",
   "version": "3.11.7"
  }
 },
 "nbformat": 4,
 "nbformat_minor": 2
}
